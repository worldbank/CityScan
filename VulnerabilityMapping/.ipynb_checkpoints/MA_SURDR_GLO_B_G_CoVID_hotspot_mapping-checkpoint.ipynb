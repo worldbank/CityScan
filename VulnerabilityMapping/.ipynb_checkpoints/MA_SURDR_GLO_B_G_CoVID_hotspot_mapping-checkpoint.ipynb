{
 "cells": [
  {
   "cell_type": "markdown",
   "metadata": {},
   "source": [
    "# Compare building height and population\n",
    "\n",
    "1. Stack population and builidng heights\n",
    "2. Create 2o population layer describing 3x3 population sum\n",
    "3. Calculate service access\n",
    "\n",
    "TODO: Add metadata\n",
    "\n",
    "1. DLR height\n",
    "2. WP Population\n"
   ]
  },
  {
   "cell_type": "code",
   "execution_count": 1,
   "metadata": {},
   "outputs": [],
   "source": [
    "import sys, os, importlib, shutil\n",
    "import rasterio\n",
    "\n",
    "import numpy as np\n",
    "import pandas as pd\n",
    "import geopandas as gpd\n",
    "import osmnx as ox\n",
    "import GOSTnets as gn\n",
    "import skimage.graph as graph\n",
    "\n",
    "from rasterio.mask import mask\n",
    "from rasterio import features\n",
    "from shapely.geometry import box, Point\n",
    "from scipy.ndimage import generic_filter\n",
    "from pandana.loaders import osm\n",
    "\n",
    "sys.path.append(\"../../GOST/\")\n",
    "\n",
    "import GOSTRocks.rasterMisc as rMisc\n",
    "import GOSTRocks.misc as misc\n",
    "import GOSTRocks.osmMisc as osm_misc\n",
    "\n",
    "import hot_spot_mapping as hot"
   ]
  },
  {
   "cell_type": "code",
   "execution_count": 2,
   "metadata": {},
   "outputs": [],
   "source": [
    "wp_vrt = \"/home/public/Data/GLOBAL/Population/WorldPop_PPP_2020/WP_2020_100m.vrt\"\n",
    "wp = rasterio.open(wp_vrt)\n",
    "globcover_data = \"/home/public/Data/GLOBAL/LANDCOVER/GLOBCOVER/2015/ESACCI-LC-L4-LCCS-Map-300m-P1Y-2015-v2.0.7.tif\"\n",
    "inWSF_folder = \"/home/public/Data/PROJECTS/LEI/DLR_V3\"\n",
    "out_folder = \"/home/wb411133/data/Projects/HeightComparison\"\n",
    "\n",
    "#Get a list of cities\n",
    "allCities = {}\n",
    "for root, dirs, files in os.walk(inWSF_folder):\n",
    "    for f in files:\n",
    "        if f[-4:] == \".tif\":\n",
    "            cityName = f.split(\"_\")[0]\n",
    "            if not cityName in allCities.keys():\n",
    "                allCities[cityName] = [os.path.join(root, f)]\n",
    "            else:\n",
    "                allCities[cityName].append(os.path.join(root, f))"
   ]
  },
  {
   "cell_type": "code",
   "execution_count": 3,
   "metadata": {},
   "outputs": [],
   "source": [
    "glob_pop_raster = rasterio.open(wp_vrt)\n",
    "globR = rasterio.open(globcover_data)\n"
   ]
  },
  {
   "cell_type": "code",
   "execution_count": 6,
   "metadata": {},
   "outputs": [
    {
     "name": "stdout",
     "output_type": "stream",
     "text": [
      "14:45:21\tProcessing balikpapan\n"
     ]
    },
    {
     "name": "stderr",
     "output_type": "stream",
     "text": [
      "/home/wb411133/Code/CityScan/VulnerabilityMapping/hot_spot_mapping.py:349: RuntimeWarning: divide by zero encountered in true_divide\n",
      "  pop_by_floor = pop_data/height_data\n",
      "/home/wb411133/Code/CityScan/VulnerabilityMapping/hot_spot_mapping.py:349: RuntimeWarning: invalid value encountered in true_divide\n",
      "  pop_by_floor = pop_data/height_data\n",
      "/home/wb411133/Code/CityScan/VulnerabilityMapping/hot_spot_mapping.py:350: RuntimeWarning: invalid value encountered in less\n",
      "  pop_by_floor[pop_by_floor < 0] = 0\n",
      "/home/wb411133/Code/CityScan/VulnerabilityMapping/hot_spot_mapping.py:351: RuntimeWarning: invalid value encountered in greater\n",
      "  pop_by_floor[pop_by_floor > 10000] = 0\n",
      "/home/wb411133/Code/CityScan/VulnerabilityMapping/hot_spot_mapping.py:159: RuntimeWarning: invalid value encountered in greater\n",
      "  pop_h = (pop_h > thresh).astype(int)\n",
      "/home/wb411133/Code/CityScan/VulnerabilityMapping/hot_spot_mapping.py:169: RuntimeWarning: invalid value encountered in greater\n",
      "  inR = (inR > thresh).astype(int)\n"
     ]
    },
    {
     "name": "stdout",
     "output_type": "stream",
     "text": [
      "14:45:36\tProcessing brazzaville\n",
      "14:45:49\tProcessing capetown1\n",
      "14:46:05\tProcessing capetown2\n",
      "14:46:20\tProcessing denpasar\n",
      "14:46:37\tProcessing maputo1\n",
      "14:46:50\tProcessing maputo2\n",
      "14:47:05\tProcessing pointnoire\n",
      "14:47:16\tProcessing semarang1\n",
      "14:47:31\tProcessing semarang2\n",
      "14:48:14\tProcessing yangon\n",
      "14:48:26\tProcessing dar-es-salaam\n",
      "14:48:42\tProcessing kinshasa\n",
      "14:48:56\tProcessing monrovia\n",
      "14:49:05\tProcessing nairobi\n",
      "14:49:18\tProcessing sanpedrosula\n"
     ]
    }
   ],
   "source": [
    "importlib.reload(hot)\n",
    "window = 9\n",
    "dist_decay = 0.01\n",
    "all_results = []\n",
    "base_map = \"/home/wb411133/data/Projects/HeightComparison/Dhaka/map.qgz\" \n",
    "for city_name in allCities.keys():\n",
    "    cur_folder = os.path.join(out_folder, city_name) \n",
    "    if True:#not city_name in res['city'].values:\n",
    "        try:\n",
    "            misc.tPrint(\"Processing %s\" % city_name)\n",
    "            if not os.path.exists(cur_folder):\n",
    "                os.makedirs(cur_folder)\n",
    "            out_map = os.path.join(cur_folder, os.path.basename(base_map))\n",
    "            if not base_map == out_map:\n",
    "                shutil.copy(base_map, out_map)\n",
    "            city = hot.city_hotspot(allCities[city_name][0], cur_folder)\n",
    "            city.extract_other_rasters(glob_pop_raster, globR)\n",
    "            rosads = city.extract_osm_data()\n",
    "            xx = city.generate_walking_raster()\n",
    "            city.calculate_accessibility()\n",
    "            city.calculate_pop_hotspots()\n",
    "\n",
    "\n",
    "            hotspot_datasets = []\n",
    "            for time_raster in [os.path.join(cur_folder, \"shops_distance_roads.tif\"),\n",
    "                                os.path.join(cur_folder, \"toilets_distance_roads.tif\"),\n",
    "                                os.path.join(cur_folder, \"water_points_distance_roads.tif\")]:\n",
    "                if os.path.exists(time_raster):\n",
    "                    pop_raster = os.path.join(cur_folder, \"wp_2020_re.tif\")\n",
    "                    access_hotspot = time_raster.replace(\"distance_roads\", \"hotspots\")\n",
    "\n",
    "                    hotspot_datasets.append(access_hotspot)\n",
    "                    if not os.path.exists(access_hotspot):\n",
    "                        new_pop = city.calculate_accessibility_hotspots_original(time_raster, pop_raster, dist_decay=dist_decay, window=window)\n",
    "                        city.calculate_pop_hotspots(pop_layer = new_pop, out_file=access_hotspot)\n",
    "\n",
    "            results = city.combine_results(os.path.join(cur_folder, 'map.qgz'), hotspot_datasets)\n",
    "            results['city'] = city_name\n",
    "            all_results.append(results)\n",
    "        except:\n",
    "            misc.tPrint(\"Error processing %s\" % city_name)"
   ]
  },
  {
   "cell_type": "code",
   "execution_count": 7,
   "metadata": {},
   "outputs": [
    {
     "data": {
      "text/html": [
       "<div>\n",
       "<style scoped>\n",
       "    .dataframe tbody tr th:only-of-type {\n",
       "        vertical-align: middle;\n",
       "    }\n",
       "\n",
       "    .dataframe tbody tr th {\n",
       "        vertical-align: top;\n",
       "    }\n",
       "\n",
       "    .dataframe thead th {\n",
       "        text-align: right;\n",
       "    }\n",
       "</style>\n",
       "<table border=\"1\" class=\"dataframe\">\n",
       "  <thead>\n",
       "    <tr style=\"text-align: right;\">\n",
       "      <th></th>\n",
       "      <th>city</th>\n",
       "      <th>combo_hotspot</th>\n",
       "      <th>pop_hotspot</th>\n",
       "      <th>shops_hotspots</th>\n",
       "      <th>toilets_hotspots</th>\n",
       "      <th>total_pop</th>\n",
       "      <th>water_points_hotspots</th>\n",
       "    </tr>\n",
       "  </thead>\n",
       "  <tbody>\n",
       "    <tr>\n",
       "      <th>0</th>\n",
       "      <td>balikpapan</td>\n",
       "      <td>5.461474e+04</td>\n",
       "      <td>5.446324e+04</td>\n",
       "      <td>NaN</td>\n",
       "      <td>1.515011e+02</td>\n",
       "      <td>1.910360e+06</td>\n",
       "      <td>NaN</td>\n",
       "    </tr>\n",
       "    <tr>\n",
       "      <th>1</th>\n",
       "      <td>brazzaville</td>\n",
       "      <td>7.499687e+06</td>\n",
       "      <td>6.479126e+06</td>\n",
       "      <td>2.814215e+06</td>\n",
       "      <td>0.000000e+00</td>\n",
       "      <td>1.612659e+07</td>\n",
       "      <td>3.470121e+04</td>\n",
       "    </tr>\n",
       "    <tr>\n",
       "      <th>2</th>\n",
       "      <td>capetown1</td>\n",
       "      <td>2.561305e+06</td>\n",
       "      <td>2.068224e+06</td>\n",
       "      <td>7.139424e+05</td>\n",
       "      <td>1.985630e+05</td>\n",
       "      <td>5.742207e+06</td>\n",
       "      <td>9.737854e+04</td>\n",
       "    </tr>\n",
       "    <tr>\n",
       "      <th>3</th>\n",
       "      <td>capetown2</td>\n",
       "      <td>2.054362e+06</td>\n",
       "      <td>1.963326e+06</td>\n",
       "      <td>NaN</td>\n",
       "      <td>3.012437e+05</td>\n",
       "      <td>3.686149e+06</td>\n",
       "      <td>2.978311e+05</td>\n",
       "    </tr>\n",
       "    <tr>\n",
       "      <th>4</th>\n",
       "      <td>denpasar</td>\n",
       "      <td>5.033142e+05</td>\n",
       "      <td>3.940788e+05</td>\n",
       "      <td>NaN</td>\n",
       "      <td>1.267224e+05</td>\n",
       "      <td>7.694259e+06</td>\n",
       "      <td>1.254900e+04</td>\n",
       "    </tr>\n",
       "    <tr>\n",
       "      <th>5</th>\n",
       "      <td>maputo1</td>\n",
       "      <td>8.433879e+05</td>\n",
       "      <td>4.444954e+05</td>\n",
       "      <td>5.126678e+05</td>\n",
       "      <td>2.145285e+04</td>\n",
       "      <td>5.633006e+06</td>\n",
       "      <td>5.969834e+04</td>\n",
       "    </tr>\n",
       "    <tr>\n",
       "      <th>6</th>\n",
       "      <td>maputo2</td>\n",
       "      <td>8.951467e+01</td>\n",
       "      <td>8.951467e+01</td>\n",
       "      <td>NaN</td>\n",
       "      <td>0.000000e+00</td>\n",
       "      <td>4.698724e+05</td>\n",
       "      <td>NaN</td>\n",
       "    </tr>\n",
       "    <tr>\n",
       "      <th>7</th>\n",
       "      <td>pointnoire</td>\n",
       "      <td>2.985956e+04</td>\n",
       "      <td>2.904139e+02</td>\n",
       "      <td>2.816178e+04</td>\n",
       "      <td>NaN</td>\n",
       "      <td>7.714028e+05</td>\n",
       "      <td>2.432058e+03</td>\n",
       "    </tr>\n",
       "    <tr>\n",
       "      <th>8</th>\n",
       "      <td>semarang1</td>\n",
       "      <td>4.141844e+05</td>\n",
       "      <td>3.412124e+05</td>\n",
       "      <td>NaN</td>\n",
       "      <td>6.565043e+04</td>\n",
       "      <td>8.460174e+06</td>\n",
       "      <td>1.505419e+04</td>\n",
       "    </tr>\n",
       "    <tr>\n",
       "      <th>9</th>\n",
       "      <td>semarang2</td>\n",
       "      <td>2.345912e+06</td>\n",
       "      <td>1.027160e+06</td>\n",
       "      <td>1.459473e+06</td>\n",
       "      <td>1.392401e+05</td>\n",
       "      <td>2.587689e+07</td>\n",
       "      <td>1.565411e+04</td>\n",
       "    </tr>\n",
       "    <tr>\n",
       "      <th>10</th>\n",
       "      <td>yangon</td>\n",
       "      <td>6.789739e+06</td>\n",
       "      <td>4.893512e+06</td>\n",
       "      <td>5.148892e+06</td>\n",
       "      <td>1.166808e+06</td>\n",
       "      <td>1.201921e+07</td>\n",
       "      <td>4.661054e+05</td>\n",
       "    </tr>\n",
       "    <tr>\n",
       "      <th>11</th>\n",
       "      <td>dar-es-salaam</td>\n",
       "      <td>8.615132e+06</td>\n",
       "      <td>7.289880e+06</td>\n",
       "      <td>6.806889e+06</td>\n",
       "      <td>3.834939e+06</td>\n",
       "      <td>1.388156e+07</td>\n",
       "      <td>3.526199e+06</td>\n",
       "    </tr>\n",
       "    <tr>\n",
       "      <th>12</th>\n",
       "      <td>kinshasa</td>\n",
       "      <td>8.839469e+06</td>\n",
       "      <td>8.219048e+06</td>\n",
       "      <td>3.057855e+06</td>\n",
       "      <td>0.000000e+00</td>\n",
       "      <td>1.612659e+07</td>\n",
       "      <td>4.446159e+04</td>\n",
       "    </tr>\n",
       "    <tr>\n",
       "      <th>13</th>\n",
       "      <td>monrovia</td>\n",
       "      <td>7.750626e+05</td>\n",
       "      <td>6.541556e+05</td>\n",
       "      <td>1.630265e+05</td>\n",
       "      <td>3.583443e+04</td>\n",
       "      <td>3.763131e+06</td>\n",
       "      <td>7.771831e+04</td>\n",
       "    </tr>\n",
       "    <tr>\n",
       "      <th>14</th>\n",
       "      <td>nairobi</td>\n",
       "      <td>7.560775e+06</td>\n",
       "      <td>6.620249e+06</td>\n",
       "      <td>4.188232e+06</td>\n",
       "      <td>2.406544e+06</td>\n",
       "      <td>1.227133e+07</td>\n",
       "      <td>2.747067e+06</td>\n",
       "    </tr>\n",
       "    <tr>\n",
       "      <th>15</th>\n",
       "      <td>sanpedrosula</td>\n",
       "      <td>3.082882e+06</td>\n",
       "      <td>3.189994e+05</td>\n",
       "      <td>2.814215e+06</td>\n",
       "      <td>0.000000e+00</td>\n",
       "      <td>1.612659e+07</td>\n",
       "      <td>3.470121e+04</td>\n",
       "    </tr>\n",
       "  </tbody>\n",
       "</table>\n",
       "</div>"
      ],
      "text/plain": [
       "             city  combo_hotspot   pop_hotspot  shops_hotspots  \\\n",
       "0      balikpapan   5.461474e+04  5.446324e+04             NaN   \n",
       "1     brazzaville   7.499687e+06  6.479126e+06    2.814215e+06   \n",
       "2       capetown1   2.561305e+06  2.068224e+06    7.139424e+05   \n",
       "3       capetown2   2.054362e+06  1.963326e+06             NaN   \n",
       "4        denpasar   5.033142e+05  3.940788e+05             NaN   \n",
       "5         maputo1   8.433879e+05  4.444954e+05    5.126678e+05   \n",
       "6         maputo2   8.951467e+01  8.951467e+01             NaN   \n",
       "7      pointnoire   2.985956e+04  2.904139e+02    2.816178e+04   \n",
       "8       semarang1   4.141844e+05  3.412124e+05             NaN   \n",
       "9       semarang2   2.345912e+06  1.027160e+06    1.459473e+06   \n",
       "10         yangon   6.789739e+06  4.893512e+06    5.148892e+06   \n",
       "11  dar-es-salaam   8.615132e+06  7.289880e+06    6.806889e+06   \n",
       "12       kinshasa   8.839469e+06  8.219048e+06    3.057855e+06   \n",
       "13       monrovia   7.750626e+05  6.541556e+05    1.630265e+05   \n",
       "14        nairobi   7.560775e+06  6.620249e+06    4.188232e+06   \n",
       "15   sanpedrosula   3.082882e+06  3.189994e+05    2.814215e+06   \n",
       "\n",
       "    toilets_hotspots     total_pop  water_points_hotspots  \n",
       "0       1.515011e+02  1.910360e+06                    NaN  \n",
       "1       0.000000e+00  1.612659e+07           3.470121e+04  \n",
       "2       1.985630e+05  5.742207e+06           9.737854e+04  \n",
       "3       3.012437e+05  3.686149e+06           2.978311e+05  \n",
       "4       1.267224e+05  7.694259e+06           1.254900e+04  \n",
       "5       2.145285e+04  5.633006e+06           5.969834e+04  \n",
       "6       0.000000e+00  4.698724e+05                    NaN  \n",
       "7                NaN  7.714028e+05           2.432058e+03  \n",
       "8       6.565043e+04  8.460174e+06           1.505419e+04  \n",
       "9       1.392401e+05  2.587689e+07           1.565411e+04  \n",
       "10      1.166808e+06  1.201921e+07           4.661054e+05  \n",
       "11      3.834939e+06  1.388156e+07           3.526199e+06  \n",
       "12      0.000000e+00  1.612659e+07           4.446159e+04  \n",
       "13      3.583443e+04  3.763131e+06           7.771831e+04  \n",
       "14      2.406544e+06  1.227133e+07           2.747067e+06  \n",
       "15      0.000000e+00  1.612659e+07           3.470121e+04  "
      ]
     },
     "execution_count": 7,
     "metadata": {},
     "output_type": "execute_result"
    }
   ],
   "source": [
    "res = pd.DataFrame(all_results)\n",
    "res"
   ]
  },
  {
   "cell_type": "code",
   "execution_count": 9,
   "metadata": {},
   "outputs": [],
   "source": [
    "res.to_csv(\"%s_Hotspot_summary_3.csv\" % inWSF_folder)"
   ]
  },
  {
   "cell_type": "markdown",
   "metadata": {},
   "source": [
    "# Debugging Below"
   ]
  },
  {
   "cell_type": "code",
   "execution_count": 66,
   "metadata": {},
   "outputs": [
    {
     "name": "stderr",
     "output_type": "stream",
     "text": [
      "/home/wb411133/.conda/envs/geog/lib/python3.7/site-packages/ipykernel_launcher.py:10: RuntimeWarning: divide by zero encountered in true_divide\n",
      "  # Remove the CWD from sys.path while we load stuff.\n"
     ]
    }
   ],
   "source": [
    "cur_folder = os.path.join(out_folder, \"Cairo\") \n",
    "\n",
    "time_raster = os.path.join(cur_folder, \"shops_distance_roads.tif\")\n",
    "pop_raster = os.path.join(cur_folder, \"wp_2020_re.tif\")\n",
    "pop_floor_raster = os.path.join(cur_folder, \"pop_floor.tif\")\n",
    "window=25\n",
    "\n",
    "timeR = rasterio.open(time_raster)\n",
    "timeD = timeR.read()\n",
    "invD = 1/((timeD/60)**2)\n",
    "invD[timeD == 0.0] = 0\n",
    "\n",
    "popR = rasterio.open(pop_floor_raster)\n",
    "popD = popR.read()\n",
    "popD[np.isnan(popD)] = 0\n",
    "pop_inv = invD * popD\n",
    "out = pop_inv * 0\n",
    "\n",
    "yy = generic_filter(pop_inv[0,:,:], sum, (window, window))\n",
    "yy = yy.astype(popR.meta['dtype'])\n",
    "yy = yy * invD\n",
    "yy[timeD == 0.0] = yy.max()\n",
    "\n",
    "out_hotspots = os.path.join(cur_folder, \"orig_shops_hotspots_%s_2.tif\" % window)\n",
    "with rasterio.open(out_hotspots, 'w', **popR.meta) as outR:\n",
    "    outR.write(yy)"
   ]
  },
  {
   "cell_type": "code",
   "execution_count": 65,
   "metadata": {},
   "outputs": [],
   "source": [
    "\n",
    "\n",
    "out_hotspots = os.path.join(cur_folder, \"orig_shops_hotspots_%s_3.tif\" % window)\n",
    "with rasterio.open(out_hotspots, 'w', **popR.meta) as outR:\n",
    "    outR.write(yy)"
   ]
  },
  {
   "cell_type": "code",
   "execution_count": 64,
   "metadata": {},
   "outputs": [
    {
     "data": {
      "text/plain": [
       "array([0., 0., 0., 0., 0., 0., 0., 0., 0., 0., 0., 0., 0., 0., 0., 0., 0.,\n",
       "       0., 0., 0., 0., 0., 0., 0., 0., 0., 0., 0., 0., 0., 0., 0., 0., 0.,\n",
       "       0., 0., 0., 0., 0., 0., 0., 0., 0., 0., 0., 0., 0., 0., 0., 0., 0.,\n",
       "       0., 0., 0., 0., 0., 0., 0., 0., 0., 0., 0., 0., 0., 0., 0., 0., 0.,\n",
       "       0., 0., 0., 0., 0., 0., 0., 0., 0., 0., 0., 0., 0., 0., 0., 0., 0.,\n",
       "       0., 0., 0., 0., 0., 0., 0., 0., 0., 0., 0., 0., 0., 0., 0., 0., 0.,\n",
       "       0., 0., 0., 0., 0., 0., 0., 0., 0., 0., 0., 0., 0., 0., 0., 0., 0.,\n",
       "       0., 0., 0., 0., 0., 0., 0., 0., 0., 0., 0., 0., 0., 0., 0., 0., 0.,\n",
       "       0., 0., 0., 0., 0., 0., 0., 0., 0., 0., 0., 0., 0., 0., 0., 0., 0.,\n",
       "       0., 0., 0., 0., 0., 0., 0., 0., 0., 0., 0., 0., 0., 0., 0., 0., 0.,\n",
       "       0., 0., 0., 0., 0., 0., 0., 0., 0., 0., 0., 0., 0., 0., 0., 0., 0.,\n",
       "       0., 0., 0., 0., 0., 0., 0., 0., 0., 0., 0., 0., 0., 0., 0., 0., 0.,\n",
       "       0., 0., 0., 0., 0., 0., 0., 0., 0., 0., 0., 0., 0., 0., 0., 0., 0.,\n",
       "       0., 0., 0., 0., 0., 0., 0., 0., 0., 0., 0., 0., 0., 0., 0., 0., 0.,\n",
       "       0., 0., 0., 0., 0., 0., 0., 0., 0., 0., 0., 0., 0., 0., 0., 0., 0.,\n",
       "       0., 0., 0., 0., 0., 0., 0., 0., 0., 0., 0., 0., 0., 0., 0., 0., 0.,\n",
       "       0., 0., 0., 0., 0., 0., 0., 0., 0., 0., 0., 0., 0., 0., 0., 0., 0.,\n",
       "       0., 0., 0., 0., 0., 0., 0., 0., 0., 0., 0., 0., 0., 0., 0., 0., 0.,\n",
       "       0., 0., 0., 0., 0., 0., 0., 0., 0., 0., 0., 0., 0., 0., 0., 0., 0.,\n",
       "       0., 0., 0., 0., 0., 0., 0., 0., 0., 0., 0., 0., 0., 0., 0., 0., 0.,\n",
       "       0., 0., 0., 0., 0., 0., 0., 0., 0., 0., 0., 0., 0., 0., 0., 0., 0.,\n",
       "       0., 0., 0., 0., 0., 0., 0., 0., 0., 0., 0., 0., 0., 0., 0., 0., 0.,\n",
       "       0., 0., 0., 0., 0., 0., 0., 0., 0., 0., 0., 0., 0., 0., 0., 0., 0.,\n",
       "       0., 0., 0., 0., 0., 0., 0., 0., 0., 0., 0., 0., 0., 0., 0., 0., 0.,\n",
       "       0., 0., 0., 0., 0., 0., 0., 0., 0., 0., 0., 0., 0., 0., 0., 0., 0.,\n",
       "       0., 0., 0., 0., 0., 0., 0., 0., 0., 0., 0., 0., 0., 0., 0., 0., 0.,\n",
       "       0., 0., 0., 0., 0., 0., 0., 0., 0., 0., 0., 0., 0., 0., 0., 0., 0.,\n",
       "       0., 0., 0., 0., 0., 0., 0., 0., 0., 0., 0., 0., 0., 0., 0., 0., 0.,\n",
       "       0., 0., 0., 0., 0., 0., 0., 0., 0., 0., 0., 0., 0., 0., 0., 0., 0.,\n",
       "       0., 0., 0., 0., 0., 0., 0., 0., 0., 0., 0., 0., 0., 0., 0., 0., 0.,\n",
       "       0., 0., 0., 0., 0., 0., 0., 0., 0., 0., 0., 0., 0., 0., 0., 0., 0.,\n",
       "       0., 0., 0., 0., 0., 0., 0., 0., 0., 0., 0., 0., 0., 0., 0., 0., 0.,\n",
       "       0., 0., 0., 0., 0., 0., 0., 0., 0., 0., 0., 0., 0., 0., 0., 0., 0.,\n",
       "       0., 0., 0., 0., 0., 0., 0., 0., 0., 0., 0., 0., 0., 0., 0., 0., 0.,\n",
       "       0., 0., 0., 0., 0., 0., 0., 0., 0., 0., 0., 0., 0., 0., 0.])"
      ]
     },
     "execution_count": 64,
     "metadata": {},
     "output_type": "execute_result"
    }
   ],
   "source": [
    "yy[timeD == 0.0]"
   ]
  },
  {
   "cell_type": "code",
   "execution_count": 47,
   "metadata": {},
   "outputs": [],
   "source": [
    "out_hotspots = os.path.join(cur_folder, \"inv_travel.tif\")\n",
    "invD = invD.astype(popR.meta['dtype'])\n",
    "with rasterio.open(out_hotspots, 'w', **popR.meta) as outR:\n",
    "    outR.write_band(1, invD[0,:,:])"
   ]
  },
  {
   "cell_type": "code",
   "execution_count": 60,
   "metadata": {},
   "outputs": [
    {
     "data": {
      "text/plain": [
       "57.94511268961499"
      ]
     },
     "execution_count": 60,
     "metadata": {},
     "output_type": "execute_result"
    }
   ],
   "source": []
  },
  {
   "cell_type": "code",
   "execution_count": null,
   "metadata": {},
   "outputs": [],
   "source": []
  },
  {
   "cell_type": "code",
   "execution_count": null,
   "metadata": {},
   "outputs": [],
   "source": [
    "\n",
    "#Create inverse time raster\n",
    "decayFunction = lambda x: np.exp(-1 * dist_decay * x)\n",
    "decayDist = decayFunction(distR)\n",
    "# multiply distance decay raster by Population\n",
    "decayPop = popR * decayDist\n",
    "decayPop = decayPop.astype(pop_raster.meta['dtype'])\n",
    "\n",
    "#For the locations where the shops are located, set the pop to 0\n",
    "decayPop[decayPop == popR] = 0\n",
    "out = decayPop * 0"
   ]
  },
  {
   "cell_type": "code",
   "execution_count": null,
   "metadata": {},
   "outputs": [],
   "source": [
    "window"
   ]
  },
  {
   "cell_type": "code",
   "execution_count": null,
   "metadata": {},
   "outputs": [],
   "source": [
    "\n",
    "# apply summary function across decay pop raster summarizing \n",
    "#   pop within a roving window, only summing population that is further away\n",
    "def get_sum(P):\n",
    "    return(P.sum())\n",
    "out[0,:,:] = generic_filter(decayPop[0,:,:], sum, (window,window))"
   ]
  },
  {
   "cell_type": "code",
   "execution_count": null,
   "metadata": {},
   "outputs": [],
   "source": [
    "popR = pop_raster.read()\n",
    "xx = np.dstack([popR[0,:,:], distR[0,:,:]])\n",
    "xx.shape"
   ]
  },
  {
   "cell_type": "code",
   "execution_count": null,
   "metadata": {},
   "outputs": [],
   "source": [
    "pop = popR[0,600:605,400:405]\n",
    "dist = xx[600:605,400:405,1]"
   ]
  },
  {
   "cell_type": "code",
   "execution_count": null,
   "metadata": {},
   "outputs": [],
   "source": [
    "pop"
   ]
  },
  {
   "cell_type": "code",
   "execution_count": null,
   "metadata": {},
   "outputs": [],
   "source": [
    "(dist < dist[2,2]).astype(int) * pop"
   ]
  },
  {
   "cell_type": "code",
   "execution_count": null,
   "metadata": {},
   "outputs": [],
   "source": [
    "pop[]"
   ]
  },
  {
   "cell_type": "code",
   "execution_count": null,
   "metadata": {},
   "outputs": [],
   "source": [
    "out_data = xx[:,:,0] * 0\n",
    "window=25\n",
    "half = math.floor(window/2)\n",
    "for row in range(half, decayPop.shape[1]-half):\n",
    "    for col in range(half, decayPop.shape[2]-half):\n",
    "        focal_dist = xx[row,col,1]\n",
    "        pop  = decayPop[0,(row-half):(row+half),(col-half):(col+half)]\n",
    "        dist = xx[(row-half):(row+half),(col-half):(col+half),1]\n",
    "        pop = (dist < focal_dist).astype(int) * pop\n",
    "        out_data[row,col] = pop.sum()"
   ]
  },
  {
   "cell_type": "code",
   "execution_count": null,
   "metadata": {},
   "outputs": [],
   "source": [
    "pop  = decayPop[0,(row-half):(row+half),(col-half):(col+half)]\n",
    "pop"
   ]
  },
  {
   "cell_type": "code",
   "execution_count": null,
   "metadata": {},
   "outputs": [],
   "source": [
    "decay_raster_window = os.path.join(cur_folder, \"wp_2020_decay_pop_window_manual.tif\")\n",
    "        \n",
    "with rasterio.open(decay_raster_window, 'w', **distance_raster.meta) as out_file:\n",
    "    out_file.write_band(1, out_data)"
   ]
  },
  {
   "cell_type": "code",
   "execution_count": null,
   "metadata": {},
   "outputs": [],
   "source": [
    "import math\n",
    "def sum_less_than_center(P):   \n",
    "    P = P.reshape((3,3,2))\n",
    "    pop = P[:,:,0]\n",
    "    dist = P[:,:,0]\n",
    "    center = math.floor(pop.shape[0]/2)\n",
    "    min_dist = dist[center,center]\n",
    "    pop[dist < min_dist] = 0\n",
    "    return(pop.sum())\n",
    "\n",
    "out = xx[:,:,:] * 0\n",
    "yy = generic_filter(xx, sum_less_than_center, (3,3,2), output=out)"
   ]
  },
  {
   "cell_type": "code",
   "execution_count": null,
   "metadata": {},
   "outputs": [],
   "source": [
    "yy.shape"
   ]
  },
  {
   "cell_type": "code",
   "execution_count": null,
   "metadata": {},
   "outputs": [],
   "source": []
  },
  {
   "cell_type": "code",
   "execution_count": null,
   "metadata": {},
   "outputs": [],
   "source": [
    "import skimage.morphology as watershed\n",
    "from scipy import ndimage"
   ]
  },
  {
   "cell_type": "code",
   "execution_count": null,
   "metadata": {},
   "outputs": [],
   "source": [
    "in_raster = rasterio.open(time_raster)\n",
    "inD = in_raster.read()\n",
    "#inD = abs(inD - inD.max())\n",
    "local_maxima = watershed.local_maxima(inD)\n",
    "markers = ndimage.label(local_maxima)[0]\n",
    "sheds = watershed.watershed(inD, markers)"
   ]
  },
  {
   "cell_type": "code",
   "execution_count": null,
   "metadata": {},
   "outputs": [],
   "source": [
    "markers"
   ]
  },
  {
   "cell_type": "code",
   "execution_count": null,
   "metadata": {},
   "outputs": [],
   "source": [
    "meta = in_raster.meta.copy()\n",
    "meta.update(dtype=sheds.dtype)\n",
    "with rasterio.open(time_raster.replace(\".tif\", \"markers.tif\"), 'w', **meta) as out:\n",
    "    out.write(markers)\n",
    "    \n",
    "with rasterio.open(time_raster.replace(\".tif\", \"sheds.tif\"), 'w', **meta) as out:\n",
    "    out.write(sheds)"
   ]
  },
  {
   "cell_type": "code",
   "execution_count": null,
   "metadata": {},
   "outputs": [],
   "source": [
    "importlib.reload(hot)\n",
    "bad_cities = []\n",
    "for city_name, rasters in allCities.items():\n",
    "    try:\n",
    "        print(city_name)\n",
    "        cur_folder = os.path.join(out_folder, city_name)\n",
    "        if not os.path.exists(cur_folder):\n",
    "            os.makedirs(cur_folder)\n",
    "        city = hot.city_hotspot(rasters[0], cur_folder)\n",
    "        city.extract_other_rasters(pop_raster, globR)\n",
    "        rosads = city.extract_osm_data()\n",
    "        xx = city.generate_walking_raster()\n",
    "        city.calculate_accessibility()\n",
    "        city.calculate_pop_hotspots()\n",
    "    except:\n",
    "        bad_cities.append(city_name)"
   ]
  },
  {
   "cell_type": "markdown",
   "metadata": {},
   "source": [
    "# Deburgging BELOW\n"
   ]
  },
  {
   "cell_type": "code",
   "execution_count": null,
   "metadata": {},
   "outputs": [],
   "source": [
    "in_folder = os.path.join(out_folder, \"IDN\")\n",
    "\n",
    "urban_areas = os.path.join(in_folder, \"urban_areas_hd.shp\")"
   ]
  }
 ],
 "metadata": {
  "kernelspec": {
   "display_name": "Python (geog)",
   "language": "python",
   "name": "geog"
  },
  "language_info": {
   "codemirror_mode": {
    "name": "ipython",
    "version": 3
   },
   "file_extension": ".py",
   "mimetype": "text/x-python",
   "name": "python",
   "nbconvert_exporter": "python",
   "pygments_lexer": "ipython3",
   "version": "3.7.1"
  }
 },
 "nbformat": 4,
 "nbformat_minor": 2
}
