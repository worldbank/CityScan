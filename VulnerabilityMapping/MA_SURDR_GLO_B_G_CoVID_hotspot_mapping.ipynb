{
 "cells": [
  {
   "cell_type": "markdown",
   "metadata": {},
   "source": [
    "# Compare building height and population\n",
    "\n",
    "1. Stack population and builidng heights\n",
    "2. Create 2o population layer describing 3x3 population sum\n",
    "3. Calculate service access\n",
    "\n"
   ]
  },
  {
   "cell_type": "code",
   "execution_count": 144,
   "metadata": {},
   "outputs": [],
   "source": [
    "import sys, os, importlib\n",
    "import rasterio\n",
    "\n",
    "import numpy as np\n",
    "import pandas as pd\n",
    "import geopandas as gpd\n",
    "import osmnx as ox\n",
    "import GOSTnets as gn\n",
    "import skimage.graph as graph\n",
    "\n",
    "from rasterio.mask import mask\n",
    "from rasterio import features\n",
    "from shapely.geometry import box, Point\n",
    "from scipy.ndimage import generic_filter\n",
    "from pandana.loaders import osm\n",
    "\n",
    "sys.path.append(\"../../GOST\")\n",
    "\n",
    "import GOSTRocks.rasterMisc as rMisc\n",
    "import GOSTRocks.misc as misc\n",
    "import GOSTRocks.osmMisc as osm_misc"
   ]
  },
  {
   "cell_type": "code",
   "execution_count": 29,
   "metadata": {},
   "outputs": [],
   "source": [
    "wp_vrt = \"/home/public/Data/GLOBAL/Population/WorldPop_PPP_2020/WP_2020_100m.vrt\"\n",
    "wp = rasterio.open(wp_vrt)\n",
    "inWSF_folder = \"/home/public/Data/PROJECTS/LEI/DLR_V2\"\n",
    "out_folder = \"/home/wb411133/data/Projects/HeightComparison\"\n",
    "\n",
    "#Get a list of cities\n",
    "allCities = {}\n",
    "for root, dirs, files in os.walk(inWSF_folder):\n",
    "    for f in files:\n",
    "        if f[-4:] == \".tif\":\n",
    "            cityName = f.split(\"_\")[0]\n",
    "            if not cityName in allCities.keys():\n",
    "                allCities[cityName] = [os.path.join(root, f)]\n",
    "            else:\n",
    "                allCities[cityName].append(os.path.join(root, f))"
   ]
  },
  {
   "cell_type": "code",
   "execution_count": 30,
   "metadata": {},
   "outputs": [],
   "source": [
    "city = \"Dhaka\"\n",
    "cur_city = allCities[city]\n",
    "cur_folder = os.path.join(out_folder, city)\n",
    "if not os.path.exists(cur_folder):\n",
    "    os.makedirs(cur_folder)"
   ]
  },
  {
   "cell_type": "code",
   "execution_count": 63,
   "metadata": {},
   "outputs": [],
   "source": [
    "inH = rasterio.open(cur_city[0])\n",
    "# extract WP data from current extent and standardize extent and resolution to height data\n",
    "bounds = box(*inH.bounds)\n",
    "wp_data, out_transform = mask(wp, shapes=[bounds], crop=True)\n",
    "wp_data[wp_data < 0] = 0\n",
    "# sum filter\n",
    "def sum(P):    \n",
    "    return(P.sum())\n",
    "\n",
    "wp_data[0,:,:] = generic_filter(wp_data[0,:,:], sum, (3,3))\n",
    "meta = inH.meta.copy()\n",
    "meta.update(width=wp_data.shape[2], \n",
    "            height=wp_data.shape[1],\n",
    "            transform=out_transform,\n",
    "           dtype = wp_data.dtype)\n",
    "wp_file = os.path.join(cur_folder, \"wp_2020.tif\")\n",
    "wp_file_reproj = os.path.join(cur_folder, \"wp_2020_re.tif\")\n",
    "wp_file_reproj_smooth = os.path.join(cur_folder, \"wp_2020_re_smooth.tif\")\n",
    "\n",
    "with rasterio.open(wp_file, 'w', **meta) as out:\n",
    "    out.write(wp_data)\n",
    "    \n",
    "rMisc.standardizeInputRasters(rasterio.open(wp_file), inH, wp_file_reproj)"
   ]
  },
  {
   "cell_type": "markdown",
   "metadata": {},
   "source": [
    "# Accessibility Analysis"
   ]
  },
  {
   "cell_type": "code",
   "execution_count": 147,
   "metadata": {},
   "outputs": [],
   "source": [
    "speed_dict = {\n",
    "   'residential': 20,  # kmph\n",
    "   'primary': 40,\n",
    "   'primary_link':35,\n",
    "   'motorway':50,\n",
    "   'motorway_link': 45,\n",
    "   'trunk': 40,\n",
    "   'trunk_link':35,\n",
    "   'secondary': 30,\n",
    "   'secondary_link':25,\n",
    "   'tertiary':30,\n",
    "   'tertiary_link': 25,\n",
    "   'unclassified':20,\n",
    "   'living_street':10,\n",
    "   'service':10\n",
    "}\n",
    "\n",
    "def get_speed(x, s_dict):\n",
    "    try: \n",
    "        \n",
    "        speed = s_dict[x]\n",
    "    except:\n",
    "        if type(x) == list:\n",
    "            try:\n",
    "                speed = s_dict[x[0]]\n",
    "            except:\n",
    "                speed = 5\n",
    "        else:\n",
    "            speed=5\n",
    "    return(speed)\n",
    "\n",
    "def get_nodes(b, tags):\n",
    "    nodes = osm.node_query(b[1], b[0], b[3], b[2], tags=tags)\n",
    "    nodes_geom = [Point(x) for x in zip(nodes['lon'], nodes['lat'])]\n",
    "    nodes_df = gpd.GeoDataFrame(nodes[['amenity','lat','lon']], geometry=nodes_geom, crs={'init':'epgs:4326'})\n",
    "    return(nodes_df)"
   ]
  },
  {
   "cell_type": "code",
   "execution_count": null,
   "metadata": {},
   "outputs": [],
   "source": [
    "sel_graph = ox.graph_from_bbox(b[3], b[1], b[2], b[0], retain_all=True)\n",
    "sel_roads = gn.edge_gdf_from_graph(sel_graph)\n",
    "sel_roads['speed'] = sel_roads['highway'].apply(lambda x: get_speed(x, speed_dict))"
   ]
  },
  {
   "cell_type": "code",
   "execution_count": 84,
   "metadata": {},
   "outputs": [],
   "source": [
    "amenities = ['toilets', 'washroom', 'restroom']\n",
    "toilets_tags = '\"amenity\"~\"{}\"'.format('|'.join(amenities))\n",
    "toilets = get_nodes(inH.bounds, toilets_tags)\n",
    "\n",
    "amenities = ['water_points', 'drinking_water', 'pumps', 'water_pumps', 'well']\n",
    "water_tags = '\"amenity\"~\"{}\"'.format('|'.join(amenities))\n",
    "water_points = get_nodes(inH.bounds, water_tags)\n",
    "    \n",
    "amenities = ['supermarket', 'convenience', 'general', 'department_stores', 'wholesale', 'grocery', 'general']\n",
    "shp_tags = '\"shop\"~\"{}\"'.format('|'.join(amenities))\n",
    "shops = get_nodes(inH.bounds, shp_tags)\n"
   ]
  },
  {
   "cell_type": "code",
   "execution_count": 167,
   "metadata": {},
   "outputs": [],
   "source": [
    "# create a copy of inH with value set to slowest walking speed\n",
    "distance_data = np.zeros(inH.shape) + 5\n",
    "# burn the speeds into the distance_data using the road network \n",
    "sel_roads = sel_roads.sort_values(['speed'])\n",
    "shapes = ((row['geometry'], row['speed']) for idx, row in sel_roads.iterrows())\n",
    "speed_image = features.rasterize(shapes, out_shape=inH.shape, transform=inH.transform, fill=5)\n",
    "# convert to a version that claculates the seconds to cross each cell\n",
    "traversal_time = 100 / (speed_image * 1000 / (60 * 60)) # km/h --> m/s * resolution of image in metres"
   ]
  },
  {
   "cell_type": "code",
   "execution_count": 168,
   "metadata": {},
   "outputs": [],
   "source": [
    "# save traversal image (burned in road network)\n",
    "road_network = os.path.join(out_folder, \"road_network.tif\")\n",
    "meta.update(dtype=distance_image.dtype)\n",
    "with rasterio.open(road_network, 'w', **meta) as out:\n",
    "    out.write_band(1, distance_image)"
   ]
  },
  {
   "cell_type": "code",
   "execution_count": 179,
   "metadata": {},
   "outputs": [
    {
     "name": "stdout",
     "output_type": "stream",
     "text": [
      "Processing toilets\n",
      "Processing drinking_water\n",
      "Processing nan\n"
     ]
    }
   ],
   "source": [
    "# create skimage graph\n",
    "mcp = skimage.graph.MCP_Geometric(traversal_time)\n",
    "# iterate through amenity\n",
    "for amenity in [toilets, water_points, shops]:\n",
    "    costs, traceback = mcp.find_costs(list(set([inH.index(x.x, x.y) for x in amenity['geometry']])))\n",
    "    amenity_name = amenity.iloc[0]['amenity']\n",
    "    print(\"Processing %s\" % amenity_name)\n",
    "    amenity.to_file(os.path.join(out_folder, \"%s.shp\" % amenity_name))\n",
    "    distance_raster = os.path.join(out_folder, '%s_distance_roads.tif' % amenity_name)\n",
    "    meta.update(dtype=costs.dtype)\n",
    "    with rasterio.open(distance_raster, 'w', **meta) as out:\n",
    "        out.write_band(1, costs)"
   ]
  }
 ],
 "metadata": {
  "kernelspec": {
   "display_name": "Python (geog)",
   "language": "python",
   "name": "geog"
  },
  "language_info": {
   "codemirror_mode": {
    "name": "ipython",
    "version": 3
   },
   "file_extension": ".py",
   "mimetype": "text/x-python",
   "name": "python",
   "nbconvert_exporter": "python",
   "pygments_lexer": "ipython3",
   "version": "3.7.1"
  }
 },
 "nbformat": 4,
 "nbformat_minor": 2
}
