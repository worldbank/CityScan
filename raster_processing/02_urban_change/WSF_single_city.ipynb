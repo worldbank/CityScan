{
 "cells": [
  {
   "cell_type": "markdown",
   "id": "d33235fa",
   "metadata": {},
   "source": [
    "## This notebooks assists with automatically retrieving and processing WSF datasets over a city"
   ]
  },
  {
   "cell_type": "code",
   "execution_count": 37,
   "id": "631ba579-2736-4289-b2cb-ab553aefb4bc",
   "metadata": {},
   "outputs": [],
   "source": [
    "import os\n",
    "import sys\n",
    "import math\n",
    "import warnings\n",
    "import yaml\n",
    "import pandas as pd\n",
    "import geopandas as gpd\n",
    "from osgeo import gdal\n",
    "import glob\n",
    "import numpy as np\n",
    "import rasterio.mask\n",
    "import rasterio\n",
    "from rasterio.warp import calculate_default_transform, reproject, Resampling\n",
    "from os.path import exists\n",
    "from pathlib import Path\n",
    "from shutil import copyfile\n",
    "import requests"
   ]
  },
  {
   "cell_type": "code",
   "execution_count": 38,
   "id": "1764acf6-5775-4dc8-ab4a-c5069661425a",
   "metadata": {},
   "outputs": [],
   "source": [
    "country = os.getcwd().split('\\\\')[-1]"
   ]
  },
  {
   "cell_type": "code",
   "execution_count": 39,
   "id": "368e2343",
   "metadata": {},
   "outputs": [],
   "source": [
    "city_name = 'Kampala'\n",
    "AOI_file_name = 'Kampala_AOI_4326.shp'"
   ]
  },
  {
   "cell_type": "code",
   "execution_count": 40,
   "id": "72b144cf-c571-45ff-85f3-5e533940c328",
   "metadata": {},
   "outputs": [],
   "source": [
    "#aoi_folder = Path('output/AOI')\n",
    "output_folder = Path('output')\n",
    "#wsf_types = ['evolution', '2019']\n",
    "wsf_types = ['evolution']"
   ]
  },
  {
   "cell_type": "code",
   "execution_count": 41,
   "id": "7a635f06",
   "metadata": {},
   "outputs": [],
   "source": [
    "# cities = pd.read_csv('centroids.csv').city\n",
    "# centroids = pd.read_csv('centroids.csv')\n",
    "# epsg_dict = dict(zip(centroids.city, centroids.utm))"
   ]
  },
  {
   "cell_type": "code",
   "execution_count": 42,
   "id": "e08d46c5-6b3f-4b59-aace-479a7c201d7a",
   "metadata": {},
   "outputs": [],
   "source": [
    "def download_wsf(admin_file_name, wsf_type):\n",
    "    # data_folder = Path(r'E:\\World Bank\\City Scan') / country / ('data/WSF' + wsf_type)\n",
    "    data_folder = Path('data') / ('WSF' + wsf_type)\n",
    "    try:\n",
    "        os.mkdir(data_folder)\n",
    "    except FileExistsError:\n",
    "        pass\n",
    "    \n",
    "#     city_no_space = city.replace(\" \", \"_\")\n",
    "#     city_lower = city_no_space.lower()\n",
    "#     shp_name = city_no_space + '_AOI.shp'\n",
    "    shp = gpd.read_file(Path().resolve().parent / 'admin' / admin_file_name)\n",
    "    \n",
    "    print('print admin_file crs')\n",
    "    print(shp.crs)\n",
    "    \n",
    "    if shp.crs != 'EPSG:4326':\n",
    "        print(f'WARNING: CRS is not in 4326')\n",
    "    \n",
    "    shp_bounds = shp.bounds\n",
    "    \n",
    "    #print(f'length of shp_bounds is: {shp_bounds}')\n",
    "    \n",
    "    for i in range(len(shp_bounds)):\n",
    "        print(f'range is: {i}')\n",
    "        for x in range(math.floor(shp_bounds.minx[i] - shp_bounds.minx[i] % 2), math.ceil(shp_bounds.maxx[i]), 2):\n",
    "            for y in range(math.floor(shp_bounds.miny[i] - shp_bounds.miny[i] % 2), math.ceil(shp_bounds.maxy[i]), 2):\n",
    "                file_name = 'WSF' + wsf_type + '_v1_' + str(x) + '_' + str(y)\n",
    "                if not exists(data_folder / (file_name + '.tif')):\n",
    "                    #print(wsf_type)\n",
    "                    if wsf_type == 'evolution':\n",
    "                        #print(file_name)\n",
    "                        file = requests.get('https://download.geoservice.dlr.de/WSF_EVO/files/' + file_name + '/' + file_name + '.tif')\n",
    "                    elif wsf_type == '2019':\n",
    "                        file = requests.get('https://download.geoservice.dlr.de/WSF2019/files/' + file_name + '.tif')\n",
    "                    open(data_folder / (file_name + '.tif'), 'wb').write(file.content)"
   ]
  },
  {
   "cell_type": "code",
   "execution_count": 43,
   "id": "957d32ee-399a-40f6-94ae-ce91dcf5a04a",
   "metadata": {},
   "outputs": [
    {
     "name": "stdout",
     "output_type": "stream",
     "text": [
      "print admin_file crs\n",
      "EPSG:4326\n",
      "range is: 0\n"
     ]
    }
   ],
   "source": [
    "for wsf_type in wsf_types:\n",
    "    download_wsf(AOI_file_name, wsf_type)\n",
    "    #for city in cities:\n",
    "        #download_wsf(city, wsf_type)"
   ]
  },
  {
   "cell_type": "markdown",
   "id": "71c01bb9-02ba-4d6d-91eb-d86bc25dad69",
   "metadata": {},
   "source": [
    "Mosaic raster by city"
   ]
  },
  {
   "cell_type": "code",
   "execution_count": 44,
   "id": "9cc9cddb-ecbc-47bd-95ed-c40dde7bfd99",
   "metadata": {},
   "outputs": [],
   "source": [
    "def clipdata_wsf(city_name, admin_file_name, wsf_type):\n",
    "    #data_folder = Path(r'E:\\World Bank\\City Scan') / country / ('02_urban_change/WSF' + wsf_type)\n",
    "    data_folder = Path('data') / ('WSF' + wsf_type)\n",
    "#     city_no_space = city.replace(\" \", \"_\")\n",
    "#     city_lower = city_no_space.lower()\n",
    "#     shp_name = city_no_space + '_AOI.shp'\n",
    "    #shp = gpd.read_file(city / aoi_folder / shp_name)\n",
    "    shp = gpd.read_file(Path().resolve().parent / 'admin' / admin_file_name)\n",
    "    \n",
    "    features = shp.geometry\n",
    "    \n",
    "    #input_raster = data_folder / (\"WSF\" + wsf_type + \".tif\")\n",
    "    # use glob\n",
    "    #glob.glob('./04_elevation/*.tif')\n",
    "    input_raster = list(data_folder.glob(\"*.tif\"))[0]\n",
    "    \n",
    "    with rasterio.open(input_raster) as src:\n",
    "        out_image, out_transform = rasterio.mask.mask(\n",
    "            src, features, crop=True)\n",
    "        out_meta = src.meta.copy()\n",
    "\n",
    "        out_meta.update({\"driver\": \"GTiff\",\n",
    "                         \"height\": out_image.shape[1],\n",
    "                         \"width\": out_image.shape[2],\n",
    "                         \"transform\": out_transform})\n",
    "\n",
    "        output_4326_raster_clipped = city_name + \"_WSF\" + wsf_type + \"_4326.tif\"\n",
    "\n",
    "        with rasterio.open(Path().resolve().parent / 'output' / output_4326_raster_clipped, \"w\", **out_meta) as dest:\n",
    "            dest.write(out_image)"
   ]
  },
  {
   "cell_type": "code",
   "execution_count": 45,
   "id": "dfa2eed7",
   "metadata": {},
   "outputs": [],
   "source": [
    "def find_utm(admin_file_name):\n",
    "    features_gdf = gpd.read_file(Path().resolve().parent / 'admin' / admin_file_name)\n",
    "    print('print admin_file crs')\n",
    "    print(features_gdf.crs)\n",
    "\n",
    "    # automatically find utm zone\n",
    "    avg_lng = features_gdf[\"geometry\"].unary_union.centroid.x\n",
    "\n",
    "    # calculate UTM zone from avg longitude to define CRS to project to\n",
    "    utm_zone = math.floor((avg_lng + 180) / 6) + 1\n",
    "    utm_crs = f\"+proj=utm +zone={utm_zone} +ellps=WGS84 +datum=WGS84 +units=m +no_defs\"\n",
    "    \n",
    "    return utm_crs"
   ]
  },
  {
   "cell_type": "code",
   "execution_count": 46,
   "id": "c879147c-48eb-456f-bc4d-d50701e99071",
   "metadata": {},
   "outputs": [],
   "source": [
    "def utm_wsf(city_name, admin_file_name, wsf_type):\n",
    "#     city_no_space = city.replace(\" \", \"_\")\n",
    "#     city_lower = city_no_space.lower()\n",
    "#     shp_name = city_no_space + '_AOI.shp'\n",
    "    dst_crs = find_utm(admin_file_name)\n",
    "    print('print dst_crs')\n",
    "    print(dst_crs)\n",
    "    shp = gpd.read_file(Path().resolve().parent / 'admin' / admin_file_name).to_crs(crs = dst_crs)\n",
    "    features = shp.geometry\n",
    "    \n",
    "    with rasterio.open(Path().resolve().parent / 'output' / (city_name + \"_WSF\" + wsf_type + \"_4326.tif\")) as src:\n",
    "        #dst_crs = 'EPSG:' + str(crs)\n",
    "\n",
    "        transform, width, height = calculate_default_transform(\n",
    "            src.crs, dst_crs, src.width, src.height, *src.bounds)\n",
    "        kwargs = src.meta.copy()\n",
    "        kwargs.update({\n",
    "            'crs': dst_crs,\n",
    "            'transform': transform,\n",
    "            'width': width,\n",
    "            'height': height\n",
    "        })\n",
    "\n",
    "        with rasterio.open(Path().resolve().parent / 'output' / (city_name + '_WSF' + wsf_type + '_utm.tif'), 'w', **kwargs) as dst:\n",
    "            for i in range(1, src.count + 1):\n",
    "                reproject(\n",
    "                    source=rasterio.band(src, i),\n",
    "                    destination=rasterio.band(dst, i),\n",
    "                    src_transform=src.transform,\n",
    "                    src_crs=src.crs,\n",
    "                    dst_transform=transform,\n",
    "                    dst_crs=dst_crs,\n",
    "                    resampling=Resampling.nearest)\n",
    "    \n",
    "    if wsf_type == 'evolution':\n",
    "        with rasterio.open(Path().resolve().parent / 'output' / (city_name + '_WSF' + wsf_type + '_utm.tif')) as src:\n",
    "            out_image = src.read()\n",
    "            pixelSizeX, pixelSizeY = src.res\n",
    "\n",
    "        year_dict = {}\n",
    "        for year in range(1985, 2016):\n",
    "            if year == 1985:\n",
    "                year_dict[year] = np.count_nonzero(\n",
    "                out_image == year) * pixelSizeX * pixelSizeY / 1000000\n",
    "            else:\n",
    "                year_dict[year] = np.count_nonzero(\n",
    "                out_image == year) * pixelSizeX * pixelSizeY / 1000000 + year_dict[year-1]\n",
    "\n",
    "        # save CSV\n",
    "        with open(Path().resolve().parent / 'output' / (city_name + \"_built_up_stats.csv\"), 'w') as f:\n",
    "            f.write(\"year,cumulative sq km\\n\")\n",
    "            for key in year_dict.keys():\n",
    "                f.write(\"%s,%s\\n\" % (key, year_dict[key]))"
   ]
  },
  {
   "cell_type": "code",
   "execution_count": 47,
   "id": "faef7f82-725f-4ced-8608-e9c8b05bd540",
   "metadata": {},
   "outputs": [],
   "source": [
    "def reclass_wsf(city, wsf_type):\n",
    "    city_no_space = city.replace(\" \", \"_\")\n",
    "    city_lower = city_no_space.lower()\n",
    "    \n",
    "    #with rasterio.open(city / output_folder / (city_lower + '_WSF' + wsf_type + '_4326.tif')) as src:\n",
    "    with rasterio.open(Path().resolve().parent / 'output' / (city_lower + '_WSF' + wsf_type + '_4326.tif')) as src:\n",
    "        out_image = src.read()\n",
    "        out_meta = src.meta.copy()\n",
    "    \n",
    "    out_image[0][out_image[0] < 1985] = 0\n",
    "    out_image[0][(out_image[0] <= 2015) & (out_image[0] >= 2006)] = 4\n",
    "    out_image[0][(out_image[0] < 2006) & (out_image[0] >= 1996)] = 3\n",
    "    out_image[0][(out_image[0] < 1996) & (out_image[0] >= 1986)] = 2\n",
    "    out_image[0][out_image[0] == 1985] = 1\n",
    "    \n",
    "    out_file = city_lower + '_WSF' + wsf_type + '_reclass.tif'\n",
    "    with rasterio.open(Path().resolve().parent / 'output' / out_file, \"w\", **out_meta) as dest:\n",
    "        dest.write(out_image)"
   ]
  },
  {
   "cell_type": "markdown",
   "id": "4af3c52f",
   "metadata": {},
   "source": [
    "### Post-Process the WSF files and write outputs in the parent's output folder"
   ]
  },
  {
   "cell_type": "code",
   "execution_count": 48,
   "id": "d9b35074-ca5b-41c7-9191-aa2b3f779c39",
   "metadata": {},
   "outputs": [
    {
     "name": "stdout",
     "output_type": "stream",
     "text": [
      "print admin_file crs\n",
      "EPSG:4326\n",
      "print dst_crs\n",
      "+proj=utm +zone=36 +ellps=WGS84 +datum=WGS84 +units=m +no_defs\n"
     ]
    }
   ],
   "source": [
    "for wsf_type in wsf_types:\n",
    "    #for city in cities:\n",
    "    clipdata_wsf(city_name, AOI_file_name, wsf_type)\n",
    "    utm_wsf(city_name,AOI_file_name, wsf_type)\n",
    "    if wsf_type == 'evolution':\n",
    "        reclass_wsf(city_name, wsf_type)"
   ]
  }
 ],
 "metadata": {
  "kernelspec": {
   "display_name": "Python 3 (ipykernel)",
   "language": "python",
   "name": "python3"
  },
  "language_info": {
   "codemirror_mode": {
    "name": "ipython",
    "version": 3
   },
   "file_extension": ".py",
   "mimetype": "text/x-python",
   "name": "python",
   "nbconvert_exporter": "python",
   "pygments_lexer": "ipython3",
   "version": "3.11.3"
  }
 },
 "nbformat": 4,
 "nbformat_minor": 5
}
