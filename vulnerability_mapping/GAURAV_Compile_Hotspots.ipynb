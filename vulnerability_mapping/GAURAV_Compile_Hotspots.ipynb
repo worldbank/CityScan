{
 "cells": [
  {
   "cell_type": "code",
   "execution_count": 1,
   "metadata": {},
   "outputs": [
    {
     "name": "stdout",
     "output_type": "stream",
     "text": [
      "Populating the interactive namespace from numpy and matplotlib\n"
     ]
    }
   ],
   "source": [
    "import requests \n",
    "import urllib\n",
    "import json\n",
    "import pandas as pd\n",
    "import numpy as np\n",
    "import geopandas as gpd\n",
    "import shapely\n",
    "from shapely.geometry import Point, MultiPoint\n",
    "from shapely import wkt\n",
    "import shapely.speedups\n",
    "from shapely.ops import transform, nearest_points\n",
    "import plotly.express as px\n",
    "from pyproj import crs\n",
    "import plotly.graph_objects as go\n",
    "import os\n",
    "import gdal\n",
    "import rasterio\n",
    "from rasterio.mask import mask\n",
    "from rasterio.warp import calculate_default_transform, reproject, Resampling\n",
    "import glob\n",
    "from functools import partial\n",
    "import pyproj\n",
    "import osmnx as ox\n",
    "from IPython.display import Image\n",
    "import scipy.ndimage as ndimage\n",
    "from functools import reduce\n",
    "### below files are local python programs. Make sure to paste them wherever you're running this notebook\n",
    "import polygonize as pz\n",
    "##\n",
    "import geocoder\n",
    "from pandana.loaders import osm\n",
    "import pandana\n",
    "import pylab as pl\n",
    "ox.config(log_console=True, use_cache=True)\n",
    "pl.rcParams[\"figure.figsize\"] = (10,10)\n",
    "%pylab inline"
   ]
  },
  {
   "cell_type": "code",
   "execution_count": 2,
   "metadata": {},
   "outputs": [],
   "source": [
    "def get_city_proj_crs(to_crs, val=0):\n",
    "    \n",
    "    \"\"\"\n",
    "    Function to indentify local projection for cities dynamically\n",
    "    \n",
    "    Input:\n",
    "    to_crs : name of city / country; epsg if known\n",
    "    \n",
    "    Returns:\n",
    "    Local epsg (in string)\n",
    "    \"\"\"\n",
    "\n",
    "    if isinstance(to_crs, int):\n",
    "        to_crs = to_crs\n",
    "    elif isinstance(to_crs, str):\n",
    "        city, country = to_crs.split(',')\n",
    "        url = \"http://epsg.io/?q={}&format=json&trans=1&callback=jsonpFunction\".format(city)\n",
    "        r = requests.get(url)\n",
    "        if r.status_code == 200:\n",
    "            js = json.loads(r.text[14:-1])\n",
    "            \n",
    "            if js['number_result'] != 0:\n",
    "                lis = []\n",
    "                for i in js['results']:\n",
    "                    res = i\n",
    "                    if (res['unit'] == 'metre') and (res['accuracy'] == 1.0):\n",
    "                        lis.append(res['code'])\n",
    "                if len(lis) == 0:\n",
    "                    for i in js['results']:\n",
    "                        res = i\n",
    "                        if res['unit'] == 'metre':\n",
    "                            lis.append(res['code'])\n",
    "                    return lis[val]\n",
    "                else:\n",
    "                    return lis[val]\n",
    "   \n",
    "            else:\n",
    "                if country.strip() == 'United Kingdom of Great Britain and Northern Ireland':\n",
    "                    country = 'United Kingdom'\n",
    "                elif country.strip() == 'Venezuela (Bolivarian Republic of)':\n",
    "                    country = 'Venezuela'\n",
    "                elif country.strip() == 'Viet Nam':\n",
    "                    country = 'Vietnam'\n",
    "                \n",
    "                url = \"http://epsg.io/?q={}&format=json&trans=1&callback=jsonpFunction\".format(country)\n",
    "                r = requests.get(url)\n",
    "                if r.status_code == 200:\n",
    "                    js = json.loads(r.text[14:-1])\n",
    "\n",
    "                    if js['number_result'] != 0:\n",
    "                        lis = []\n",
    "                        for i in js['results']:\n",
    "                            res = i\n",
    "                            if (res['unit'] == 'metre') and (res['accuracy'] == 1.0):\n",
    "                                lis.append(res['code'])\n",
    "                        if len(lis) == 0:\n",
    "                            for i in js['results']:\n",
    "                                res = i\n",
    "                                if res['unit'] == 'metre':\n",
    "                                    lis.append(res['code'])\n",
    "                            return lis[val]\n",
    "                        else:\n",
    "                            return lis[val]  "
   ]
  },
  {
   "cell_type": "code",
   "execution_count": 3,
   "metadata": {},
   "outputs": [],
   "source": [
    "def convert_geom_to_shp(shapely_polygon, city, out_crs=None):\n",
    "    string = city.split(',')[0]\n",
    "    \n",
    "    df = pd.DataFrame(\n",
    "    {'City': [string],\n",
    "     'geometry': [wkt.dumps(shapely_polygon)]})\n",
    "    \n",
    "    df['geometry'] = df['geometry'].apply(wkt.loads)\n",
    "    \n",
    "    gdf = gpd.GeoDataFrame(df, geometry='geometry')\n",
    "    \n",
    "    if out_crs:\n",
    "        gdf.crs = {'init' : 'epsg:{}'.format(out_crs)}\n",
    "\n",
    "        gdf.to_crs(epsg=4326, inplace=True)\n",
    "    else:\n",
    "        gdf.crs = {'init' : 'epsg:{}'.format(4326)}\n",
    "    \n",
    "    return gdf"
   ]
  },
  {
   "cell_type": "code",
   "execution_count": 4,
   "metadata": {},
   "outputs": [],
   "source": [
    "def getFeatures(gdf):\n",
    "    \"\"\"Function to parse features from GeoDataFrame in such a manner that rasterio accepts them\"\"\"\n",
    "    import json\n",
    "    return [json.loads(gdf.to_json())['features'][0]['geometry']]"
   ]
  },
  {
   "cell_type": "code",
   "execution_count": 5,
   "metadata": {},
   "outputs": [],
   "source": [
    "def get_iso(city):\n",
    "    \"\"\"\n",
    "    Function to get ISO-3 codes for countries\n",
    "    \n",
    "    Input:\n",
    "    city: city name (Ideally in (city, country) format)\n",
    "    \n",
    "    Returns:\n",
    "    ISO-3 code for the country\n",
    "    \"\"\"\n",
    "    \n",
    "    try:\n",
    "        country = city.split(',')[1].strip().lower()\n",
    "        if country == 'south korea':  ### incorrect output for South Korea's ISO code with API\n",
    "            return 'kor'\n",
    "        elif country == 'india':\n",
    "            return 'ind'\n",
    "        elif country == 'iran':\n",
    "            return 'irn'\n",
    "        else:\n",
    "            url = \"https://restcountries.eu/rest/v2/name/{}\".format(country)\n",
    "            r = requests.get(url)\n",
    "            if len(r.json())>1 :\n",
    "                for i in range(len(r.json())):\n",
    "                    if country in r.json()[i]['name'].lower():\n",
    "                        return r.json()[i]['alpha3Code'].lower()\n",
    "            else:\n",
    "                return r.json()[0]['alpha3Code'].lower()\n",
    "    except IndexError:\n",
    "        url = \"https://restcountries.eu/rest/v2/capital/{}\".format(city)\n",
    "        r = requests.get(url)\n",
    "        return r.json()[0]['alpha3Code'].lower()"
   ]
  },
  {
   "cell_type": "code",
   "execution_count": 6,
   "metadata": {},
   "outputs": [],
   "source": [
    "def factors(n):    \n",
    "    return set(reduce(list.__add__, \n",
    "                ([i, n//i] for i in range(1, int(n**0.5) + 1) if n % i == 0)))"
   ]
  },
  {
   "cell_type": "code",
   "execution_count": 7,
   "metadata": {},
   "outputs": [],
   "source": [
    "### Performs sliding window cumulative pop_tfa estimation for each pixel\n",
    "def test_func(values):\n",
    "    #print (values)\n",
    "    return values.sum()\n",
    "\n",
    "\n",
    "x = np.array([[1,2,3],[4,5,6],[7,8,9]])\n",
    "\n",
    "footprint = np.array([[1,1,1],\n",
    "                      [1,1,1],\n",
    "                      [1,1,1]])"
   ]
  },
  {
   "cell_type": "code",
   "execution_count": 54,
   "metadata": {},
   "outputs": [],
   "source": [
    "def polygonize_raster(ras_path, shp_path, string):\n",
    "    \"\"\"\n",
    "    Function to polygonize a raster based on the pixel size of base raster.\n",
    "    \n",
    "    Inputs:\n",
    "    ras_path: path to base raster location that is to be polygonized\n",
    "    shp_path: path to where the shapefile will be saved\n",
    "    string: name of the city\n",
    "    \n",
    "    Returns:\n",
    "    Geodataframe with polygons equivalent to raster pixels.\n",
    "    \"\"\"\n",
    "    \n",
    "    print(\"Polygonizing Raster!!\")\n",
    "    \n",
    "    import polygonize as pz\n",
    "    \n",
    "    outSHPfn = shp_path\n",
    "    lat, lon = pz.main(ras_path,outSHPfn)\n",
    "\n",
    "    sh = gpd.read_file(shp_path)\n",
    "\n",
    "    rio = rasterio.open(ras_path)\n",
    "    \n",
    "    sh.crs = rio.meta['crs']\n",
    "    \n",
    "    shp_arr = np.array(sh.geometry).reshape(rio.shape[0], rio.shape[1])\n",
    "    pols = []\n",
    "    for row in range(shp_arr.shape[0]-1):\n",
    "        for col in range(shp_arr.shape[1]-1):\n",
    "            pols.append(shapely.geometry.box(shp_arr[row+1][col].x, shp_arr[row+1][col].y, shp_arr[row][col+1].x, shp_arr[row][col+1].y ))\n",
    "\n",
    "    gdf = gpd.GeoDataFrame()\n",
    "    gdf['ID'] = [i for i in range(len(pols))]\n",
    "    gdf['geometry'] = pols\n",
    "    gdf.set_geometry('geometry', inplace=True)\n",
    "    #gdf.crs = {'init':'epsg:4326'}\n",
    "    gdf.crs = rio.meta['crs']\n",
    "    print(\"Populating avearge height!!\")\n",
    "\n",
    "    av_h = []\n",
    "    for i in gdf.geometry:\n",
    "        coords = getFeatures(convert_geom_to_shp(i, string))\n",
    "        out_img, out_transform = mask(dataset=rio, shapes=coords, crop=True)\n",
    "        av_h.append(out_img.sum()/out_img.shape[2])\n",
    "\n",
    "    gdf['avg_height'] = av_h\n",
    "    gdf.to_crs(epsg=4326, inplace=True)\n",
    "    gdf['Lon'] = [i.centroid.x for i in gdf.geometry]\n",
    "    gdf['Lat'] = [i.centroid.y for i in gdf.geometry]\n",
    "\n",
    "    \n",
    "    return gdf"
   ]
  },
  {
   "cell_type": "code",
   "execution_count": 10,
   "metadata": {},
   "outputs": [],
   "source": [
    "def get_population(city, gdf, wp = True, fb = None):\n",
    "    \n",
    "    ## Assiging Facebook population to pixels \n",
    "    iso = get_iso(city)\n",
    "    \n",
    "    wp_pop = []\n",
    "    if fb:\n",
    "        pop = rasterio.open(r\"C:\\Users\\wb542830\\OneDrive - WBG\\Facebook\\population_{}_2018-10-01.tif\".format(iso))\n",
    "    else:\n",
    "        pop = rasterio.open(r\"M:\\Gaurav\\GPSUR\\Data\\WorldPop_2019\\{}_ppp_2019.tif\".format(iso))\n",
    "    for i in gdf.index:\n",
    "        _gdf = gdf[gdf.index == i]\n",
    "        #_gdf.to_crs(pop.meta['crs'], inplace=True)\n",
    "\n",
    "        _coords = getFeatures(_gdf)\n",
    "        try:\n",
    "            _out_img, _out_transform = mask(dataset=pop, shapes=_coords, crop=True)\n",
    "\n",
    "            outimg = np.nan_to_num(_out_img)\n",
    "            outimg = outimg.reshape(outimg.shape[1], outimg.shape[2])\n",
    "            wp_pop.append(outimg.sum())\n",
    "        except ValueError:\n",
    "            wp_pop.append(0)\n",
    "            \n",
    "    return wp_pop"
   ]
  },
  {
   "cell_type": "code",
   "execution_count": 55,
   "metadata": {},
   "outputs": [],
   "source": [
    "def get_hotspots(city):\n",
    "    string = city.split(',')[0]\n",
    "    \n",
    "    ### DLR raster file\n",
    "    dest_path = r\"M:\\Gaurav\\GPSUR\\Data\\DLR Data\\{}_WSF3D_AW3D30.tif\".format(string)\n",
    "    ras = rasterio.open(dest_path)\n",
    "    \n",
    "    ## path to shapefile that will be editted \n",
    "    shp_path = r'C:\\Users\\wb542830\\OneDrive - WBG\\GPSUR\\COVID\\shapefiles\\{}_ghsl_clip.shp'.format(string)\n",
    "    \n",
    "    ## Polygonize raster converts raster into polygon\n",
    "    gdf  = polygonize_raster(dest_path, shp_path, string)\n",
    "    \n",
    "    out_proj = get_city_proj_crs(city)\n",
    "    \n",
    "    gdf_copy = gdf.to_crs(epsg= int(out_proj) )\n",
    "    \n",
    "    gdf['pixel_area'] = [i.area for i in gdf_copy.geometry]\n",
    "    \n",
    "    gdf['tfa'] = [(gdf.avg_height[i] * gdf.pixel_area[i]) / 3 for i in gdf.index]\n",
    "    \n",
    "    pop = get_population(city, gdf, wp = True)\n",
    "    \n",
    "    if len(pop) < 2:\n",
    "        pop = get_population(city, gdf, wp = False, fb = True)\n",
    "        \n",
    "    gdf['pop_2019'] = pop\n",
    "    gdf['pop_2019'] = [i if i>0 else 0 for i in gdf.pop_2019]\n",
    "    \n",
    "    gdf['pop_tfa'] = [gdf.pop_2019[i] / gdf.tfa[i] for i in gdf.index]\n",
    "    \n",
    "    gdf['pop_tfa'] = [0 if pd.isna(i) else i for i in gdf.pop_tfa]\n",
    "    gdf['pop_tfa'] = [0 if i == np.inf else i for i in gdf.pop_tfa]\n",
    "    gdf['pop_tfa'] = [0 if i == -np.inf else i for i in gdf.pop_tfa]\n",
    "    \n",
    "    fac = list(factors(len(gdf)))\n",
    "    a = fac[int(len(fac)/2)]\n",
    "    b = int(len(gdf) / a)\n",
    "\n",
    "    results = ndimage.generic_filter(np.array(gdf.pop_tfa).reshape(a,b), test_func, footprint=footprint)\n",
    "\n",
    "    gdf['poptfa_all'] = results.flatten()\n",
    "    \n",
    "    return gdf\n",
    "   "
   ]
  },
  {
   "cell_type": "code",
   "execution_count": 12,
   "metadata": {},
   "outputs": [
    {
     "name": "stdout",
     "output_type": "stream",
     "text": [
      "Polygonizing Raster!!\n",
      "0 of 1076 rows processed\n",
      "100 of 1076 rows processed\n",
      "200 of 1076 rows processed\n",
      "300 of 1076 rows processed\n",
      "400 of 1076 rows processed\n",
      "500 of 1076 rows processed\n",
      "600 of 1076 rows processed\n",
      "700 of 1076 rows processed\n",
      "800 of 1076 rows processed\n",
      "900 of 1076 rows processed\n",
      "1000 of 1076 rows processed\n",
      "Populating avearge height!!\n"
     ]
    }
   ],
   "source": [
    "## %%time\n",
    "gdf = get_hotspots(\"Manila, Philippines\")"
   ]
  },
  {
   "cell_type": "markdown",
   "metadata": {},
   "source": [
    "### Access to Services\n",
    "\n",
    "Steps below have to repeated based on different types of services."
   ]
  },
  {
   "cell_type": "code",
   "execution_count": null,
   "metadata": {},
   "outputs": [],
   "source": [
    "x = ox.gdf_from_place(\"Manila, Philippines\", which_result=2).geometry.iloc[0].envelope.bounds"
   ]
  },
  {
   "cell_type": "code",
   "execution_count": 58,
   "metadata": {},
   "outputs": [],
   "source": [
    "def osm_pois_data(bounds, service):\n",
    "    \n",
    "    if service == 'toilets':\n",
    "        amenities = ['toilets', 'washroom', 'restroom']\n",
    "        osm_tags = '\"amenity\"~\"{}\"'.format('|'.join(amenities))\n",
    "    elif service == 'water_points':\n",
    "        amenities = ['water_points', 'drinking_water', 'pumps', 'water_pumps', 'well']\n",
    "        osm_tags = '\"amenity\"~\"{}\"'.format('|'.join(amenities))\n",
    "    elif service == 'shops':\n",
    "        amenities = ['supermarket', 'convenience', 'general', 'department_stores', 'wholesale', 'grocery', 'general']\n",
    "        osm_tags = '\"shop\"~\"{}\"'.format('|'.join(amenities))\n",
    "    else:\n",
    "        osm_tags = None\n",
    "        \n",
    "    pois = osm.node_query(bounds[1], bounds[0], bounds[3], bounds[2],tags=osm_tags)    \n",
    "    \n",
    "    pois['geometry'] = (list(zip(pois.lon,pois.lat)))\n",
    "    pois['geometry'] = pois.geometry.apply(lambda x: Point(x))\n",
    "    pois = gpd.GeoDataFrame(pois, geometry='geometry')\n",
    "    pois.crs = {'init':'epsg:4326'}\n",
    "\n",
    "    return pois"
   ]
  },
  {
   "cell_type": "code",
   "execution_count": null,
   "metadata": {},
   "outputs": [],
   "source": [
    "pois = (x, 'water_points')"
   ]
  },
  {
   "cell_type": "code",
   "execution_count": null,
   "metadata": {},
   "outputs": [],
   "source": [
    "out_crs = int(get_city_proj_crs(\"Manila, Philippines\"))\n",
    "pois_crs(epsg=out_crs, inplace=True)\n",
    "dest = MultiPoint([i for i in pois.geometry])"
   ]
  },
  {
   "cell_type": "code",
   "execution_count": null,
   "metadata": {},
   "outputs": [],
   "source": [
    "gdf_copy = gdf.to_crs(epsg=out_crs) ## Converting gdf to local projection"
   ]
  },
  {
   "cell_type": "code",
   "execution_count": null,
   "metadata": {},
   "outputs": [],
   "source": [
    "dist = []\n",
    "for i in gdf_copy.index:\n",
    "    if i % 10000 == 0:\n",
    "        print(\"{0} of {1} rows processed\" .format(i, len(gdf_copy)))\n",
    "\n",
    "    temp_cent = gdf_copy.geometry.iloc[i].centroid\n",
    "\n",
    "    nearest_geoms = nearest_points(temp_cent)\n",
    "    dist.append(nearest_geoms[0].distance(nearest_geoms[1]))"
   ]
  },
  {
   "cell_type": "code",
   "execution_count": null,
   "metadata": {},
   "outputs": [],
   "source": [
    "gdf['dis_water'] = dist"
   ]
  },
  {
   "cell_type": "code",
   "execution_count": null,
   "metadata": {},
   "outputs": [],
   "source": [
    "gdf['weight'] = [1 / math.sqrt(i) if i > 70 else 1  for i in gdf.dis_water ]"
   ]
  },
  {
   "cell_type": "code",
   "execution_count": null,
   "metadata": {},
   "outputs": [],
   "source": [
    "## Adjusting for 'transit pixels'\n",
    "pop_weight = (gdf.pop_tfa * gdf.weight) / 8"
   ]
  },
  {
   "cell_type": "code",
   "execution_count": null,
   "metadata": {},
   "outputs": [],
   "source": [
    "weight_slide = ndimage.generic_filter(np.array(pop_weight).reshape(276,252), test_func, footprint=footprint)"
   ]
  },
  {
   "cell_type": "code",
   "execution_count": null,
   "metadata": {},
   "outputs": [],
   "source": [
    "gdf['service_tfa'] = weight_slide.flatten()"
   ]
  },
  {
   "cell_type": "code",
   "execution_count": null,
   "metadata": {},
   "outputs": [],
   "source": [
    "## Each pixel's density + service pixel density\n",
    "gdf['pixel_density'] = gdf.poptfa_all + gdf.service_tfa"
   ]
  },
  {
   "cell_type": "code",
   "execution_count": null,
   "metadata": {},
   "outputs": [],
   "source": [
    "gdf.to_file(\"Manila_Hotspots.shp\")"
   ]
  }
 ],
 "metadata": {
  "kernelspec": {
   "display_name": "Python 3",
   "language": "python",
   "name": "python3"
  },
  "language_info": {
   "codemirror_mode": {
    "name": "ipython",
    "version": 3
   },
   "file_extension": ".py",
   "mimetype": "text/x-python",
   "name": "python",
   "nbconvert_exporter": "python",
   "pygments_lexer": "ipython3",
   "version": "3.7.1"
  }
 },
 "nbformat": 4,
 "nbformat_minor": 2
}
