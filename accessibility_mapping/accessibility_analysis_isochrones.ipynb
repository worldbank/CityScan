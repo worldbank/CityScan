{
 "cells": [
  {
   "cell_type": "markdown",
   "metadata": {},
   "source": [
    "# Accessibility Analysis\n",
    "\n",
    "- This analysis will measure accessibility to schools and hospitals\n",
    "- origins are derived from 100m grid blocks coming from WorldPop\n",
    "- the accessibility measure is the distance to the nearest facility in meters\n",
    "\n",
    "## Inputs:\n",
    "\n",
    "#### origins: derived from a WorldPOP raster using the 'Raster pixels to Points' tool in QGIS 3, and saved as a shapefile\n",
    "#### destinations: The combination of POIs from Overpass as points and centroids of polygons called through the GOSTNets OSMNX_POIs library.\n",
    "#### The admin AOI will be used to create a bounding box to download the road network via OSMNX\n"
   ]
  },
  {
   "cell_type": "markdown",
   "metadata": {},
   "source": [
    "### Import libraries"
   ]
  },
  {
   "cell_type": "code",
   "execution_count": 1,
   "metadata": {},
   "outputs": [],
   "source": [
    "%load_ext autoreload\n",
    "%autoreload 2"
   ]
  },
  {
   "cell_type": "code",
   "execution_count": 2,
   "metadata": {},
   "outputs": [],
   "source": [
    "import sys, os, inspect, logging, importlib\n",
    "\n",
    "import geopandas as gpd\n",
    "import pandas as pd\n",
    "import numpy as np\n",
    "import osmnx as ox\n",
    "import networkx as nx\n",
    "from shapely.ops import split, unary_union\n",
    "from shapely.geometry import box, Point\n",
    "\n",
    "import matplotlib.pyplot as plt"
   ]
  },
  {
   "cell_type": "code",
   "execution_count": 3,
   "metadata": {},
   "outputs": [],
   "source": [
    "# Get reference to GOSTNets\n",
    "sys.path.append(r'C:\\\\Users\\\\Rosem\\\\Documents\\\\Career\\\\World Bank\\\\City Scan\\\\repo\\\\GOSTnets')\n",
    "import GOSTnets as gn"
   ]
  },
  {
   "cell_type": "code",
   "execution_count": 4,
   "metadata": {},
   "outputs": [],
   "source": [
    "from GOSTnets.fetch_pois import *"
   ]
  },
  {
   "cell_type": "markdown",
   "metadata": {},
   "source": [
    "### Define folders and files"
   ]
  },
  {
   "cell_type": "code",
   "execution_count": 5,
   "metadata": {},
   "outputs": [],
   "source": [
    "inputFolder = r'input_folder'\n",
    "# define output folder\n",
    "outputFolder = r'output_folder'\n",
    "# define road graph\n",
    "roadGraph = os.path.join(inputFolder, \"OSM_Roads.pickle\")"
   ]
  },
  {
   "cell_type": "code",
   "execution_count": 6,
   "metadata": {},
   "outputs": [],
   "source": [
    "city_name = 'sarajevo'"
   ]
  },
  {
   "cell_type": "code",
   "execution_count": 7,
   "metadata": {},
   "outputs": [],
   "source": [
    "# import extent\n",
    "extent = gpd.read_file(\"./admin/\" + city_name + \"_AOI.shp\").set_crs(epsg=4326)"
   ]
  },
  {
   "cell_type": "code",
   "execution_count": 8,
   "metadata": {},
   "outputs": [
    {
     "name": "stdout",
     "output_type": "stream",
     "text": [
      "epsg:4326\n"
     ]
    }
   ],
   "source": [
    "# make sure crs is 4326\n",
    "print(extent.crs)"
   ]
  },
  {
   "cell_type": "code",
   "execution_count": 9,
   "metadata": {},
   "outputs": [],
   "source": [
    "#extent = box(*city_extent.total_bounds)"
   ]
  },
  {
   "cell_type": "code",
   "execution_count": 10,
   "metadata": {},
   "outputs": [
    {
     "data": {
      "image/svg+xml": [
       "<svg xmlns=\"http://www.w3.org/2000/svg\" xmlns:xlink=\"http://www.w3.org/1999/xlink\" width=\"100.0\" height=\"100.0\" viewBox=\"18.14749166345338 43.75541856285106 0.3838917494906866 0.24466751159556566\" preserveAspectRatio=\"xMinYMin meet\"><g transform=\"matrix(1,0,0,-1,0,87.75550463729769)\"><path fill-rule=\"evenodd\" fill=\"#66cc99\" stroke=\"#555555\" stroke-width=\"0.007677834989813732\" opacity=\"0.6\" d=\"M 18.210757958498732,43.80976813165955 L 18.19718097434685,43.81267795854569 L 18.172406581145935,43.82012684910177 L 18.165135230395606,43.82311361458403 L 18.16189641884472,43.826357715648044 L 18.16170987639748,43.83105636063527 L 18.165237516266018,43.83527699144207 L 18.175187851121677,43.84010139622069 L 18.197682768490324,43.84792894867883 L 18.20312761269213,43.85407901248334 L 18.20984492362203,43.86672334258702 L 18.21460384563369,43.87576529440912 L 18.218443327422165,43.88068508833163 L 18.224597581858234,43.88385546182883 L 18.230308288272283,43.885045192331745 L 18.24006407839613,43.88552108453297 L 18.24577478481018,43.88647286893536 L 18.24917413699285,43.88844459468339 L 18.25036624339009,43.890400847602336 L 18.250987841362644,43.89263885010348 L 18.25091320000007,43.896868900000015 L 18.250851450767982,43.89835392000526 L 18.250279679280254,43.91210457032179 L 18.24599664946959,43.9225741987475 L 18.2444010654271,43.93474052707205 L 18.244658585473132,43.93959588967772 L 18.2491613326074,43.959557331954954 L 18.249746320899476,43.96510120490143 L 18.248944657446202,43.96690481912157 L 18.245282811167897,43.96873574226055 L 18.243836139511473,43.972533255359 L 18.244142484130123,43.974466466472336 L 18.244597054777728,43.97616823520144 L 18.246234595570286,43.98229866999378 L 18.2474243260732,43.982774562195004 L 18.253610924688303,43.984440184899086 L 18.257418062297745,43.98539196930136 L 18.262176984309406,43.98586786150253 L 18.266222068019147,43.984202238798446 L 18.26764974462276,43.98325045439617 L 18.270505097829812,43.98301250829553 L 18.27478812764025,43.981822777792615 L 18.277405534746606,43.98087099339034 L 18.2781193730483,43.98253661609448 L 18.282164456758267,43.982774562195004 L 18.28501980996532,43.98372634659739 L 18.288113109272842,43.98229866999378 L 18.291206408580365,43.981108939490866 L 18.298106845497387,43.98229866999378 L 18.29882068379908,43.97825358628387 L 18.295965330592026,43.97349466427221 L 18.295727384491556,43.96944958056241 L 18.298344791597856,43.964452712450054 L 18.304210493244568,43.961436065888904 L 18.30801087814774,43.95689908190127 L 18.310955934928927,43.949700054213906 L 18.311106112675418,43.94399329984577 L 18.313306409439747,43.938424858072324 L 18.31952199454986,43.93185409667018 L 18.322554825054453,43.92496061432149 L 18.32437631336927,43.92157785030804 L 18.327231666576324,43.91586714389399 L 18.32997661279262,43.91220721560552 L 18.334370049593815,43.91015643748011 L 18.338653079404253,43.91110822188233 L 18.34436378581836,43.91348768288816 L 18.348646815628797,43.91539125169294 L 18.351026276634627,43.91586714389399 L 18.355309306445065,43.91777071269877 L 18.360068228456726,43.91681892829638 L 18.36530304266961,43.91491535949177 L 18.36911018027905,43.911584114083496 L 18.371965533485877,43.90825286867545 L 18.37957980870459,43.90777697647428 L 18.390923600000065,43.91430139999994 L 18.392167899999947,43.91525009999992 L 18.392599599999983,43.915402599999936 L 18.39384689999997,43.91590150000002 L 18.394281200000023,43.91583090000006 L 18.394708500000036,43.91577700000005 L 18.39527850000013,43.91593820000003 L 18.39587920000008,43.916316400000085 L 18.396258600000067,43.916790400000025 L 18.396323999999936,43.91760520000014 L 18.39613410000004,43.91826390000011 L 18.396234800000002,43.91864790000005 L 18.39661760000007,43.91875250000004 L 18.397257700000125,43.918810500000006 L 18.397697500000106,43.919039999999995 L 18.398056000000054,43.91932930000013 L 18.398455200000058,43.91978259999996 L 18.398771200000112,43.9203349 L 18.398823299999947,43.920725800000014 L 18.39853979999998,43.92137890000009 L 18.398380799999927,43.92191800000012 L 18.398454800000025,43.922433500000125 L 18.397427300000118,43.92332069999998 L 18.39715929999994,43.92366300000003 L 18.397317300000054,43.92410270000005 L 18.397639000000026,43.92437080000002 L 18.39990130000001,43.927738100000056 L 18.40754179999999,43.9247496000001 L 18.407543100000055,43.92537540000001 L 18.407142599999986,43.92609930000003 L 18.406871400000114,43.92675100000014 L 18.40751879999999,43.92685990000007 L 18.408581099999992,43.92628950000011 L 18.409690400000102,43.92593710000011 L 18.409661099999994,43.92531830000007 L 18.410454899999934,43.92553960000009 L 18.411040600000092,43.92563340000004 L 18.411654600000077,43.925842000000046 L 18.41287950000003,43.92668090000001 L 18.41321300000004,43.92714090000004 L 18.413288200000068,43.92761800000011 L 18.413500200000044,43.927941600000054 L 18.41369470000012,43.92824420000005 L 18.41359950000009,43.92872859999994 L 18.413416400000017,43.92904560000011 L 18.413308700000016,43.92968120000012 L 18.41350149999994,43.93011850000005 L 18.41389330000004,43.93049760000014 L 18.41408730000012,43.930750600000124 L 18.41401840000009,43.9310938000001 L 18.413668200000075,43.93148590000004 L 18.413062600000046,43.93185410000012 L 18.413310200000126,43.93218580000001 L 18.413707999999986,43.93240930000002 L 18.414128099999914,43.93254980000012 L 18.414790700000026,43.93246390000013 L 18.415403300000094,43.9322878000001 L 18.415983600000004,43.9323414000001 L 18.41555470000003,43.93296199999992 L 18.415337899999997,43.93380789999992 L 18.414990300000056,43.934342699999945 L 18.414406100000008,43.934628599999996 L 18.41383330000008,43.93500090000009 L 18.413301500000102,43.93556050000001 L 18.413047300000017,43.93604440000007 L 18.41287729999999,43.93664189999993 L 18.412367600000096,43.93759170000004 L 18.412088100000062,43.93826610000002 L 18.41172240000003,43.93845640000001 L 18.411272400000087,43.93860120000005 L 18.411064899999985,43.93878230000013 L 18.411403400000097,43.939033100000074 L 18.41173210000011,43.939181000000076 L 18.412196199999983,43.93934270000011 L 18.413142500000106,43.93947280000003 L 18.413684199999977,43.93960350000003 L 18.413914200000022,43.93985780000014 L 18.413805900000114,43.940225199999986 L 18.413779900000065,43.94050659999999 L 18.414211100000045,43.94072799999998 L 18.415225200000123,43.940968199999986 L 18.415551200000095,43.94132930000001 L 18.415797900000086,43.94190600000013 L 18.416064400000096,43.94231080000003 L 18.416661400000123,43.94285830000007 L 18.416959300000087,43.94298690000005 L 18.417545800000084,43.942976300000055 L 18.417894100000126,43.943096500000024 L 18.41813230000014,43.943615200000124 L 18.418355599999927,43.9437466 L 18.419318300000043,43.943970500000034 L 18.419590400000004,43.94415960000009 L 18.419957300000135,43.94464770000013 L 18.420652400000108,43.944863600000076 L 18.421028799999988,43.9454748 L 18.421319200000028,43.94560949999993 L 18.422094100000038,43.94570300000004 L 18.42228630000011,43.945917800000075 L 18.42221189999998,43.946351400000026 L 18.422382500000083,43.94642590000001 L 18.423170600000105,43.946408300000144 L 18.423567000000048,43.94657769999992 L 18.423757599999988,43.946795099999974 L 18.42369190000005,43.94780609999998 L 18.4239728,43.94821920000004 L 18.424291200000084,43.9485782000001 L 18.4247474,43.94869000000011 L 18.425405800000135,43.948680800000034 L 18.426070700000082,43.94855070000011 L 18.426471600000013,43.94840740000001 L 18.426848100000086,43.94842370000009 L 18.427218299999993,43.94884710000014 L 18.42762609999994,43.94912620000014 L 18.42811610000001,43.94930580000005 L 18.428324099999998,43.949541700000054 L 18.428426899999977,43.94984230000006 L 18.428606700000103,43.95004370000004 L 18.42871500000001,43.9503373 L 18.428847599999983,43.95042450000011 L 18.429275500000017,43.950452100000064 L 18.429506100000083,43.95059100000003 L 18.429894300000058,43.95072500000009 L 18.430274200000042,43.95073360000009 L 18.430802900000117,43.95081910000005 L 18.431287600000076,43.95083579999999 L 18.43156070000009,43.95080230000008 L 18.43192330000005,43.9505719 L 18.432135500000015,43.950450900000135 L 18.43266840000007,43.95043510000005 L 18.43289560000005,43.95047100000005 L 18.433138100000065,43.950577599999974 L 18.433374300000025,43.95071200000007 L 18.433533200000056,43.950987699999985 L 18.433982800000138,43.951045799999974 L 18.434160200000065,43.95108479999999 L 18.43486969999998,43.95167909999998 L 18.43550170000003,43.952094500000044 L 18.435875700000054,43.95222189999993 L 18.436414900000102,43.95222269999999 L 18.436711799999955,43.952124900000115 L 18.436943700000143,43.95188600000006 L 18.437164000000053,43.951684800000066 L 18.437557999999967,43.95161110000004 L 18.43782590000012,43.95163359999992 L 18.43818770000007,43.95189800000014 L 18.43897440000012,43.95193530000006 L 18.439411000000007,43.952016800000024 L 18.43992120000013,43.95228380000009 L 18.440072800000053,43.95249390000009 L 18.44015589999998,43.952848300000085 L 18.440320999999983,43.95297770000013 L 18.44054460000001,43.952991900000086 L 18.440758100000096,43.952889000000084 L 18.440971699999977,43.95279949999997 L 18.441289600000005,43.95285280000007 L 18.441688599999964,43.9530426 L 18.441935100000137,43.95328610000007 L 18.442289399999936,43.953407099999936 L 18.442636200000038,43.95343170000001 L 18.442994700000042,43.953502300000025 L 18.444084299999986,43.95387850000003 L 18.44486880000005,43.954037500000084 L 18.44554560000006,43.954015200000015 L 18.446078200000102,43.953835000000026 L 18.44672360000004,43.953768500000024 L 18.447134500000118,43.95390150000003 L 18.44751980000001,43.954010000000096 L 18.447894600000097,43.953970500000025 L 18.448436600000036,43.95383730000003 L 18.448799500000007,43.953788700000075 L 18.44919560000011,43.953921500000035 L 18.44937950000002,43.953977300000076 L 18.449779100000057,43.95398719999997 L 18.450564900000074,43.95388460000004 L 18.4517338,43.95400310000008 L 18.452373100000102,43.95401620000007 L 18.452900600000078,43.95392790000005 L 18.453464800000006,43.953558300000054 L 18.456630300000086,43.95281699999998 L 18.458333299999993,43.952534600000035 L 18.46044990000013,43.95214499999997 L 18.462468399999977,43.95164230000012 L 18.465465600000016,43.9507382000001 L 18.466350800000043,43.95024200000006 L 18.46711429999999,43.950205200000084 L 18.467828300000065,43.950097200000016 L 18.468976800000064,43.95002590000013 L 18.469698100000073,43.94998620000007 L 18.470191500000055,43.949929699999984 L 18.47103869999995,43.94971709999999 L 18.47162560000004,43.94954640000009 L 18.471931499999926,43.94957729999999 L 18.472288900000024,43.94959060000002 L 18.473106400000006,43.94926149999998 L 18.474000000000046,43.948983800000065 L 18.474867800000084,43.94854880000014 L 18.47549320000013,43.94835060000008 L 18.47569939999994,43.94832660000003 L 18.476689000000135,43.94804700000003 L 18.47714970000004,43.94781030000013 L 18.47749760000005,43.94748350000009 L 18.477929500000073,43.94719609999993 L 18.478364499999998,43.947165400000074 L 18.47882800000002,43.94723590000007 L 18.47932670000006,43.947397100000046 L 18.480021299999976,43.94800920000006 L 18.480122199999983,43.948538200000144 L 18.480506400000138,43.94892610000011 L 18.48061839999997,43.94934529999995 L 18.480755100000124,43.94960249999991 L 18.481853500000057,43.95039320000001 L 18.482745699999953,43.95060799999999 L 18.484183799999926,43.95069339999998 L 18.484632999999974,43.95066230000003 L 18.484920999999986,43.95074299999999 L 18.485677800000076,43.95101630000005 L 18.486334500000055,43.951022199999954 L 18.486941300000012,43.95107339999993 L 18.4874327,43.95141540000003 L 18.487920700000018,43.95181459999998 L 18.488158199999987,43.95220489999997 L 18.492706000000055,43.9514683000001 L 18.493614600000058,43.9541966000001 L 18.497592600000075,43.95675640000013 L 18.496067900000014,43.96015780000005 L 18.50504710000007,43.966773000000046 L 18.50684410000008,43.96674050000007 L 18.51164170000004,43.964046400000086 L 18.51171260000001,43.96354029999992 L 18.515799700000002,43.96202069999998 L 18.51603549999993,43.96214370000001 L 18.51619410000012,43.96183120000012 L 18.516266700000074,43.96150170000004 L 18.516424000000143,43.96119440000001 L 18.517165199999965,43.96062510000013 L 18.509463600000117,43.9509336000001 L 18.50782520000007,43.94882419999999 L 18.503227900000013,43.94195710000008 L 18.49761749999999,43.93430410000013 L 18.49601419999999,43.932560500000136 L 18.494179500000087,43.930090199999995 L 18.491065300000002,43.925896799999975 L 18.483644900000115,43.91182040000001 L 18.479503700000123,43.906569500000046 L 18.468209900000033,43.896435199999985 L 18.46870220000011,43.89306550000009 L 18.473094700000104,43.89242740000003 L 18.473976100000016,43.892299300000104 L 18.476437200000078,43.891189300000065 L 18.477822800000126,43.890555600000084 L 18.480702399999984,43.888381000000095 L 18.482643199999984,43.885776400000054 L 18.48325760000006,43.88323170000001 L 18.482142599999975,43.881397500000105 L 18.481253300000105,43.88075629999997 L 18.481021699999985,43.88017350000007 L 18.478820700000085,43.87811959999999 L 18.475591300000076,43.87627170000002 L 18.47227349999997,43.87509120000004 L 18.47060440000007,43.87451060000012 L 18.46933260000003,43.869506299999955 L 18.469186400000012,43.86758870000011 L 18.469167300000038,43.86733850000002 L 18.467598200000054,43.86121880000013 L 18.46771059999992,43.857888800000126 L 18.46662830000008,43.854785900000024 L 18.466262099999994,43.853736000000026 L 18.464703499999985,43.84671860000009 L 18.46467860000007,43.84660949999994 L 18.463773200000105,43.84468020000003 L 18.463643800000057,43.84440449999994 L 18.46336730000013,43.84315570000001 L 18.463195200000087,43.84079350000013 L 18.462979399999995,43.83753869999998 L 18.463263400000017,43.83573339999998 L 18.463255600000082,43.835147800000016 L 18.462203100000067,43.830178900000135 L 18.460290100000066,43.82729910000006 L 18.459669400000053,43.8269198000001 L 18.458542000000023,43.826635800000076 L 18.457131900000036,43.82635190000002 L 18.455165300000033,43.82636380000014 L 18.4447770402644,43.82449584127022 L 18.436210980643295,43.82925476328188 L 18.431452058631635,43.83401368529354 L 18.42526546001659,43.8387726073052 L 18.42050653800493,43.84020028390859 L 18.413214540778426,43.84196796710364 L 18.397081074260143,43.84024717563716 L 18.393135054172888,43.83798126925376 L 18.391477113733742,43.83496546969576 L 18.389573544929135,43.82877887108066 L 18.389573544929135,43.82306816466661 L 18.391477113733742,43.81402621284445 L 18.393971889156774,43.80832386902051 L 18.394214516199497,43.804828356445626 L 18.392882181012965,43.80127546261514 L 18.390693439633708,43.79860388297635 L 18.385766407319863,43.797845878004864 L 18.376724455497538,43.797845878004864 L 18.371264893261298,43.79685323032561 L 18.36911842963775,43.795041817068864 L 18.36863428807783,43.788803926182766 L 18.36863428807783,43.78356911196988 L 18.36995431911288,43.77796758896852 L 18.369421502338184,43.77427237339799 L 18.367127296107526,43.77083106405189 L 18.363203206120545,43.76963677579516 L 18.36022279887294,43.770024483500606 L 18.35570588327937,43.772734632856725 L 18.35166079956963,43.77582793216425 L 18.347139823658495,43.77939712367299 L 18.339836708725215,43.783808278306935 L 18.333894157392592,43.784996788573324 L 18.323424528967053,43.787376249579154 L 18.313430792742565,43.78927981838393 L 18.307797642501896,43.7913922497242 L 18.29850994104686,43.79766191589232 L 18.28936715834101,43.80454985225367 L 18.284221860501304,43.80842618675911 L 18.27589730087368,43.81296411934153 L 18.26790327068801,43.81678216360933 L 18.265659589358393,43.81961004425858 L 18.264191711426804,43.82648755147994 L 18.262825064765877,43.829652725235405 L 18.26266795064754,43.83001660384315 L 18.248037776317233,43.83984850654565 L 18.244898253580516,43.84140478777448 L 18.24064920760253,43.84188034514915 L 18.238342590970092,43.84120750700839 L 18.237514753704488,43.84048595359849 L 18.23525697185414,43.829926509162306 L 18.235115294044704,43.82889654415334 L 18.234042099795886,43.82225432849816 L 18.23374164995596,43.821096407526454 L 18.231407338423253,43.819626513774836 L 18.21634876323077,43.81079945746973 L 18.214834110885533,43.810083279807145 L 18.212944634535575,43.809616243361745 L 18.210757958498732,43.80976813165955 z\" /></g></svg>"
      ],
      "text/plain": [
       "<shapely.geometry.polygon.Polygon at 0x1e7224fc190>"
      ]
     },
     "execution_count": 10,
     "metadata": {},
     "output_type": "execute_result"
    }
   ],
   "source": [
    "extent.geometry[0]"
   ]
  },
  {
   "cell_type": "markdown",
   "metadata": {},
   "source": [
    "## We will extract OSM POIs"
   ]
  },
  {
   "cell_type": "code",
   "execution_count": 11,
   "metadata": {},
   "outputs": [],
   "source": [
    "school_tags = {'amenity':['school', 'kindergarten', 'university', 'college']}\n",
    "# Removing pharmacy from health_tags\n",
    "health_tags = {'amenity':['clinic', 'hospital', 'health']}\n",
    "police_tags = {'amenity':['police']}\n",
    "fire_station_tags = {'amenity':['fire_station']}"
   ]
  },
  {
   "cell_type": "code",
   "execution_count": 12,
   "metadata": {},
   "outputs": [],
   "source": [
    "tag_dictionary = {'schools': school_tags, 'health': health_tags, 'police': police_tags, 'fire': fire_station_tags}"
   ]
  },
  {
   "cell_type": "code",
   "execution_count": 13,
   "metadata": {},
   "outputs": [],
   "source": [
    "try:\n",
    "    os.mkdir(outputFolder + '/osm_infrastructure')\n",
    "except FileExistsError:\n",
    "    pass"
   ]
  },
  {
   "cell_type": "code",
   "execution_count": 14,
   "metadata": {},
   "outputs": [
    {
     "name": "stdout",
     "output_type": "stream",
     "text": [
      "schools\n",
      "health\n",
      "police\n",
      "fire\n",
      "('schools', <GOSTnets.fetch_pois.OsmObject object at 0x000001E726BD8B50>)\n"
     ]
    },
    {
     "name": "stderr",
     "output_type": "stream",
     "text": [
      "C:\\Users\\Rosem\\anaconda3\\envs\\cityscan\\lib\\site-packages\\gostnets-1.0.1-py3.9.egg\\GOSTnets\\fetch_pois.py:79: UserWarning: Geometry is in a geographic CRS. Results from 'centroid' are likely incorrect. Use 'GeoSeries.to_crs()' to re-project geometries to a projected CRS before this operation.\n",
      "\n",
      "  polygons['geometry'] = polygons.centroid\n",
      "C:\\Users\\Rosem\\anaconda3\\envs\\cityscan\\lib\\site-packages\\gostnets-1.0.1-py3.9.egg\\GOSTnets\\fetch_pois.py:95: UserWarning: Geometry is in a geographic CRS. Results from 'buffer' are likely incorrect. Use 'GeoSeries.to_crs()' to re-project geometries to a projected CRS before this operation.\n",
      "\n",
      "  gdf['buffer'] = gdf['geometry'].buffer(buf_width)\n",
      "C:\\Users\\Rosem\\anaconda3\\envs\\cityscan\\lib\\site-packages\\geopandas\\_vectorized.py:786: DeprecationWarning: An exception was ignored while fetching the attribute `__array_interface__` from an object of type 'Polygon'.  With the exception of `AttributeError` NumPy will always raise this exception in the future.  Raise this deprecation warning to see the original exception. (Warning added NumPy 1.21)\n",
      "  out[:] = [\n",
      "C:\\Users\\Rosem\\anaconda3\\envs\\cityscan\\lib\\site-packages\\geopandas\\_vectorized.py:142: DeprecationWarning: An exception was ignored while fetching the attribute `__array_interface__` from an object of type 'Polygon'.  With the exception of `AttributeError` NumPy will always raise this exception in the future.  Raise this deprecation warning to see the original exception. (Warning added NumPy 1.21)\n",
      "  aout[:] = out\n"
     ]
    },
    {
     "name": "stdout",
     "output_type": "stream",
     "text": [
      "('health', <GOSTnets.fetch_pois.OsmObject object at 0x000001E726BD8460>)\n"
     ]
    },
    {
     "name": "stderr",
     "output_type": "stream",
     "text": [
      "C:\\Users\\Rosem\\anaconda3\\envs\\cityscan\\lib\\site-packages\\geopandas\\_vectorized.py:142: DeprecationWarning: An exception was ignored while fetching the attribute `__array_interface__` from an object of type 'MultiPolygon'.  With the exception of `AttributeError` NumPy will always raise this exception in the future.  Raise this deprecation warning to see the original exception. (Warning added NumPy 1.21)\n",
      "  aout[:] = out\n",
      "C:\\Users\\Rosem\\anaconda3\\envs\\cityscan\\lib\\site-packages\\gostnets-1.0.1-py3.9.egg\\GOSTnets\\fetch_pois.py:79: UserWarning: Geometry is in a geographic CRS. Results from 'centroid' are likely incorrect. Use 'GeoSeries.to_crs()' to re-project geometries to a projected CRS before this operation.\n",
      "\n",
      "  polygons['geometry'] = polygons.centroid\n",
      "C:\\Users\\Rosem\\anaconda3\\envs\\cityscan\\lib\\site-packages\\gostnets-1.0.1-py3.9.egg\\GOSTnets\\fetch_pois.py:95: UserWarning: Geometry is in a geographic CRS. Results from 'buffer' are likely incorrect. Use 'GeoSeries.to_crs()' to re-project geometries to a projected CRS before this operation.\n",
      "\n",
      "  gdf['buffer'] = gdf['geometry'].buffer(buf_width)\n",
      "C:\\Users\\Rosem\\anaconda3\\envs\\cityscan\\lib\\site-packages\\geopandas\\_vectorized.py:786: DeprecationWarning: An exception was ignored while fetching the attribute `__array_interface__` from an object of type 'Polygon'.  With the exception of `AttributeError` NumPy will always raise this exception in the future.  Raise this deprecation warning to see the original exception. (Warning added NumPy 1.21)\n",
      "  out[:] = [\n",
      "C:\\Users\\Rosem\\anaconda3\\envs\\cityscan\\lib\\site-packages\\geopandas\\_vectorized.py:142: DeprecationWarning: An exception was ignored while fetching the attribute `__array_interface__` from an object of type 'Polygon'.  With the exception of `AttributeError` NumPy will always raise this exception in the future.  Raise this deprecation warning to see the original exception. (Warning added NumPy 1.21)\n",
      "  aout[:] = out\n"
     ]
    },
    {
     "name": "stdout",
     "output_type": "stream",
     "text": [
      "('police', <GOSTnets.fetch_pois.OsmObject object at 0x000001E726BEC3A0>)\n"
     ]
    },
    {
     "name": "stderr",
     "output_type": "stream",
     "text": [
      "C:\\Users\\Rosem\\anaconda3\\envs\\cityscan\\lib\\site-packages\\geopandas\\_vectorized.py:142: DeprecationWarning: An exception was ignored while fetching the attribute `__array_interface__` from an object of type 'MultiPolygon'.  With the exception of `AttributeError` NumPy will always raise this exception in the future.  Raise this deprecation warning to see the original exception. (Warning added NumPy 1.21)\n",
      "  aout[:] = out\n",
      "C:\\Users\\Rosem\\anaconda3\\envs\\cityscan\\lib\\site-packages\\gostnets-1.0.1-py3.9.egg\\GOSTnets\\fetch_pois.py:79: UserWarning: Geometry is in a geographic CRS. Results from 'centroid' are likely incorrect. Use 'GeoSeries.to_crs()' to re-project geometries to a projected CRS before this operation.\n",
      "\n",
      "  polygons['geometry'] = polygons.centroid\n",
      "C:\\Users\\Rosem\\anaconda3\\envs\\cityscan\\lib\\site-packages\\geopandas\\geoseries.py:207: DeprecationWarning: The default dtype for empty Series will be 'object' instead of 'float64' in a future version. Specify a dtype explicitly to silence this warning.\n",
      "  s = pd.Series(data, index=index, name=name, **kwargs)\n",
      "C:\\Users\\Rosem\\anaconda3\\envs\\cityscan\\lib\\site-packages\\gostnets-1.0.1-py3.9.egg\\GOSTnets\\fetch_pois.py:95: UserWarning: Geometry is in a geographic CRS. Results from 'buffer' are likely incorrect. Use 'GeoSeries.to_crs()' to re-project geometries to a projected CRS before this operation.\n",
      "\n",
      "  gdf['buffer'] = gdf['geometry'].buffer(buf_width)\n",
      "C:\\Users\\Rosem\\anaconda3\\envs\\cityscan\\lib\\site-packages\\geopandas\\_vectorized.py:786: DeprecationWarning: An exception was ignored while fetching the attribute `__array_interface__` from an object of type 'Polygon'.  With the exception of `AttributeError` NumPy will always raise this exception in the future.  Raise this deprecation warning to see the original exception. (Warning added NumPy 1.21)\n",
      "  out[:] = [\n",
      "C:\\Users\\Rosem\\anaconda3\\envs\\cityscan\\lib\\site-packages\\geopandas\\_vectorized.py:142: DeprecationWarning: An exception was ignored while fetching the attribute `__array_interface__` from an object of type 'Polygon'.  With the exception of `AttributeError` NumPy will always raise this exception in the future.  Raise this deprecation warning to see the original exception. (Warning added NumPy 1.21)\n",
      "  aout[:] = out\n"
     ]
    },
    {
     "name": "stdout",
     "output_type": "stream",
     "text": [
      "('fire', <GOSTnets.fetch_pois.OsmObject object at 0x000001E726BEC310>)\n"
     ]
    },
    {
     "name": "stderr",
     "output_type": "stream",
     "text": [
      "C:\\Users\\Rosem\\anaconda3\\envs\\cityscan\\lib\\site-packages\\geopandas\\_vectorized.py:142: DeprecationWarning: An exception was ignored while fetching the attribute `__array_interface__` from an object of type 'MultiPolygon'.  With the exception of `AttributeError` NumPy will always raise this exception in the future.  Raise this deprecation warning to see the original exception. (Warning added NumPy 1.21)\n",
      "  aout[:] = out\n",
      "C:\\Users\\Rosem\\anaconda3\\envs\\cityscan\\lib\\site-packages\\gostnets-1.0.1-py3.9.egg\\GOSTnets\\fetch_pois.py:79: UserWarning: Geometry is in a geographic CRS. Results from 'centroid' are likely incorrect. Use 'GeoSeries.to_crs()' to re-project geometries to a projected CRS before this operation.\n",
      "\n",
      "  polygons['geometry'] = polygons.centroid\n",
      "C:\\Users\\Rosem\\anaconda3\\envs\\cityscan\\lib\\site-packages\\geopandas\\geoseries.py:207: DeprecationWarning: The default dtype for empty Series will be 'object' instead of 'float64' in a future version. Specify a dtype explicitly to silence this warning.\n",
      "  s = pd.Series(data, index=index, name=name, **kwargs)\n",
      "C:\\Users\\Rosem\\anaconda3\\envs\\cityscan\\lib\\site-packages\\gostnets-1.0.1-py3.9.egg\\GOSTnets\\fetch_pois.py:95: UserWarning: Geometry is in a geographic CRS. Results from 'buffer' are likely incorrect. Use 'GeoSeries.to_crs()' to re-project geometries to a projected CRS before this operation.\n",
      "\n",
      "  gdf['buffer'] = gdf['geometry'].buffer(buf_width)\n",
      "C:\\Users\\Rosem\\anaconda3\\envs\\cityscan\\lib\\site-packages\\geopandas\\_vectorized.py:786: DeprecationWarning: An exception was ignored while fetching the attribute `__array_interface__` from an object of type 'Polygon'.  With the exception of `AttributeError` NumPy will always raise this exception in the future.  Raise this deprecation warning to see the original exception. (Warning added NumPy 1.21)\n",
      "  out[:] = [\n",
      "C:\\Users\\Rosem\\anaconda3\\envs\\cityscan\\lib\\site-packages\\geopandas\\_vectorized.py:142: DeprecationWarning: An exception was ignored while fetching the attribute `__array_interface__` from an object of type 'Polygon'.  With the exception of `AttributeError` NumPy will always raise this exception in the future.  Raise this deprecation warning to see the original exception. (Warning added NumPy 1.21)\n",
      "  aout[:] = out\n"
     ]
    }
   ],
   "source": [
    "queries = {}\n",
    "for tags in tag_dictionary.items():\n",
    "    print(tags[0])\n",
    "    # create the OsmObject\n",
    "    queries[tags[0]] = OsmObject(f'{tags[0]}', extent.geometry[0].buffer(0), tags[1])\n",
    "query_results_gpd_dict = {}\n",
    "for query in queries.items():\n",
    "    print(query)\n",
    "    result = query[1].GenerateOSMPOIs()\n",
    "    \n",
    "    # if query is not empty\n",
    "    if result.empty == False:\n",
    "        \n",
    "        query[1].RemoveDupes(0.0005)\n",
    "        \n",
    "        #print(query[1].df)\n",
    "\n",
    "        if 'name' in query[1].df.columns:\n",
    "            query_results = query[1].df[['amenity','geometry','name']]\n",
    "        else:\n",
    "            query_results = query[1].df[['amenity','geometry']]\n",
    "\n",
    "        # convert to GeoDataFrame\n",
    "        query_results_gpd = gpd.GeoDataFrame(query_results, crs = \"epsg:4326\", geometry = 'geometry')\n",
    "        query_results_gpd.to_file(outputFolder + f'/osm_infrastructure/osm_{query[0]}.shp')\n",
    "\n",
    "        #save result in query_results_gpd_dict \n",
    "        query_results_gpd_dict[query[0]] = query_results_gpd"
   ]
  },
  {
   "cell_type": "markdown",
   "metadata": {},
   "source": [
    "## We will extract the Roads and convert into a graph"
   ]
  },
  {
   "cell_type": "code",
   "execution_count": 15,
   "metadata": {},
   "outputs": [
    {
     "name": "stderr",
     "output_type": "stream",
     "text": [
      "C:\\Users\\Rosem\\anaconda3\\envs\\cityscan\\lib\\site-packages\\geopandas\\_vectorized.py:142: DeprecationWarning: An exception was ignored while fetching the attribute `__array_interface__` from an object of type 'MultiPolygon'.  With the exception of `AttributeError` NumPy will always raise this exception in the future.  Raise this deprecation warning to see the original exception. (Warning added NumPy 1.21)\n",
      "  aout[:] = out\n",
      "<class 'networkx.utils.decorators.argmap'> compilation 21:5: DeprecationWarning: write_gpickle is deprecated and will be removed in 3.0.Use ``pickle.dump(G, path, protocol)``\n"
     ]
    }
   ],
   "source": [
    "# This is the section where we can adjust the road speeds\n",
    "if not os.path.exists(roadGraph):\n",
    "    extent = box(*extent.total_bounds)\n",
    "    G = ox.graph_from_polygon(extent, network_type = 'drive_service')\n",
    "    # This is how time is calculated from the OSMNX length attribute\n",
    "    G = gn.convert_network_to_time(G, 'length')\n",
    "    # save the largest subgraph\n",
    "   \n",
    "    # compatible with NetworkX 2.4\n",
    "    list_of_subgraphs = list(G.subgraph(c).copy() for c in nx.strongly_connected_components(G))\n",
    "    max_graph = None\n",
    "    max_edges = 0\n",
    "    for i in list_of_subgraphs:\n",
    "        if i.number_of_edges() > max_edges:\n",
    "            max_edges = i.number_of_edges()\n",
    "            max_graph = i\n",
    "\n",
    "    # set your graph equal to the largest sub-graph\n",
    "    G = max_graph\n",
    "\n",
    "    nx.write_gpickle(G, roadGraph)\n",
    "else:\n",
    "    G = nx.read_gpickle(roadGraph)    \n",
    "    G = gn.convert_network_to_time(G, 'length')"
   ]
  },
  {
   "cell_type": "markdown",
   "metadata": {},
   "source": [
    "### Inspect the road graph as a shapefile"
   ]
  },
  {
   "cell_type": "code",
   "execution_count": 16,
   "metadata": {},
   "outputs": [],
   "source": [
    "roads = gn.edge_gdf_from_graph(G)"
   ]
  },
  {
   "cell_type": "code",
   "execution_count": 17,
   "metadata": {},
   "outputs": [],
   "source": [
    "pd.set_option('display.max_columns', None)"
   ]
  },
  {
   "cell_type": "markdown",
   "metadata": {},
   "source": [
    "### Sometimes the highway value can have a list instead of a single value, in these cases the code below will replace the list with the first value of the list"
   ]
  },
  {
   "cell_type": "code",
   "execution_count": 18,
   "metadata": {},
   "outputs": [],
   "source": [
    "def replace_hwy(x):\n",
    "    if isinstance(x, list):\n",
    "        x = x[0]\n",
    "    return x"
   ]
  },
  {
   "cell_type": "code",
   "execution_count": 19,
   "metadata": {},
   "outputs": [],
   "source": [
    "roads['highway'] = roads.apply(lambda x: replace_hwy(x['highway']), axis=1)"
   ]
  },
  {
   "cell_type": "code",
   "execution_count": 20,
   "metadata": {},
   "outputs": [
    {
     "data": {
      "text/html": [
       "<div>\n",
       "<style scoped>\n",
       "    .dataframe tbody tr th:only-of-type {\n",
       "        vertical-align: middle;\n",
       "    }\n",
       "\n",
       "    .dataframe tbody tr th {\n",
       "        vertical-align: top;\n",
       "    }\n",
       "\n",
       "    .dataframe thead th {\n",
       "        text-align: right;\n",
       "    }\n",
       "</style>\n",
       "<table border=\"1\" class=\"dataframe\">\n",
       "  <thead>\n",
       "    <tr style=\"text-align: right;\">\n",
       "      <th></th>\n",
       "      <th>stnode</th>\n",
       "      <th>endnode</th>\n",
       "      <th>time</th>\n",
       "      <th>mode</th>\n",
       "      <th>highway</th>\n",
       "      <th>bridge</th>\n",
       "      <th>service</th>\n",
       "      <th>access</th>\n",
       "      <th>junction</th>\n",
       "      <th>tunnel</th>\n",
       "      <th>ref</th>\n",
       "      <th>length</th>\n",
       "      <th>width</th>\n",
       "      <th>osmid</th>\n",
       "      <th>lanes</th>\n",
       "      <th>maxspeed</th>\n",
       "      <th>name</th>\n",
       "      <th>oneway</th>\n",
       "      <th>geometry</th>\n",
       "    </tr>\n",
       "  </thead>\n",
       "  <tbody>\n",
       "    <tr>\n",
       "      <th>0</th>\n",
       "      <td>32271249</td>\n",
       "      <td>253041617</td>\n",
       "      <td>33.08598</td>\n",
       "      <td>drive</td>\n",
       "      <td>residential</td>\n",
       "      <td>NaN</td>\n",
       "      <td>NaN</td>\n",
       "      <td>NaN</td>\n",
       "      <td>NaN</td>\n",
       "      <td>NaN</td>\n",
       "      <td>NaN</td>\n",
       "      <td>183.811</td>\n",
       "      <td>NaN</td>\n",
       "      <td>23370195</td>\n",
       "      <td>NaN</td>\n",
       "      <td>NaN</td>\n",
       "      <td>Branka Radičevića</td>\n",
       "      <td>False</td>\n",
       "      <td>LINESTRING (18.38119 43.80148, 18.38107 43.801...</td>\n",
       "    </tr>\n",
       "    <tr>\n",
       "      <th>1</th>\n",
       "      <td>32271249</td>\n",
       "      <td>32271250</td>\n",
       "      <td>56.05254</td>\n",
       "      <td>drive</td>\n",
       "      <td>residential</td>\n",
       "      <td>NaN</td>\n",
       "      <td>NaN</td>\n",
       "      <td>NaN</td>\n",
       "      <td>NaN</td>\n",
       "      <td>NaN</td>\n",
       "      <td>NaN</td>\n",
       "      <td>311.403</td>\n",
       "      <td>NaN</td>\n",
       "      <td>929265833</td>\n",
       "      <td>NaN</td>\n",
       "      <td>NaN</td>\n",
       "      <td>Mladička</td>\n",
       "      <td>False</td>\n",
       "      <td>LINESTRING (18.38119 43.80148, 18.38008 43.801...</td>\n",
       "    </tr>\n",
       "  </tbody>\n",
       "</table>\n",
       "</div>"
      ],
      "text/plain": [
       "     stnode    endnode      time   mode      highway bridge service access  \\\n",
       "0  32271249  253041617  33.08598  drive  residential    NaN     NaN    NaN   \n",
       "1  32271249   32271250  56.05254  drive  residential    NaN     NaN    NaN   \n",
       "\n",
       "  junction tunnel  ref   length width      osmid lanes maxspeed  \\\n",
       "0      NaN    NaN  NaN  183.811   NaN   23370195   NaN      NaN   \n",
       "1      NaN    NaN  NaN  311.403   NaN  929265833   NaN      NaN   \n",
       "\n",
       "                name  oneway  \\\n",
       "0  Branka Radičevića   False   \n",
       "1           Mladička   False   \n",
       "\n",
       "                                            geometry  \n",
       "0  LINESTRING (18.38119 43.80148, 18.38107 43.801...  \n",
       "1  LINESTRING (18.38119 43.80148, 18.38008 43.801...  "
      ]
     },
     "execution_count": 20,
     "metadata": {},
     "output_type": "execute_result"
    }
   ],
   "source": [
    "roads[:2]"
   ]
  },
  {
   "cell_type": "code",
   "execution_count": 21,
   "metadata": {},
   "outputs": [],
   "source": [
    "if not os.path.exists(outputFolder + '/OSM_Roads/OSM_Roads.shp'):\n",
    "    #roads['oneway'] = roads.oneway.astype(int)\n",
    "    roads = roads[['length','time','mode','geometry']]\n",
    "    roads.to_file(outputFolder + '/OSM_Roads')"
   ]
  },
  {
   "cell_type": "markdown",
   "metadata": {},
   "source": [
    "### Snap destinations to the road graph"
   ]
  },
  {
   "cell_type": "code",
   "execution_count": 22,
   "metadata": {},
   "outputs": [],
   "source": [
    "snapped_destinations_dict = {}\n",
    "for results_gpd in query_results_gpd_dict.items():\n",
    "    snapped_destinations = gn.pandana_snap(G, query_results_gpd_dict[results_gpd[0]])\n",
    "    snapped_destinations_dict[results_gpd[0]] = list(snapped_destinations['NN'].unique())"
   ]
  },
  {
   "cell_type": "code",
   "execution_count": 23,
   "metadata": {},
   "outputs": [],
   "source": [
    "# snapped_destinations_dict"
   ]
  },
  {
   "cell_type": "markdown",
   "metadata": {},
   "source": [
    "## Isochrones processing"
   ]
  },
  {
   "cell_type": "code",
   "execution_count": 24,
   "metadata": {},
   "outputs": [],
   "source": [
    "threshold_list = {\n",
    "    'schools': [800,1600,2400],\n",
    "    'health': [1000,2000,3000]\n",
    "}"
   ]
  },
  {
   "cell_type": "code",
   "execution_count": 25,
   "metadata": {},
   "outputs": [],
   "source": [
    "# find graph utm zone\n",
    "G_utm = gn.utm_of_graph(G)"
   ]
  },
  {
   "cell_type": "code",
   "execution_count": 26,
   "metadata": {},
   "outputs": [],
   "source": [
    "def isochrone_processing(amenity_type):\n",
    "    amenity_threshold_list = threshold_list.get(amenity_type)\n",
    "    if amenity_threshold_list == None:\n",
    "        return \"Amenity type not found\"\n",
    "    # if no destinations for amenity type exist\n",
    "    if snapped_destinations_dict.get(amenity_type) == None:\n",
    "        print(f\"no destinations for {amenity_type} exist\")\n",
    "    else:\n",
    "        for threshold in amenity_threshold_list:\n",
    "            print(threshold)\n",
    "            iso_gdf = gn.make_iso_polys(G, snapped_destinations_dict[amenity_type], [threshold], edge_buff=300, node_buff=300, weight = 'length', measure_crs = G_utm)\n",
    "            dissolved = iso_gdf.dissolve(by=\"thresh\")\n",
    "            gdf_out = dissolved.explode()\n",
    "            gdf_out2 = gdf_out.reset_index()\n",
    "            # save file\n",
    "            gdf_out2.to_file(outputFolder + f'/{city_name}_AOI_accessibility_{amenity_type}_isochrones_{threshold}m.shp')\n",
    "        "
   ]
  },
  {
   "cell_type": "code",
   "execution_count": 27,
   "metadata": {},
   "outputs": [
    {
     "name": "stdout",
     "output_type": "stream",
     "text": [
      "schools\n",
      "800\n",
      "merge all edges and nodes\n"
     ]
    },
    {
     "name": "stderr",
     "output_type": "stream",
     "text": [
      "C:\\Users\\Rosem\\anaconda3\\envs\\cityscan\\lib\\site-packages\\geopandas\\_vectorized.py:786: DeprecationWarning: An exception was ignored while fetching the attribute `__array_interface__` from an object of type 'Polygon'.  With the exception of `AttributeError` NumPy will always raise this exception in the future.  Raise this deprecation warning to see the original exception. (Warning added NumPy 1.21)\n",
      "  out[:] = [\n",
      "C:\\Users\\Rosem\\anaconda3\\envs\\cityscan\\lib\\site-packages\\geopandas\\_vectorized.py:142: DeprecationWarning: An exception was ignored while fetching the attribute `__array_interface__` from an object of type 'Polygon'.  With the exception of `AttributeError` NumPy will always raise this exception in the future.  Raise this deprecation warning to see the original exception. (Warning added NumPy 1.21)\n",
      "  aout[:] = out\n"
     ]
    },
    {
     "name": "stdout",
     "output_type": "stream",
     "text": [
      "unary_union\n"
     ]
    },
    {
     "name": "stderr",
     "output_type": "stream",
     "text": [
      "C:\\Users\\Rosem\\anaconda3\\envs\\cityscan\\lib\\site-packages\\pandas\\core\\dtypes\\cast.py:1990: DeprecationWarning: An exception was ignored while fetching the attribute `__array_interface__` from an object of type 'Polygon'.  With the exception of `AttributeError` NumPy will always raise this exception in the future.  Raise this deprecation warning to see the original exception. (Warning added NumPy 1.21)\n",
      "  result[:] = values\n",
      "C:\\Users\\Rosem\\anaconda3\\envs\\cityscan\\lib\\site-packages\\pandas\\core\\dtypes\\cast.py:1990: DeprecationWarning: An exception was ignored while fetching the attribute `__array_interface__` from an object of type 'MultiPolygon'.  With the exception of `AttributeError` NumPy will always raise this exception in the future.  Raise this deprecation warning to see the original exception. (Warning added NumPy 1.21)\n",
      "  result[:] = values\n",
      "C:\\Users\\Rosem\\anaconda3\\envs\\cityscan\\lib\\site-packages\\geopandas\\_vectorized.py:142: DeprecationWarning: An exception was ignored while fetching the attribute `__array_interface__` from an object of type 'MultiPolygon'.  With the exception of `AttributeError` NumPy will always raise this exception in the future.  Raise this deprecation warning to see the original exception. (Warning added NumPy 1.21)\n",
      "  aout[:] = out\n",
      "C:\\Users\\Rosem\\anaconda3\\envs\\cityscan\\lib\\site-packages\\geopandas\\geoseries.py:207: DeprecationWarning: The default dtype for empty Series will be 'object' instead of 'float64' in a future version. Specify a dtype explicitly to silence this warning.\n",
      "  s = pd.Series(data, index=index, name=name, **kwargs)\n",
      "C:\\Users\\Rosem\\anaconda3\\envs\\cityscan\\lib\\site-packages\\geopandas\\_vectorized.py:142: DeprecationWarning: An exception was ignored while fetching the attribute `__array_interface__` from an object of type 'MultiPolygon'.  With the exception of `AttributeError` NumPy will always raise this exception in the future.  Raise this deprecation warning to see the original exception. (Warning added NumPy 1.21)\n",
      "  aout[:] = out\n",
      "C:\\Users\\Rosem\\anaconda3\\envs\\cityscan\\lib\\site-packages\\pandas\\core\\dtypes\\cast.py:1990: DeprecationWarning: An exception was ignored while fetching the attribute `__array_interface__` from an object of type 'Polygon'.  With the exception of `AttributeError` NumPy will always raise this exception in the future.  Raise this deprecation warning to see the original exception. (Warning added NumPy 1.21)\n",
      "  result[:] = values\n",
      "C:\\Users\\Rosem\\anaconda3\\envs\\cityscan\\lib\\site-packages\\geopandas\\_vectorized.py:142: DeprecationWarning: An exception was ignored while fetching the attribute `__array_interface__` from an object of type 'Polygon'.  With the exception of `AttributeError` NumPy will always raise this exception in the future.  Raise this deprecation warning to see the original exception. (Warning added NumPy 1.21)\n",
      "  aout[:] = out\n"
     ]
    },
    {
     "name": "stdout",
     "output_type": "stream",
     "text": [
      "1600\n",
      "merge all edges and nodes\n"
     ]
    },
    {
     "name": "stderr",
     "output_type": "stream",
     "text": [
      "C:\\Users\\Rosem\\anaconda3\\envs\\cityscan\\lib\\site-packages\\geopandas\\_vectorized.py:786: DeprecationWarning: An exception was ignored while fetching the attribute `__array_interface__` from an object of type 'Polygon'.  With the exception of `AttributeError` NumPy will always raise this exception in the future.  Raise this deprecation warning to see the original exception. (Warning added NumPy 1.21)\n",
      "  out[:] = [\n",
      "C:\\Users\\Rosem\\anaconda3\\envs\\cityscan\\lib\\site-packages\\geopandas\\_vectorized.py:142: DeprecationWarning: An exception was ignored while fetching the attribute `__array_interface__` from an object of type 'Polygon'.  With the exception of `AttributeError` NumPy will always raise this exception in the future.  Raise this deprecation warning to see the original exception. (Warning added NumPy 1.21)\n",
      "  aout[:] = out\n"
     ]
    },
    {
     "name": "stdout",
     "output_type": "stream",
     "text": [
      "unary_union\n"
     ]
    },
    {
     "name": "stderr",
     "output_type": "stream",
     "text": [
      "C:\\Users\\Rosem\\anaconda3\\envs\\cityscan\\lib\\site-packages\\pandas\\core\\dtypes\\cast.py:1990: DeprecationWarning: An exception was ignored while fetching the attribute `__array_interface__` from an object of type 'Polygon'.  With the exception of `AttributeError` NumPy will always raise this exception in the future.  Raise this deprecation warning to see the original exception. (Warning added NumPy 1.21)\n",
      "  result[:] = values\n",
      "C:\\Users\\Rosem\\anaconda3\\envs\\cityscan\\lib\\site-packages\\pandas\\core\\dtypes\\cast.py:1990: DeprecationWarning: An exception was ignored while fetching the attribute `__array_interface__` from an object of type 'MultiPolygon'.  With the exception of `AttributeError` NumPy will always raise this exception in the future.  Raise this deprecation warning to see the original exception. (Warning added NumPy 1.21)\n",
      "  result[:] = values\n",
      "C:\\Users\\Rosem\\anaconda3\\envs\\cityscan\\lib\\site-packages\\geopandas\\_vectorized.py:142: DeprecationWarning: An exception was ignored while fetching the attribute `__array_interface__` from an object of type 'MultiPolygon'.  With the exception of `AttributeError` NumPy will always raise this exception in the future.  Raise this deprecation warning to see the original exception. (Warning added NumPy 1.21)\n",
      "  aout[:] = out\n",
      "C:\\Users\\Rosem\\anaconda3\\envs\\cityscan\\lib\\site-packages\\geopandas\\geoseries.py:207: DeprecationWarning: The default dtype for empty Series will be 'object' instead of 'float64' in a future version. Specify a dtype explicitly to silence this warning.\n",
      "  s = pd.Series(data, index=index, name=name, **kwargs)\n",
      "C:\\Users\\Rosem\\anaconda3\\envs\\cityscan\\lib\\site-packages\\geopandas\\_vectorized.py:142: DeprecationWarning: An exception was ignored while fetching the attribute `__array_interface__` from an object of type 'MultiPolygon'.  With the exception of `AttributeError` NumPy will always raise this exception in the future.  Raise this deprecation warning to see the original exception. (Warning added NumPy 1.21)\n",
      "  aout[:] = out\n",
      "C:\\Users\\Rosem\\anaconda3\\envs\\cityscan\\lib\\site-packages\\pandas\\core\\dtypes\\cast.py:1990: DeprecationWarning: An exception was ignored while fetching the attribute `__array_interface__` from an object of type 'Polygon'.  With the exception of `AttributeError` NumPy will always raise this exception in the future.  Raise this deprecation warning to see the original exception. (Warning added NumPy 1.21)\n",
      "  result[:] = values\n",
      "C:\\Users\\Rosem\\anaconda3\\envs\\cityscan\\lib\\site-packages\\geopandas\\_vectorized.py:142: DeprecationWarning: An exception was ignored while fetching the attribute `__array_interface__` from an object of type 'Polygon'.  With the exception of `AttributeError` NumPy will always raise this exception in the future.  Raise this deprecation warning to see the original exception. (Warning added NumPy 1.21)\n",
      "  aout[:] = out\n"
     ]
    },
    {
     "name": "stdout",
     "output_type": "stream",
     "text": [
      "2400\n",
      "merge all edges and nodes\n"
     ]
    },
    {
     "name": "stderr",
     "output_type": "stream",
     "text": [
      "C:\\Users\\Rosem\\anaconda3\\envs\\cityscan\\lib\\site-packages\\geopandas\\_vectorized.py:786: DeprecationWarning: An exception was ignored while fetching the attribute `__array_interface__` from an object of type 'Polygon'.  With the exception of `AttributeError` NumPy will always raise this exception in the future.  Raise this deprecation warning to see the original exception. (Warning added NumPy 1.21)\n",
      "  out[:] = [\n",
      "C:\\Users\\Rosem\\anaconda3\\envs\\cityscan\\lib\\site-packages\\geopandas\\_vectorized.py:142: DeprecationWarning: An exception was ignored while fetching the attribute `__array_interface__` from an object of type 'Polygon'.  With the exception of `AttributeError` NumPy will always raise this exception in the future.  Raise this deprecation warning to see the original exception. (Warning added NumPy 1.21)\n",
      "  aout[:] = out\n"
     ]
    },
    {
     "name": "stdout",
     "output_type": "stream",
     "text": [
      "unary_union\n"
     ]
    },
    {
     "name": "stderr",
     "output_type": "stream",
     "text": [
      "C:\\Users\\Rosem\\anaconda3\\envs\\cityscan\\lib\\site-packages\\pandas\\core\\dtypes\\cast.py:1990: DeprecationWarning: An exception was ignored while fetching the attribute `__array_interface__` from an object of type 'Polygon'.  With the exception of `AttributeError` NumPy will always raise this exception in the future.  Raise this deprecation warning to see the original exception. (Warning added NumPy 1.21)\n",
      "  result[:] = values\n",
      "C:\\Users\\Rosem\\anaconda3\\envs\\cityscan\\lib\\site-packages\\pandas\\core\\dtypes\\cast.py:1990: DeprecationWarning: An exception was ignored while fetching the attribute `__array_interface__` from an object of type 'MultiPolygon'.  With the exception of `AttributeError` NumPy will always raise this exception in the future.  Raise this deprecation warning to see the original exception. (Warning added NumPy 1.21)\n",
      "  result[:] = values\n",
      "C:\\Users\\Rosem\\anaconda3\\envs\\cityscan\\lib\\site-packages\\geopandas\\_vectorized.py:142: DeprecationWarning: An exception was ignored while fetching the attribute `__array_interface__` from an object of type 'MultiPolygon'.  With the exception of `AttributeError` NumPy will always raise this exception in the future.  Raise this deprecation warning to see the original exception. (Warning added NumPy 1.21)\n",
      "  aout[:] = out\n",
      "C:\\Users\\Rosem\\anaconda3\\envs\\cityscan\\lib\\site-packages\\geopandas\\geoseries.py:207: DeprecationWarning: The default dtype for empty Series will be 'object' instead of 'float64' in a future version. Specify a dtype explicitly to silence this warning.\n",
      "  s = pd.Series(data, index=index, name=name, **kwargs)\n",
      "C:\\Users\\Rosem\\anaconda3\\envs\\cityscan\\lib\\site-packages\\geopandas\\_vectorized.py:142: DeprecationWarning: An exception was ignored while fetching the attribute `__array_interface__` from an object of type 'MultiPolygon'.  With the exception of `AttributeError` NumPy will always raise this exception in the future.  Raise this deprecation warning to see the original exception. (Warning added NumPy 1.21)\n",
      "  aout[:] = out\n",
      "C:\\Users\\Rosem\\anaconda3\\envs\\cityscan\\lib\\site-packages\\pandas\\core\\dtypes\\cast.py:1990: DeprecationWarning: An exception was ignored while fetching the attribute `__array_interface__` from an object of type 'Polygon'.  With the exception of `AttributeError` NumPy will always raise this exception in the future.  Raise this deprecation warning to see the original exception. (Warning added NumPy 1.21)\n",
      "  result[:] = values\n",
      "C:\\Users\\Rosem\\anaconda3\\envs\\cityscan\\lib\\site-packages\\geopandas\\_vectorized.py:142: DeprecationWarning: An exception was ignored while fetching the attribute `__array_interface__` from an object of type 'Polygon'.  With the exception of `AttributeError` NumPy will always raise this exception in the future.  Raise this deprecation warning to see the original exception. (Warning added NumPy 1.21)\n",
      "  aout[:] = out\n"
     ]
    },
    {
     "name": "stdout",
     "output_type": "stream",
     "text": [
      "health\n",
      "1000\n",
      "merge all edges and nodes\n"
     ]
    },
    {
     "name": "stderr",
     "output_type": "stream",
     "text": [
      "C:\\Users\\Rosem\\anaconda3\\envs\\cityscan\\lib\\site-packages\\geopandas\\_vectorized.py:786: DeprecationWarning: An exception was ignored while fetching the attribute `__array_interface__` from an object of type 'Polygon'.  With the exception of `AttributeError` NumPy will always raise this exception in the future.  Raise this deprecation warning to see the original exception. (Warning added NumPy 1.21)\n",
      "  out[:] = [\n",
      "C:\\Users\\Rosem\\anaconda3\\envs\\cityscan\\lib\\site-packages\\geopandas\\_vectorized.py:142: DeprecationWarning: An exception was ignored while fetching the attribute `__array_interface__` from an object of type 'Polygon'.  With the exception of `AttributeError` NumPy will always raise this exception in the future.  Raise this deprecation warning to see the original exception. (Warning added NumPy 1.21)\n",
      "  aout[:] = out\n"
     ]
    },
    {
     "name": "stdout",
     "output_type": "stream",
     "text": [
      "unary_union\n"
     ]
    },
    {
     "name": "stderr",
     "output_type": "stream",
     "text": [
      "C:\\Users\\Rosem\\anaconda3\\envs\\cityscan\\lib\\site-packages\\pandas\\core\\dtypes\\cast.py:1990: DeprecationWarning: An exception was ignored while fetching the attribute `__array_interface__` from an object of type 'Polygon'.  With the exception of `AttributeError` NumPy will always raise this exception in the future.  Raise this deprecation warning to see the original exception. (Warning added NumPy 1.21)\n",
      "  result[:] = values\n",
      "C:\\Users\\Rosem\\anaconda3\\envs\\cityscan\\lib\\site-packages\\pandas\\core\\dtypes\\cast.py:1990: DeprecationWarning: An exception was ignored while fetching the attribute `__array_interface__` from an object of type 'MultiPolygon'.  With the exception of `AttributeError` NumPy will always raise this exception in the future.  Raise this deprecation warning to see the original exception. (Warning added NumPy 1.21)\n",
      "  result[:] = values\n",
      "C:\\Users\\Rosem\\anaconda3\\envs\\cityscan\\lib\\site-packages\\geopandas\\_vectorized.py:142: DeprecationWarning: An exception was ignored while fetching the attribute `__array_interface__` from an object of type 'MultiPolygon'.  With the exception of `AttributeError` NumPy will always raise this exception in the future.  Raise this deprecation warning to see the original exception. (Warning added NumPy 1.21)\n",
      "  aout[:] = out\n",
      "C:\\Users\\Rosem\\anaconda3\\envs\\cityscan\\lib\\site-packages\\geopandas\\geoseries.py:207: DeprecationWarning: The default dtype for empty Series will be 'object' instead of 'float64' in a future version. Specify a dtype explicitly to silence this warning.\n",
      "  s = pd.Series(data, index=index, name=name, **kwargs)\n",
      "C:\\Users\\Rosem\\anaconda3\\envs\\cityscan\\lib\\site-packages\\geopandas\\_vectorized.py:142: DeprecationWarning: An exception was ignored while fetching the attribute `__array_interface__` from an object of type 'MultiPolygon'.  With the exception of `AttributeError` NumPy will always raise this exception in the future.  Raise this deprecation warning to see the original exception. (Warning added NumPy 1.21)\n",
      "  aout[:] = out\n",
      "C:\\Users\\Rosem\\anaconda3\\envs\\cityscan\\lib\\site-packages\\pandas\\core\\dtypes\\cast.py:1990: DeprecationWarning: An exception was ignored while fetching the attribute `__array_interface__` from an object of type 'Polygon'.  With the exception of `AttributeError` NumPy will always raise this exception in the future.  Raise this deprecation warning to see the original exception. (Warning added NumPy 1.21)\n",
      "  result[:] = values\n",
      "C:\\Users\\Rosem\\anaconda3\\envs\\cityscan\\lib\\site-packages\\geopandas\\_vectorized.py:142: DeprecationWarning: An exception was ignored while fetching the attribute `__array_interface__` from an object of type 'Polygon'.  With the exception of `AttributeError` NumPy will always raise this exception in the future.  Raise this deprecation warning to see the original exception. (Warning added NumPy 1.21)\n",
      "  aout[:] = out\n"
     ]
    },
    {
     "name": "stdout",
     "output_type": "stream",
     "text": [
      "2000\n",
      "merge all edges and nodes\n"
     ]
    },
    {
     "name": "stderr",
     "output_type": "stream",
     "text": [
      "C:\\Users\\Rosem\\anaconda3\\envs\\cityscan\\lib\\site-packages\\geopandas\\_vectorized.py:786: DeprecationWarning: An exception was ignored while fetching the attribute `__array_interface__` from an object of type 'Polygon'.  With the exception of `AttributeError` NumPy will always raise this exception in the future.  Raise this deprecation warning to see the original exception. (Warning added NumPy 1.21)\n",
      "  out[:] = [\n",
      "C:\\Users\\Rosem\\anaconda3\\envs\\cityscan\\lib\\site-packages\\geopandas\\_vectorized.py:142: DeprecationWarning: An exception was ignored while fetching the attribute `__array_interface__` from an object of type 'Polygon'.  With the exception of `AttributeError` NumPy will always raise this exception in the future.  Raise this deprecation warning to see the original exception. (Warning added NumPy 1.21)\n",
      "  aout[:] = out\n"
     ]
    },
    {
     "name": "stdout",
     "output_type": "stream",
     "text": [
      "unary_union\n"
     ]
    },
    {
     "name": "stderr",
     "output_type": "stream",
     "text": [
      "C:\\Users\\Rosem\\anaconda3\\envs\\cityscan\\lib\\site-packages\\pandas\\core\\dtypes\\cast.py:1990: DeprecationWarning: An exception was ignored while fetching the attribute `__array_interface__` from an object of type 'Polygon'.  With the exception of `AttributeError` NumPy will always raise this exception in the future.  Raise this deprecation warning to see the original exception. (Warning added NumPy 1.21)\n",
      "  result[:] = values\n",
      "C:\\Users\\Rosem\\anaconda3\\envs\\cityscan\\lib\\site-packages\\pandas\\core\\dtypes\\cast.py:1990: DeprecationWarning: An exception was ignored while fetching the attribute `__array_interface__` from an object of type 'MultiPolygon'.  With the exception of `AttributeError` NumPy will always raise this exception in the future.  Raise this deprecation warning to see the original exception. (Warning added NumPy 1.21)\n",
      "  result[:] = values\n",
      "C:\\Users\\Rosem\\anaconda3\\envs\\cityscan\\lib\\site-packages\\geopandas\\_vectorized.py:142: DeprecationWarning: An exception was ignored while fetching the attribute `__array_interface__` from an object of type 'MultiPolygon'.  With the exception of `AttributeError` NumPy will always raise this exception in the future.  Raise this deprecation warning to see the original exception. (Warning added NumPy 1.21)\n",
      "  aout[:] = out\n",
      "C:\\Users\\Rosem\\anaconda3\\envs\\cityscan\\lib\\site-packages\\geopandas\\geoseries.py:207: DeprecationWarning: The default dtype for empty Series will be 'object' instead of 'float64' in a future version. Specify a dtype explicitly to silence this warning.\n",
      "  s = pd.Series(data, index=index, name=name, **kwargs)\n",
      "C:\\Users\\Rosem\\anaconda3\\envs\\cityscan\\lib\\site-packages\\geopandas\\_vectorized.py:142: DeprecationWarning: An exception was ignored while fetching the attribute `__array_interface__` from an object of type 'MultiPolygon'.  With the exception of `AttributeError` NumPy will always raise this exception in the future.  Raise this deprecation warning to see the original exception. (Warning added NumPy 1.21)\n",
      "  aout[:] = out\n",
      "C:\\Users\\Rosem\\anaconda3\\envs\\cityscan\\lib\\site-packages\\pandas\\core\\dtypes\\cast.py:1990: DeprecationWarning: An exception was ignored while fetching the attribute `__array_interface__` from an object of type 'Polygon'.  With the exception of `AttributeError` NumPy will always raise this exception in the future.  Raise this deprecation warning to see the original exception. (Warning added NumPy 1.21)\n",
      "  result[:] = values\n",
      "C:\\Users\\Rosem\\anaconda3\\envs\\cityscan\\lib\\site-packages\\geopandas\\_vectorized.py:142: DeprecationWarning: An exception was ignored while fetching the attribute `__array_interface__` from an object of type 'Polygon'.  With the exception of `AttributeError` NumPy will always raise this exception in the future.  Raise this deprecation warning to see the original exception. (Warning added NumPy 1.21)\n",
      "  aout[:] = out\n"
     ]
    },
    {
     "name": "stdout",
     "output_type": "stream",
     "text": [
      "3000\n",
      "merge all edges and nodes\n"
     ]
    },
    {
     "name": "stderr",
     "output_type": "stream",
     "text": [
      "C:\\Users\\Rosem\\anaconda3\\envs\\cityscan\\lib\\site-packages\\geopandas\\_vectorized.py:786: DeprecationWarning: An exception was ignored while fetching the attribute `__array_interface__` from an object of type 'Polygon'.  With the exception of `AttributeError` NumPy will always raise this exception in the future.  Raise this deprecation warning to see the original exception. (Warning added NumPy 1.21)\n",
      "  out[:] = [\n",
      "C:\\Users\\Rosem\\anaconda3\\envs\\cityscan\\lib\\site-packages\\geopandas\\_vectorized.py:142: DeprecationWarning: An exception was ignored while fetching the attribute `__array_interface__` from an object of type 'Polygon'.  With the exception of `AttributeError` NumPy will always raise this exception in the future.  Raise this deprecation warning to see the original exception. (Warning added NumPy 1.21)\n",
      "  aout[:] = out\n"
     ]
    },
    {
     "name": "stdout",
     "output_type": "stream",
     "text": [
      "unary_union\n"
     ]
    },
    {
     "name": "stderr",
     "output_type": "stream",
     "text": [
      "C:\\Users\\Rosem\\anaconda3\\envs\\cityscan\\lib\\site-packages\\pandas\\core\\dtypes\\cast.py:1990: DeprecationWarning: An exception was ignored while fetching the attribute `__array_interface__` from an object of type 'Polygon'.  With the exception of `AttributeError` NumPy will always raise this exception in the future.  Raise this deprecation warning to see the original exception. (Warning added NumPy 1.21)\n",
      "  result[:] = values\n",
      "C:\\Users\\Rosem\\anaconda3\\envs\\cityscan\\lib\\site-packages\\pandas\\core\\dtypes\\cast.py:1990: DeprecationWarning: An exception was ignored while fetching the attribute `__array_interface__` from an object of type 'MultiPolygon'.  With the exception of `AttributeError` NumPy will always raise this exception in the future.  Raise this deprecation warning to see the original exception. (Warning added NumPy 1.21)\n",
      "  result[:] = values\n",
      "C:\\Users\\Rosem\\anaconda3\\envs\\cityscan\\lib\\site-packages\\geopandas\\_vectorized.py:142: DeprecationWarning: An exception was ignored while fetching the attribute `__array_interface__` from an object of type 'MultiPolygon'.  With the exception of `AttributeError` NumPy will always raise this exception in the future.  Raise this deprecation warning to see the original exception. (Warning added NumPy 1.21)\n",
      "  aout[:] = out\n",
      "C:\\Users\\Rosem\\anaconda3\\envs\\cityscan\\lib\\site-packages\\geopandas\\geoseries.py:207: DeprecationWarning: The default dtype for empty Series will be 'object' instead of 'float64' in a future version. Specify a dtype explicitly to silence this warning.\n",
      "  s = pd.Series(data, index=index, name=name, **kwargs)\n",
      "C:\\Users\\Rosem\\anaconda3\\envs\\cityscan\\lib\\site-packages\\geopandas\\_vectorized.py:142: DeprecationWarning: An exception was ignored while fetching the attribute `__array_interface__` from an object of type 'MultiPolygon'.  With the exception of `AttributeError` NumPy will always raise this exception in the future.  Raise this deprecation warning to see the original exception. (Warning added NumPy 1.21)\n",
      "  aout[:] = out\n",
      "C:\\Users\\Rosem\\anaconda3\\envs\\cityscan\\lib\\site-packages\\pandas\\core\\dtypes\\cast.py:1990: DeprecationWarning: An exception was ignored while fetching the attribute `__array_interface__` from an object of type 'Polygon'.  With the exception of `AttributeError` NumPy will always raise this exception in the future.  Raise this deprecation warning to see the original exception. (Warning added NumPy 1.21)\n",
      "  result[:] = values\n",
      "C:\\Users\\Rosem\\anaconda3\\envs\\cityscan\\lib\\site-packages\\geopandas\\_vectorized.py:142: DeprecationWarning: An exception was ignored while fetching the attribute `__array_interface__` from an object of type 'Polygon'.  With the exception of `AttributeError` NumPy will always raise this exception in the future.  Raise this deprecation warning to see the original exception. (Warning added NumPy 1.21)\n",
      "  aout[:] = out\n"
     ]
    }
   ],
   "source": [
    "for key in threshold_list:\n",
    "    print(key)\n",
    "    isochrone_processing(key)"
   ]
  }
 ],
 "metadata": {
  "kernelspec": {
   "display_name": "cityscan",
   "language": "python",
   "name": "cityscan"
  },
  "language_info": {
   "codemirror_mode": {
    "name": "ipython",
    "version": 3
   },
   "file_extension": ".py",
   "mimetype": "text/x-python",
   "name": "python",
   "nbconvert_exporter": "python",
   "pygments_lexer": "ipython3",
   "version": "3.9.6"
  }
 },
 "nbformat": 4,
 "nbformat_minor": 4
}
