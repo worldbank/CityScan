{
 "cells": [
  {
   "cell_type": "markdown",
   "metadata": {},
   "source": [
    "# Accessibility Analysis\n",
    "\n",
    "- This analysis will measure accessibility to schools and hospitals\n",
    "- origins are derived from 100m grid blocks coming from WorldPop\n",
    "- the accessibility measure is the distance to the nearest facility in meters\n",
    "\n",
    "## Inputs:\n",
    "\n",
    "#### origins: derived from a WorldPOP raster using the 'Raster pixels to Points' tool in QGIS 3, and saved as a shapefile\n",
    "#### destinations: The combination of POIs from Overpass as points and centroids of polygons called through the GOSTNets OSMNX_POIs library.\n",
    "#### The admin AOI will be used to create a bounding box to download the road network via OSMNX\n"
   ]
  },
  {
   "cell_type": "markdown",
   "metadata": {},
   "source": [
    "### Import libraries"
   ]
  },
  {
   "cell_type": "code",
   "execution_count": 1,
   "metadata": {},
   "outputs": [],
   "source": [
    "%load_ext autoreload\n",
    "%autoreload 2"
   ]
  },
  {
   "cell_type": "code",
   "execution_count": 2,
   "metadata": {},
   "outputs": [],
   "source": [
    "import sys, os, inspect, logging, importlib\n",
    "\n",
    "import geopandas as gpd\n",
    "import pandas as pd\n",
    "import numpy as np\n",
    "import osmnx as ox\n",
    "import networkx as nx\n",
    "from shapely.ops import split, unary_union\n",
    "from shapely.geometry import box, Point\n",
    "\n",
    "import matplotlib.pyplot as plt"
   ]
  },
  {
   "cell_type": "code",
   "execution_count": 3,
   "metadata": {},
   "outputs": [],
   "source": [
    "# Get reference to GOSTNets\n",
    "sys.path.append(r'C:\\\\Users\\\\Rosem\\\\Documents\\\\Career\\\\World Bank\\\\City Scan\\\\repo\\\\GOSTnets')\n",
    "import GOSTnets as gn"
   ]
  },
  {
   "cell_type": "code",
   "execution_count": 4,
   "metadata": {},
   "outputs": [],
   "source": [
    "from GOSTnets.fetch_pois import *"
   ]
  },
  {
   "cell_type": "markdown",
   "metadata": {},
   "source": [
    "### Define folders and files"
   ]
  },
  {
   "cell_type": "code",
   "execution_count": 5,
   "metadata": {},
   "outputs": [],
   "source": [
    "inputFolder = r'input_folder'\n",
    "# define output folder\n",
    "outputFolder = r'output_folder'\n",
    "# define road graph\n",
    "roadGraph = os.path.join(inputFolder, \"OSM_Roads.pickle\")"
   ]
  },
  {
   "cell_type": "code",
   "execution_count": 6,
   "metadata": {},
   "outputs": [],
   "source": [
    "city_name = 'Nis'"
   ]
  },
  {
   "cell_type": "code",
   "execution_count": 7,
   "metadata": {},
   "outputs": [],
   "source": [
    "# import extent\n",
    "extent = gpd.read_file(\"./admin/\" + city_name + \"_AOI.shp\").set_crs(epsg=4326)"
   ]
  },
  {
   "cell_type": "code",
   "execution_count": 8,
   "metadata": {},
   "outputs": [
    {
     "name": "stdout",
     "output_type": "stream",
     "text": [
      "epsg:4326\n"
     ]
    }
   ],
   "source": [
    "# make sure crs is 4326\n",
    "print(extent.crs)"
   ]
  },
  {
   "cell_type": "code",
   "execution_count": 9,
   "metadata": {},
   "outputs": [],
   "source": [
    "#extent = box(*city_extent.total_bounds)"
   ]
  },
  {
   "cell_type": "code",
   "execution_count": 10,
   "metadata": {},
   "outputs": [
    {
     "data": {
      "image/svg+xml": [
       "<svg xmlns=\"http://www.w3.org/2000/svg\" xmlns:xlink=\"http://www.w3.org/1999/xlink\" width=\"100.0\" height=\"100.0\" viewBox=\"21.790283627927778 43.270745224727456 0.24284003592151748 0.09761782884839221\" preserveAspectRatio=\"xMinYMin meet\"><g transform=\"matrix(1,0,0,-1,0,86.6391082783033)\"><path fill-rule=\"evenodd\" fill=\"#66cc99\" stroke=\"#555555\" stroke-width=\"0.00485680071843035\" opacity=\"0.6\" d=\"M 21.84547904390763,43.28581303044467 L 21.83952802484447,43.28660085928999 L 21.829765541832273,43.28771947713511 L 21.82207472099003,43.28923663365356 L 21.813872432797552,43.29088747115833 L 21.80898066356551,43.29546453804793 L 21.806751327864028,43.29662944952525 L 21.804007530077584,43.29729510320713 L 21.800977920021722,43.29721189689539 L 21.799308927338018,43.299758849289276 L 21.79927770333228,43.30135127358358 L 21.79959683262041,43.30415961131945 L 21.80004361362387,43.30703177491296 L 21.80125630491881,43.31066984879794 L 21.802213692783255,43.312967579672716 L 21.803043428932597,43.31488235540161 L 21.804256120227535,43.31718008627632 L 21.806362373529396,43.32056285673099 L 21.817101479288567,43.33415437312851 L 21.82313198526174,43.33988335380309 L 21.83082088037753,43.344255470633584 L 21.839565114038578,43.345612334477664 L 21.84770629710249,43.3489291127629 L 21.855336886680277,43.35675154712396 L 21.8563838495229,43.357227439325015 L 21.859715094930948,43.357227439325015 L 21.86180902061608,43.35713226088478 L 21.865806515105987,43.35703708244449 L 21.869518474275026,43.356846725564196 L 21.873896682525697,43.3565611902435 L 21.8780845338959,43.3565611902435 L 21.887102083434115,43.35815628687624 L 21.888889207447676,43.359241326456015 L 21.8907401573191,43.35936897817135 L 21.893037888193817,43.359241326456015 L 21.895271793211066,43.3584115903069 L 21.897633349943476,43.35732655072712 L 21.89865456366556,43.35598620771685 L 21.899484299814674,43.35439056127609 L 21.90012255839099,43.353433173411474 L 21.901079946255436,43.352411959689505 L 21.901845856547084,43.35068866153341 L 21.9024841151234,43.349284492665504 L 21.90293089612686,43.347944149655234 L 21.903250025415048,43.346603806644964 L 21.903569154703177,43.344689030915845 L 21.903760632275976,43.343476339620906 L 21.905268836607377,43.342268860305296 L 21.90793601654582,43.34112898825131 L 21.90845762393751,43.341113398327586 L 21.90903639378309,43.34109780839985 L 21.909736633843174,43.341118594969274 L 21.911558687060733,43.34118615127073 L 21.912144602213054,43.34127969064097 L 21.913123509235824,43.34134205014105 L 21.913709424388134,43.341440785885204 L 21.914073835031648,43.34145117911209 L 21.91469547671764,43.34153952146879 L 21.91495985306685,43.34152912825702 L 21.915417152697927,43.341648650084885 L 21.91586730702226,43.3416382568918 L 21.917089154474038,43.34185651357288 L 21.91736782143673,43.34185391528368 L 21.917978745162618,43.341872103305796 L 21.91857359194835,43.341964342476935 L 21.91921845588123,43.34200721415665 L 21.919781148786647,43.34203449611892 L 21.92023487576436,43.342028000414736 L 21.920710931825607,43.342080615598654 L 21.921309351264714,43.34209880355286 L 21.92152728312014,43.342089060006636 L 21.921437073622606,43.34201111158061 L 21.92139509494554,43.341963692905814 L 21.92124504350409,43.3418285819581 L 21.92105212022223,43.34148560666347 L 21.9209449406212,43.34132451153815 L 21.920866342247106,43.34118420253234 L 21.920787743873014,43.341059483143844 L 21.92172377905538,43.341199792437884 L 21.922009591324805,43.34127774190557 L 21.92237400196832,43.3412933317871 L 21.92278128445225,43.34134529802995 L 21.92527499650297,43.341844171698185 L 21.926325356593107,43.342046837954975 L 21.928010872097218,43.34235789374776 L 21.930860852032254,43.34236905121543 L 21.931583773584578,43.34237188140145 L 21.93186950000006,43.34237300000001 L 21.931972800000096,43.342384500000094 L 21.932723978774835,43.34250153542839 L 21.93281329510904,43.34244177538339 L 21.932981209817314,43.34205463279746 L 21.933109825338562,43.341854564856 L 21.93324201351317,43.34153757274173 L 21.93355640700954,43.34056060302785 L 21.936332358676317,43.33967196266723 L 21.938218719654518,43.338913230195004 L 21.938790344193364,43.338637797568374 L 21.938858224607344,43.338492285487675 L 21.941800843424858,43.33696610214241 L 21.94473683287589,43.33549810741681 L 21.948183429188077,43.33403011269138 L 21.951757677215426,43.332179162819955 L 21.95545957695805,43.3303282129487 L 21.958523218124412,43.32892404408079 L 21.96152303343308,43.32745604935519 L 21.961459207575444,43.32592422877207 L 21.960884774856822,43.325349796053445 L 21.959927386992376,43.32509449262278 L 21.95692757168365,43.32483918919229 L 21.9546936666664,43.32452005990416 L 21.95335332365613,43.323690323754874 L 21.95245976164938,43.32209467731411 L 21.95236790000007,43.32005900000007 L 21.952371599999992,43.320058200000005 L 21.95251499999995,43.320024000000046 L 21.952654499999994,43.31998679999998 L 21.952965200000108,43.319901200000004 L 21.95329760000004,43.31981190000005 L 21.953311200000144,43.31980710000005 L 21.953559400000074,43.319742399999996 L 21.953659700000003,43.31971440000001 L 21.95383129999999,43.31966850000009 L 21.953862000000072,43.31966030000012 L 21.953967300000045,43.31963009999993 L 21.954138399999977,43.31958470000012 L 21.954220600000042,43.31956230000003 L 21.954271100000142,43.319548400000144 L 21.95442170000001,43.31950840000002 L 21.954566200000045,43.31946900000014 L 21.95484790000006,43.319392900000025 L 21.954913800000043,43.319375200000025 L 21.95526069999994,43.31928060000001 L 21.955606499999988,43.31918580000013 L 21.955734600000085,43.31915310000011 L 21.95595420000012,43.31909250000007 L 21.956013500000097,43.31907720000004 L 21.956302499999993,43.318998100000044 L 21.956441300000108,43.318962899999974 L 21.956548100000077,43.31893370000006 L 21.956649200000072,43.318904799999984 L 21.956797500000107,43.31886370000012 L 21.95699410000003,43.318810600000006 L 21.957028700000023,43.31880010000003 L 21.957150000000127,43.31876840000007 L 21.95719719999994,43.31875480000002 L 21.9572728,43.318734599999914 L 21.95734170000003,43.318716900000084 L 21.957388900000012,43.31870360000005 L 21.957522200000028,43.31866760000008 L 21.957688600000097,43.31862220000005 L 21.95774899999998,43.3186063 L 21.957838900000127,43.31858120000004 L 21.957939200000055,43.31855330000002 L 21.958033200000045,43.318528700000115 L 21.958044700000073,43.31852520000001 L 21.958054199999992,43.31852620000012 L 21.958130400000073,43.318504500000074 L 21.95813800000002,43.31850240000006 L 21.958149200000037,43.31849920000002 L 21.95818450000013,43.31848940000009 L 21.958188600000085,43.318488299999956 L 21.958251899999993,43.31847069999992 L 21.95836559999998,43.318441199999995 L 21.958389600000032,43.31843459999999 L 21.958453299999974,43.318416700000114 L 21.958553300000062,43.31838979999998 L 21.958653200000015,43.31836050000004 L 21.958696400000008,43.31834580000009 L 21.958700399999998,43.318335300000115 L 21.958828400000073,43.317996900000026 L 21.958873200000085,43.31786960000011 L 21.961459207575444,43.31673330527303 L 21.964095447997426,43.31637039438441 L 21.966639177195294,43.31526824742824 L 21.968611281854315,43.3143740380398 L 21.971096912077996,43.31341436067618 L 21.97292704712261,43.31327185487565 L 21.976739597071912,43.312931626768204 L 21.979214917049926,43.31341742738269 L 21.980958371893408,43.313375835273405 L 21.982387433240525,43.312273634005315 L 21.983751381509762,43.309425734549166 L 21.98544388120166,43.30797502052758 L 21.988707987750274,43.30688698501149 L 21.991730308628632,43.30664519934106 L 21.99426905816648,43.305436270989844 L 21.996686914869258,43.30495269964922 L 22.00115994976926,43.30579894949523 L 22.00345691363674,43.30604073516548 L 22.005028520493454,43.3056780566601 L 22.008050841371812,43.304227342638455 L 22.0109522694151,43.30265573578174 L 22.013007447612495,43.30193037877086 L 22.016427674528853,43.30164572461275 L 22.01857126654953,43.301832925002415 L 22.02174378274013,43.30239452271298 L 22.024129588444794,43.29745734387086 L 22.02364601710434,43.2946768086627 L 22.021422946154757,43.29383357485426 L 22.02026128938985,43.2920747601799 L 22.020381910555727,43.290808237938506 L 22.016634232666433,43.29032466659788 L 22.01129765726887,43.291578664024996 L 22.00696280585555,43.29105002360876 L 22.003698699306938,43.289720202422245 L 22.000918164098834,43.28766502422502 L 21.995840665023252,43.28597252453301 L 21.99306012981515,43.28476359618162 L 21.991972094298887,43.283433774995274 L 21.99099038255017,43.28105016282365 L 21.990275851876614,43.27973930013196 L 21.98786173790421,43.279806989941164 L 21.98590292415443,43.27980172280532 L 21.98496030986115,43.280895025457426 L 21.98314691733401,43.28367556066553 L 21.982421560323303,43.286093417368136 L 21.981212631971914,43.289115738246494 L 21.980124596455653,43.29068734510338 L 21.9779485254233,43.293105201805986 L 21.975530668720523,43.29528127283851 L 21.96892683291844,43.299308846139525 L 21.967203534762348,43.300074756430945 L 21.965352584891093,43.300649189149794 L 21.962544247155222,43.30084066672259 L 21.961714511006107,43.299947104715784 L 21.961012426572154,43.29867058756321 L 21.960437993853304,43.29752172212574 L 21.96075712314149,43.29579842396964 L 21.961267730002646,43.29433042924404 L 21.960884774856822,43.293373041379596 L 21.959672083561884,43.292734782803336 L 21.957629656117604,43.292607131088175 L 21.955523402815743,43.29330921552213 L 21.95380010465965,43.294394255101736 L 21.952332109934048,43.295606946396845 L 21.95067263763559,43.29681963769178 L 21.947118364185314,43.29754999031604 L 21.944481833907105,43.296880915133556 L 21.942806899741903,43.29837807497329 L 21.94238175399114,43.29864328960843 L 21.942085223761612,43.298294870143486 L 21.942149531522237,43.298240266912046 L 21.941910163746595,43.29801145283752 L 21.94170652250463,43.29787364394536 L 21.941717240464737,43.29781644016255 L 21.941620778823804,43.297878844286586 L 21.941542180449716,43.297925647337586 L 21.94143857350205,43.29795424918435 L 21.941292094713972,43.29795944951868 L 21.940999137137815,43.29772803421052 L 21.940688316294818,43.29759022467602 L 21.940420367292237,43.29736660854037 L 21.94030604238447,43.29730680408565 L 21.940052383995358,43.29710398854036 L 21.939927341127493,43.296992179681254 L 21.939730845192265,43.296851768264666 L 21.93969869131195,43.29666715276058 L 21.939852315406768,43.29631352149748 L 21.93994163174096,43.29623551432436 L 21.940184572169965,43.29582467489451 L 21.94023458931711,43.29560885306931 L 21.940241734623847,43.29549964173336 L 21.940277461157525,43.295224012251424 L 21.94033462361141,43.29503679151346 L 21.94032033299794,43.29497958506189 L 21.940298897077728,43.294917177962446 L 21.940313187691203,43.294823567193184 L 21.94040607667876,43.29469875261002 L 21.94037749545182,43.29444392204061 L 21.940477529746115,43.29412148183055 L 21.94040607667876,43.2938978529389 L 21.94018457216996,43.293783437839124 L 21.93993448643422,43.29361181478586 L 21.939848742753387,43.29342458908446 L 21.939648674164793,43.293346578205416 L 21.939548639870498,43.29321135911137 L 21.939527203950288,43.293060537459475 L 21.939327135361694,43.292722487570636 L 21.93935571658864,43.2926392750021 L 21.939219955760663,43.29235843174274 L 21.93918422922698,43.29218160384002 L 21.939055613705747,43.292004775423166 L 21.93871621163581,43.29171612793224 L 21.938373236912508,43.29168232228062 L 21.938251766698006,43.29171092706399 L 21.938101715256558,43.29141707728504 L 21.93808385198972,43.29122204346204 L 21.93814458709697,43.29106601595334 L 21.939052041052385,43.29072015354867 L 21.939366434548745,43.29063433776026 L 21.93969511865858,43.29054852185077 L 21.939605802324387,43.290392492614224 L 21.93959508436428,43.290358686226874 L 21.939523631296925,43.290148046005505 L 21.939384297815586,43.29003882486278 L 21.9393271353617,43.28998681472587 L 21.938909134917672,43.28966175036263 L 21.938391100179345,43.28926646975621 L 21.938101715256554,43.28896740706408 L 21.938001680962255,43.2888607843574 L 21.937869492787655,43.28874115865913 L 21.937780176453458,43.28872035416585 L 21.937672996852424,43.28872035416585 L 21.937658706238953,43.28865273951354 L 21.937826620947238,43.28831986628323 L 21.937744449919776,43.288249650603554 L 21.937622979705274,43.2882184436088 L 21.93734788539596,43.28815863015741 L 21.937083509046744,43.28814302663869 L 21.93674053432344,43.28817683425755 L 21.936585123901942,43.28829125990501 L 21.93630824326594,43.28839398274607 L 21.935856302614923,43.288500606271036 L 21.935622293819332,43.28853961483206 L 21.93539721665716,43.288546116255255 L 21.935188216435144,43.288578623366 L 21.93497921621313,43.28865273951354 L 21.934627309856406,43.28881917544555 L 21.934300412073256,43.2890350213666 L 21.93390206122275,43.28928467352476 L 21.93353586425255,43.28947191197057 L 21.932932085833404,43.28982428276141 L 21.932753453165013,43.28989449662335 L 21.932640914583928,43.289950407603584 L 21.93227471761373,43.28998941523378 L 21.9320675037184,43.28998551447189 L 21.931674511847948,43.29003102334508 L 21.931551255306758,43.28999071548768 L 21.93152624673319,43.289921801992215 L 21.93127973365081,43.289884094574845 L 21.93116183608967,43.29009733621362 L 21.931170767723092,43.29011553973352 L 21.931068947102112,43.29019875575509 L 21.9308706648402,43.29026246794665 L 21.930706322785284,43.29032878056086 L 21.930538408077,43.290419797759505 L 21.930343698468455,43.290573226443186 L 21.929931057004477,43.29080856968886 L 21.929709552495673,43.2909073875758 L 21.929479116353455,43.29098800204887 L 21.929261184498024,43.29106341549146 L 21.92904682529596,43.291167433879515 L 21.928478773410482,43.29161341070179 L 21.92850378198406,43.29163551442426 L 21.92846448279701,43.29168882336891 L 21.928434115243384,43.29166541944775 L 21.92840017503639,43.29167452097372 L 21.928257268901685,43.29184094863696 L 21.92802147377941,43.29201777753015 L 21.927671353749368,43.29224661415813 L 21.92677819040743,43.29232982726392 L 21.926699592033337,43.292366232961896 L 21.926342326696563,43.292433843486045 L 21.92597791605305,43.292475449925085 L 21.92572068501057,43.29256906430884 L 21.92544916335462,43.29262627302798 L 21.925249094766023,43.29275109186476 L 21.925041880870694,43.29281350118709 L 21.92500615433702,43.29290191428408 L 21.924877538815778,43.293026732555134 L 21.92463459838677,43.29328676979705 L 21.92455600001268,43.293281569063105 L 21.924227315902844,43.29331277346009 L 21.924148717528755,43.293343977841054 L 21.924034392620985,43.293338777112 L 21.923555657069706,43.29339598510709 L 21.923269844800288,43.2935884116047 L 21.922662493727767,43.29362481654927 L 21.922426698605495,43.29361441513875 L 21.92231951900446,43.2935936123124 L 21.92219090348322,43.29354160521537 L 21.92207657857545,43.29348439735727 L 21.922040852041775,43.29339598510709 L 21.921847928759917,43.29335437929782 L 21.921712167931943,43.29299032725254 L 21.921533535263556,43.292735489524176 L 21.921490663423143,43.2926366746075 L 21.92139777443558,43.29253265873228 L 21.921426355662526,43.29244424509847 L 21.921447791582732,43.29232982726392 L 21.921569261797238,43.292168601768054 L 21.92166929609153,43.2918513503508 L 21.921683586705004,43.291768136590335 L 21.921719313238683,43.29163811486168 L 21.921805056919506,43.29151329374066 L 21.921469227502936,43.29132086067718 L 21.921347757288434,43.291159632506584 L 21.921233432380664,43.29097760018738 L 21.920926184191035,43.29084237582614 L 21.920911893577564,43.29076436163482 L 21.92103336379207,43.290535519429675 L 21.921104816859426,43.290358686226845 L 21.92109767155269,43.29019745550562 L 21.921026218485334,43.28986979175524 L 21.920854731123683,43.28945890931968 L 21.920811859283273,43.28915724703039 L 21.920883312350625,43.28869434853922 L 21.920815431936628,43.288460297399396 L 21.920601072734566,43.288137825464865 L 21.92045102129312,43.288041603669356 L 21.920286679238203,43.28788816859948 L 21.92005088411593,43.288028600712344 L 21.920047311462564,43.28818723659799 L 21.920008012275517,43.28820544068956 L 21.91949712284393,43.28798179004408 L 21.919472114270356,43.28790377218359 L 21.919450678350145,43.28788036680592 L 21.919197019961032,43.287799748213935 L 21.918936216265188,43.28775033676603 L 21.9187575835968,43.28765671496519 L 21.918664694609234,43.28766191618012 L 21.918557515008203,43.2876411113177 L 21.918439617447067,43.2876411113177 L 21.91824669416521,43.2876385107094 L 21.918075206803557,43.28760730340109 L 21.91796802720252,43.28753188567324 L 21.917810830454343,43.2872536194546 L 21.917846556988017,43.28710278302835 L 21.91794301862895,43.28694414431445 L 21.9180037537362,43.28682711548982 L 21.918032334963144,43.286743894855334 L 21.918039480269876,43.286686680603076 L 21.91794301862895,43.28650723555375 L 21.91786442025486,43.286429215801974 L 21.917707223506675,43.286327789975054 L 21.9175607447186,43.286262773330385 L 21.917103445087523,43.286215961303206 L 21.916831923431573,43.28621336063397 L 21.916403205027443,43.28625497132837 L 21.91619599113211,43.28620295795593 L 21.915963768663207,43.2861301391598 L 21.91580657191503,43.28608852838002 L 21.91546002453836,43.28586747063517 L 21.915181357575673,43.28564121069971 L 21.91480265631869,43.28552157866959 L 21.914645459570508,43.28546956467006 L 21.914456108942016,43.28534733159611 L 21.91424532239332,43.28527191106625 L 21.913366449664853,43.28493381788675 L 21.9129841757545,43.284868799752196 L 21.912687645524972,43.28479337862904 L 21.912598329190782,43.28474916620304 L 21.91230894426799,43.28461392799461 L 21.911973114851424,43.28443187608543 L 21.91158012298097,43.28405476682613 L 21.911426498886154,43.28396634086837 L 21.911144259270102,43.283849306314885 L 21.911087096816217,43.28384410477395 L 21.91079056658669,43.283706263777084 L 21.910454737170124,43.28362043809296 L 21.910390429409503,43.28361263575202 L 21.910326121648886,43.28361263575202 L 21.90985095875097,43.28360223262924 L 21.90970447996289,43.283578825596464 L 21.909540137907975,43.28350080208882 L 21.909254325638557,43.283407173747555 L 21.909172154611095,43.2834175769037 L 21.90914000073078,43.283386367429905 L 21.908289709229255,43.28406256911033 L 21.90760375978265,43.28465033831105 L 21.90715360545831,43.284983231622526 L 21.90688208380236,43.285243303254596 L 21.905903176779592,43.28664246955309 L 21.905367278774424,43.28724061632913 L 21.90382389251955,43.28865013894845 L 21.9032308320605,43.28911823886648 L 21.903016472858436,43.2891910540855 L 21.902373395252244,43.28973196441215 L 21.902194762583857,43.28981518095852 L 21.901558830284397,43.29011163897968 L 21.901458795990095,43.29018965400824 L 21.901394488229478,43.290340482779705 L 21.90142306945642,43.29051731603544 L 21.901337325775593,43.290746158309084 L 21.900644231022245,43.29176033529441 L 21.900051170563195,43.29282650312114 L 21.89986539258807,43.293513001293014 L 21.899651033386,43.293596212666046 L 21.899508127251288,43.293710628118056 L 21.899400947650257,43.293783437839075 L 21.89880788719121,43.2940278698364 L 21.897393116457575,43.29435551118534 L 21.89685007314567,43.29454793464685 L 21.896549970262782,43.29409547851326 L 21.89609981593845,43.29354940628272 L 21.895521046092874,43.29294092002126 L 21.895985491030682,43.29264447579093 L 21.896349901674192,43.2923324276716 L 21.896299884527046,43.29229602195338 L 21.896242722073158,43.2922700178556 L 21.895992636337414,43.29219200549555 L 21.895485319559192,43.29212959553545 L 21.89554962731981,43.29187995505461 L 21.89507803707527,43.29170832662963 L 21.895020874621384,43.29163031354908 L 21.89501372931465,43.29163551442423 L 21.895020874621384,43.29150549241204 L 21.894892259100146,43.291224643917076 L 21.89484938725973,43.29105301364283 L 21.894899404406875,43.29069414877705 L 21.894813660726054,43.29063173727989 L 21.894956566860763,43.28990359841429 L 21.895056601155062,43.28946671091074 L 21.89502801992812,43.2891026355939 L 21.895067319115153,43.28888678991279 L 21.894988720741058,43.288863384913384 L 21.894961925840803,43.28877496594547 L 21.894938703593915,43.288724255008816 L 21.89498157543433,43.28867224374782 L 21.89501015666127,43.28852661198041 L 21.895081609728624,43.28828735903414 L 21.8949958660478,43.28803770278251 L 21.894967284820858,43.28786086231762 L 21.895053028501682,43.287517582300474 L 21.895153062795988,43.28685182159373 L 21.89532455015764,43.286352496281765 L 21.894724344391857,43.286123637477296 L 21.891608990655165,43.28329403930957 L 21.890608647712188,43.28287791083116 L 21.87430133924414,43.282848373724335 L 21.848599173520768,43.285399970415085 L 21.84547904390763,43.28581303044467 z\" /></g></svg>"
      ],
      "text/plain": [
       "<shapely.geometry.polygon.Polygon at 0x1b1d475adc0>"
      ]
     },
     "execution_count": 10,
     "metadata": {},
     "output_type": "execute_result"
    }
   ],
   "source": [
    "extent.geometry[0]"
   ]
  },
  {
   "cell_type": "markdown",
   "metadata": {},
   "source": [
    "## We will extract OSM POIs"
   ]
  },
  {
   "cell_type": "code",
   "execution_count": 11,
   "metadata": {},
   "outputs": [],
   "source": [
    "school_tags = {'amenity':['school', 'kindergarten', 'university', 'college']}\n",
    "# Removing pharmacy from health_tags\n",
    "health_tags = {'amenity':['clinic', 'hospital', 'health']}\n",
    "police_tags = {'amenity':['police']}\n",
    "fire_station_tags = {'amenity':['fire_station']}"
   ]
  },
  {
   "cell_type": "code",
   "execution_count": 12,
   "metadata": {},
   "outputs": [],
   "source": [
    "tag_dictionary = {'schools': school_tags, 'health': health_tags, 'police': police_tags, 'fire': fire_station_tags}"
   ]
  },
  {
   "cell_type": "code",
   "execution_count": 13,
   "metadata": {},
   "outputs": [],
   "source": [
    "try:\n",
    "    os.mkdir(outputFolder + '/osm_infrastructure')\n",
    "except FileExistsError:\n",
    "    pass"
   ]
  },
  {
   "cell_type": "code",
   "execution_count": 14,
   "metadata": {},
   "outputs": [
    {
     "name": "stdout",
     "output_type": "stream",
     "text": [
      "schools\n",
      "health\n",
      "police\n",
      "fire\n",
      "('schools', <GOSTnets.fetch_pois.OsmObject object at 0x000001B1D4704670>)\n"
     ]
    },
    {
     "name": "stderr",
     "output_type": "stream",
     "text": [
      "C:\\Users\\Rosem\\anaconda3\\envs\\cityscan\\lib\\site-packages\\gostnets-1.0.1-py3.9.egg\\GOSTnets\\fetch_pois.py:79: UserWarning: Geometry is in a geographic CRS. Results from 'centroid' are likely incorrect. Use 'GeoSeries.to_crs()' to re-project geometries to a projected CRS before this operation.\n",
      "\n",
      "  polygons['geometry'] = polygons.centroid\n",
      "C:\\Users\\Rosem\\anaconda3\\envs\\cityscan\\lib\\site-packages\\gostnets-1.0.1-py3.9.egg\\GOSTnets\\fetch_pois.py:95: UserWarning: Geometry is in a geographic CRS. Results from 'buffer' are likely incorrect. Use 'GeoSeries.to_crs()' to re-project geometries to a projected CRS before this operation.\n",
      "\n",
      "  gdf['buffer'] = gdf['geometry'].buffer(buf_width)\n",
      "C:\\Users\\Rosem\\anaconda3\\envs\\cityscan\\lib\\site-packages\\geopandas\\_vectorized.py:786: DeprecationWarning: An exception was ignored while fetching the attribute `__array_interface__` from an object of type 'Polygon'.  With the exception of `AttributeError` NumPy will always raise this exception in the future.  Raise this deprecation warning to see the original exception. (Warning added NumPy 1.21)\n",
      "  out[:] = [\n",
      "C:\\Users\\Rosem\\anaconda3\\envs\\cityscan\\lib\\site-packages\\geopandas\\_vectorized.py:142: DeprecationWarning: An exception was ignored while fetching the attribute `__array_interface__` from an object of type 'Polygon'.  With the exception of `AttributeError` NumPy will always raise this exception in the future.  Raise this deprecation warning to see the original exception. (Warning added NumPy 1.21)\n",
      "  aout[:] = out\n"
     ]
    },
    {
     "name": "stdout",
     "output_type": "stream",
     "text": [
      "('health', <GOSTnets.fetch_pois.OsmObject object at 0x000001B1D4704430>)\n"
     ]
    },
    {
     "name": "stderr",
     "output_type": "stream",
     "text": [
      "C:\\Users\\Rosem\\anaconda3\\envs\\cityscan\\lib\\site-packages\\geopandas\\_vectorized.py:142: DeprecationWarning: An exception was ignored while fetching the attribute `__array_interface__` from an object of type 'MultiPolygon'.  With the exception of `AttributeError` NumPy will always raise this exception in the future.  Raise this deprecation warning to see the original exception. (Warning added NumPy 1.21)\n",
      "  aout[:] = out\n",
      "C:\\Users\\Rosem\\anaconda3\\envs\\cityscan\\lib\\site-packages\\gostnets-1.0.1-py3.9.egg\\GOSTnets\\fetch_pois.py:79: UserWarning: Geometry is in a geographic CRS. Results from 'centroid' are likely incorrect. Use 'GeoSeries.to_crs()' to re-project geometries to a projected CRS before this operation.\n",
      "\n",
      "  polygons['geometry'] = polygons.centroid\n",
      "C:\\Users\\Rosem\\anaconda3\\envs\\cityscan\\lib\\site-packages\\geopandas\\geoseries.py:207: DeprecationWarning: The default dtype for empty Series will be 'object' instead of 'float64' in a future version. Specify a dtype explicitly to silence this warning.\n",
      "  s = pd.Series(data, index=index, name=name, **kwargs)\n",
      "C:\\Users\\Rosem\\anaconda3\\envs\\cityscan\\lib\\site-packages\\gostnets-1.0.1-py3.9.egg\\GOSTnets\\fetch_pois.py:95: UserWarning: Geometry is in a geographic CRS. Results from 'buffer' are likely incorrect. Use 'GeoSeries.to_crs()' to re-project geometries to a projected CRS before this operation.\n",
      "\n",
      "  gdf['buffer'] = gdf['geometry'].buffer(buf_width)\n",
      "C:\\Users\\Rosem\\anaconda3\\envs\\cityscan\\lib\\site-packages\\geopandas\\_vectorized.py:786: DeprecationWarning: An exception was ignored while fetching the attribute `__array_interface__` from an object of type 'Polygon'.  With the exception of `AttributeError` NumPy will always raise this exception in the future.  Raise this deprecation warning to see the original exception. (Warning added NumPy 1.21)\n",
      "  out[:] = [\n",
      "C:\\Users\\Rosem\\anaconda3\\envs\\cityscan\\lib\\site-packages\\geopandas\\_vectorized.py:142: DeprecationWarning: An exception was ignored while fetching the attribute `__array_interface__` from an object of type 'Polygon'.  With the exception of `AttributeError` NumPy will always raise this exception in the future.  Raise this deprecation warning to see the original exception. (Warning added NumPy 1.21)\n",
      "  aout[:] = out\n"
     ]
    },
    {
     "name": "stdout",
     "output_type": "stream",
     "text": [
      "('police', <GOSTnets.fetch_pois.OsmObject object at 0x000001B1D4704070>)\n"
     ]
    },
    {
     "name": "stderr",
     "output_type": "stream",
     "text": [
      "C:\\Users\\Rosem\\anaconda3\\envs\\cityscan\\lib\\site-packages\\geopandas\\_vectorized.py:142: DeprecationWarning: An exception was ignored while fetching the attribute `__array_interface__` from an object of type 'MultiPolygon'.  With the exception of `AttributeError` NumPy will always raise this exception in the future.  Raise this deprecation warning to see the original exception. (Warning added NumPy 1.21)\n",
      "  aout[:] = out\n",
      "C:\\Users\\Rosem\\anaconda3\\envs\\cityscan\\lib\\site-packages\\gostnets-1.0.1-py3.9.egg\\GOSTnets\\fetch_pois.py:79: UserWarning: Geometry is in a geographic CRS. Results from 'centroid' are likely incorrect. Use 'GeoSeries.to_crs()' to re-project geometries to a projected CRS before this operation.\n",
      "\n",
      "  polygons['geometry'] = polygons.centroid\n",
      "C:\\Users\\Rosem\\anaconda3\\envs\\cityscan\\lib\\site-packages\\geopandas\\geoseries.py:207: DeprecationWarning: The default dtype for empty Series will be 'object' instead of 'float64' in a future version. Specify a dtype explicitly to silence this warning.\n",
      "  s = pd.Series(data, index=index, name=name, **kwargs)\n",
      "C:\\Users\\Rosem\\anaconda3\\envs\\cityscan\\lib\\site-packages\\gostnets-1.0.1-py3.9.egg\\GOSTnets\\fetch_pois.py:95: UserWarning: Geometry is in a geographic CRS. Results from 'buffer' are likely incorrect. Use 'GeoSeries.to_crs()' to re-project geometries to a projected CRS before this operation.\n",
      "\n",
      "  gdf['buffer'] = gdf['geometry'].buffer(buf_width)\n",
      "C:\\Users\\Rosem\\anaconda3\\envs\\cityscan\\lib\\site-packages\\geopandas\\_vectorized.py:786: DeprecationWarning: An exception was ignored while fetching the attribute `__array_interface__` from an object of type 'Polygon'.  With the exception of `AttributeError` NumPy will always raise this exception in the future.  Raise this deprecation warning to see the original exception. (Warning added NumPy 1.21)\n",
      "  out[:] = [\n",
      "C:\\Users\\Rosem\\anaconda3\\envs\\cityscan\\lib\\site-packages\\geopandas\\_vectorized.py:142: DeprecationWarning: An exception was ignored while fetching the attribute `__array_interface__` from an object of type 'Polygon'.  With the exception of `AttributeError` NumPy will always raise this exception in the future.  Raise this deprecation warning to see the original exception. (Warning added NumPy 1.21)\n",
      "  aout[:] = out\n"
     ]
    },
    {
     "name": "stdout",
     "output_type": "stream",
     "text": [
      "('fire', <GOSTnets.fetch_pois.OsmObject object at 0x000001B1D4704EB0>)\n"
     ]
    },
    {
     "name": "stderr",
     "output_type": "stream",
     "text": [
      "C:\\Users\\Rosem\\anaconda3\\envs\\cityscan\\lib\\site-packages\\geopandas\\_vectorized.py:142: DeprecationWarning: An exception was ignored while fetching the attribute `__array_interface__` from an object of type 'MultiPolygon'.  With the exception of `AttributeError` NumPy will always raise this exception in the future.  Raise this deprecation warning to see the original exception. (Warning added NumPy 1.21)\n",
      "  aout[:] = out\n",
      "C:\\Users\\Rosem\\anaconda3\\envs\\cityscan\\lib\\site-packages\\gostnets-1.0.1-py3.9.egg\\GOSTnets\\fetch_pois.py:79: UserWarning: Geometry is in a geographic CRS. Results from 'centroid' are likely incorrect. Use 'GeoSeries.to_crs()' to re-project geometries to a projected CRS before this operation.\n",
      "\n",
      "  polygons['geometry'] = polygons.centroid\n",
      "C:\\Users\\Rosem\\anaconda3\\envs\\cityscan\\lib\\site-packages\\geopandas\\geoseries.py:207: DeprecationWarning: The default dtype for empty Series will be 'object' instead of 'float64' in a future version. Specify a dtype explicitly to silence this warning.\n",
      "  s = pd.Series(data, index=index, name=name, **kwargs)\n",
      "C:\\Users\\Rosem\\anaconda3\\envs\\cityscan\\lib\\site-packages\\gostnets-1.0.1-py3.9.egg\\GOSTnets\\fetch_pois.py:95: UserWarning: Geometry is in a geographic CRS. Results from 'buffer' are likely incorrect. Use 'GeoSeries.to_crs()' to re-project geometries to a projected CRS before this operation.\n",
      "\n",
      "  gdf['buffer'] = gdf['geometry'].buffer(buf_width)\n",
      "C:\\Users\\Rosem\\anaconda3\\envs\\cityscan\\lib\\site-packages\\geopandas\\_vectorized.py:786: DeprecationWarning: An exception was ignored while fetching the attribute `__array_interface__` from an object of type 'Polygon'.  With the exception of `AttributeError` NumPy will always raise this exception in the future.  Raise this deprecation warning to see the original exception. (Warning added NumPy 1.21)\n",
      "  out[:] = [\n",
      "C:\\Users\\Rosem\\anaconda3\\envs\\cityscan\\lib\\site-packages\\geopandas\\_vectorized.py:142: DeprecationWarning: An exception was ignored while fetching the attribute `__array_interface__` from an object of type 'Polygon'.  With the exception of `AttributeError` NumPy will always raise this exception in the future.  Raise this deprecation warning to see the original exception. (Warning added NumPy 1.21)\n",
      "  aout[:] = out\n"
     ]
    }
   ],
   "source": [
    "queries = {}\n",
    "for tags in tag_dictionary.items():\n",
    "    print(tags[0])\n",
    "    # create the OsmObject\n",
    "    queries[tags[0]] = OsmObject(f'{tags[0]}', extent.geometry[0].buffer(0), tags[1])\n",
    "query_results_gpd_dict = {}\n",
    "for query in queries.items():\n",
    "    print(query)\n",
    "    result = query[1].GenerateOSMPOIs()\n",
    "    \n",
    "    # if query is not empty\n",
    "    if result.empty == False:\n",
    "        \n",
    "        query[1].RemoveDupes(0.0005)\n",
    "        \n",
    "        #print(query[1].df)\n",
    "\n",
    "        if 'name' in query[1].df.columns:\n",
    "            query_results = query[1].df[['amenity','geometry','name']]\n",
    "        else:\n",
    "            query_results = query[1].df[['amenity','geometry']]\n",
    "\n",
    "        # convert to GeoDataFrame\n",
    "        query_results_gpd = gpd.GeoDataFrame(query_results, crs = \"epsg:4326\", geometry = 'geometry')\n",
    "        query_results_gpd.to_file(outputFolder + f'/osm_infrastructure/osm_{query[0]}.shp')\n",
    "\n",
    "        #save result in query_results_gpd_dict \n",
    "        query_results_gpd_dict[query[0]] = query_results_gpd"
   ]
  },
  {
   "cell_type": "markdown",
   "metadata": {},
   "source": [
    "## We will extract the Roads and convert into a graph"
   ]
  },
  {
   "cell_type": "code",
   "execution_count": 15,
   "metadata": {},
   "outputs": [
    {
     "name": "stderr",
     "output_type": "stream",
     "text": [
      "C:\\Users\\Rosem\\anaconda3\\envs\\cityscan\\lib\\site-packages\\geopandas\\_vectorized.py:142: DeprecationWarning: An exception was ignored while fetching the attribute `__array_interface__` from an object of type 'MultiPolygon'.  With the exception of `AttributeError` NumPy will always raise this exception in the future.  Raise this deprecation warning to see the original exception. (Warning added NumPy 1.21)\n",
      "  aout[:] = out\n",
      "<class 'networkx.utils.decorators.argmap'> compilation 21:5: DeprecationWarning: write_gpickle is deprecated and will be removed in 3.0.Use ``pickle.dump(G, path, protocol)``\n"
     ]
    }
   ],
   "source": [
    "# This is the section where we can adjust the road speeds\n",
    "if not os.path.exists(roadGraph):\n",
    "    extent = box(*extent.total_bounds)\n",
    "    G = ox.graph_from_polygon(extent, network_type = 'drive_service')\n",
    "    # This is how time is calculated from the OSMNX length attribute\n",
    "    G = gn.convert_network_to_time(G, 'length')\n",
    "    # save the largest subgraph\n",
    "   \n",
    "    # compatible with NetworkX 2.4\n",
    "    list_of_subgraphs = list(G.subgraph(c).copy() for c in nx.strongly_connected_components(G))\n",
    "    max_graph = None\n",
    "    max_edges = 0\n",
    "    for i in list_of_subgraphs:\n",
    "        if i.number_of_edges() > max_edges:\n",
    "            max_edges = i.number_of_edges()\n",
    "            max_graph = i\n",
    "\n",
    "    # set your graph equal to the largest sub-graph\n",
    "    G = max_graph\n",
    "\n",
    "    nx.write_gpickle(G, roadGraph)\n",
    "else:\n",
    "    G = nx.read_gpickle(roadGraph)    \n",
    "    G = gn.convert_network_to_time(G, 'length')"
   ]
  },
  {
   "cell_type": "markdown",
   "metadata": {},
   "source": [
    "### Inspect the road graph as a shapefile"
   ]
  },
  {
   "cell_type": "code",
   "execution_count": 16,
   "metadata": {},
   "outputs": [],
   "source": [
    "roads = gn.edge_gdf_from_graph(G)"
   ]
  },
  {
   "cell_type": "code",
   "execution_count": 17,
   "metadata": {},
   "outputs": [],
   "source": [
    "pd.set_option('display.max_columns', None)"
   ]
  },
  {
   "cell_type": "markdown",
   "metadata": {},
   "source": [
    "### Sometimes the highway value can have a list instead of a single value, in these cases the code below will replace the list with the first value of the list"
   ]
  },
  {
   "cell_type": "code",
   "execution_count": 18,
   "metadata": {},
   "outputs": [],
   "source": [
    "def replace_hwy(x):\n",
    "    if isinstance(x, list):\n",
    "        x = x[0]\n",
    "    return x"
   ]
  },
  {
   "cell_type": "code",
   "execution_count": 19,
   "metadata": {},
   "outputs": [],
   "source": [
    "roads['highway'] = roads.apply(lambda x: replace_hwy(x['highway']), axis=1)"
   ]
  },
  {
   "cell_type": "code",
   "execution_count": 20,
   "metadata": {},
   "outputs": [
    {
     "data": {
      "text/html": [
       "<div>\n",
       "<style scoped>\n",
       "    .dataframe tbody tr th:only-of-type {\n",
       "        vertical-align: middle;\n",
       "    }\n",
       "\n",
       "    .dataframe tbody tr th {\n",
       "        vertical-align: top;\n",
       "    }\n",
       "\n",
       "    .dataframe thead th {\n",
       "        text-align: right;\n",
       "    }\n",
       "</style>\n",
       "<table border=\"1\" class=\"dataframe\">\n",
       "  <thead>\n",
       "    <tr style=\"text-align: right;\">\n",
       "      <th></th>\n",
       "      <th>stnode</th>\n",
       "      <th>endnode</th>\n",
       "      <th>maxspeed</th>\n",
       "      <th>length</th>\n",
       "      <th>highway</th>\n",
       "      <th>osmid</th>\n",
       "      <th>access</th>\n",
       "      <th>mode</th>\n",
       "      <th>name</th>\n",
       "      <th>ref</th>\n",
       "      <th>junction</th>\n",
       "      <th>width</th>\n",
       "      <th>bridge</th>\n",
       "      <th>tunnel</th>\n",
       "      <th>time</th>\n",
       "      <th>service</th>\n",
       "      <th>lanes</th>\n",
       "      <th>oneway</th>\n",
       "      <th>geometry</th>\n",
       "    </tr>\n",
       "  </thead>\n",
       "  <tbody>\n",
       "    <tr>\n",
       "      <th>0</th>\n",
       "      <td>340028565</td>\n",
       "      <td>1784684843</td>\n",
       "      <td>NaN</td>\n",
       "      <td>115.725</td>\n",
       "      <td>service</td>\n",
       "      <td>252482811</td>\n",
       "      <td>NaN</td>\n",
       "      <td>drive</td>\n",
       "      <td>NaN</td>\n",
       "      <td>NaN</td>\n",
       "      <td>NaN</td>\n",
       "      <td>NaN</td>\n",
       "      <td>NaN</td>\n",
       "      <td>NaN</td>\n",
       "      <td>20.83050</td>\n",
       "      <td>NaN</td>\n",
       "      <td>NaN</td>\n",
       "      <td>False</td>\n",
       "      <td>LINESTRING (21.86212 43.32518, 21.86213 43.325...</td>\n",
       "    </tr>\n",
       "    <tr>\n",
       "      <th>1</th>\n",
       "      <td>340028565</td>\n",
       "      <td>1707146344</td>\n",
       "      <td>40</td>\n",
       "      <td>105.748</td>\n",
       "      <td>tertiary</td>\n",
       "      <td>252482823</td>\n",
       "      <td>NaN</td>\n",
       "      <td>drive</td>\n",
       "      <td>Поповачка</td>\n",
       "      <td>NaN</td>\n",
       "      <td>NaN</td>\n",
       "      <td>NaN</td>\n",
       "      <td>NaN</td>\n",
       "      <td>NaN</td>\n",
       "      <td>12.68976</td>\n",
       "      <td>NaN</td>\n",
       "      <td>2</td>\n",
       "      <td>False</td>\n",
       "      <td>LINESTRING (21.86212 43.32518, 21.86223 43.325...</td>\n",
       "    </tr>\n",
       "  </tbody>\n",
       "</table>\n",
       "</div>"
      ],
      "text/plain": [
       "      stnode     endnode maxspeed   length   highway      osmid access   mode  \\\n",
       "0  340028565  1784684843      NaN  115.725   service  252482811    NaN  drive   \n",
       "1  340028565  1707146344       40  105.748  tertiary  252482823    NaN  drive   \n",
       "\n",
       "        name  ref junction width bridge tunnel      time service lanes  \\\n",
       "0        NaN  NaN      NaN   NaN    NaN    NaN  20.83050     NaN   NaN   \n",
       "1  Поповачка  NaN      NaN   NaN    NaN    NaN  12.68976     NaN     2   \n",
       "\n",
       "   oneway                                           geometry  \n",
       "0   False  LINESTRING (21.86212 43.32518, 21.86213 43.325...  \n",
       "1   False  LINESTRING (21.86212 43.32518, 21.86223 43.325...  "
      ]
     },
     "execution_count": 20,
     "metadata": {},
     "output_type": "execute_result"
    }
   ],
   "source": [
    "roads[:2]"
   ]
  },
  {
   "cell_type": "code",
   "execution_count": 21,
   "metadata": {},
   "outputs": [],
   "source": [
    "if not os.path.exists(outputFolder + '/OSM_Roads/OSM_Roads.shp'):\n",
    "    #roads['oneway'] = roads.oneway.astype(int)\n",
    "    roads = roads[['length','time','mode','geometry']]\n",
    "    roads.to_file(outputFolder + '/OSM_Roads')"
   ]
  },
  {
   "cell_type": "markdown",
   "metadata": {},
   "source": [
    "### Snap destinations to the road graph"
   ]
  },
  {
   "cell_type": "code",
   "execution_count": 22,
   "metadata": {},
   "outputs": [],
   "source": [
    "snapped_destinations_dict = {}\n",
    "for results_gpd in query_results_gpd_dict.items():\n",
    "    snapped_destinations = gn.pandana_snap(G, query_results_gpd_dict[results_gpd[0]])\n",
    "    snapped_destinations_dict[results_gpd[0]] = list(snapped_destinations['NN'].unique())"
   ]
  },
  {
   "cell_type": "code",
   "execution_count": 23,
   "metadata": {},
   "outputs": [],
   "source": [
    "# snapped_destinations_dict"
   ]
  },
  {
   "cell_type": "markdown",
   "metadata": {},
   "source": [
    "## Isochrones processing"
   ]
  },
  {
   "cell_type": "code",
   "execution_count": 24,
   "metadata": {},
   "outputs": [],
   "source": [
    "threshold_list = {\n",
    "    'schools': [800,1600,2400],\n",
    "    'health': [1000,2000,3000]\n",
    "}"
   ]
  },
  {
   "cell_type": "code",
   "execution_count": 25,
   "metadata": {},
   "outputs": [],
   "source": [
    "# find graph utm zone\n",
    "G_utm = gn.utm_of_graph(G)"
   ]
  },
  {
   "cell_type": "code",
   "execution_count": 26,
   "metadata": {},
   "outputs": [],
   "source": [
    "def isochrone_processing(amenity_type):\n",
    "    amenity_threshold_list = threshold_list.get(amenity_type)\n",
    "    if amenity_threshold_list == None:\n",
    "        return \"Amenity type not found\"\n",
    "    # if no destinations for amenity type exist\n",
    "    if snapped_destinations_dict.get(amenity_type) == None:\n",
    "        print(f\"no destinations for {amenity_type} exist\")\n",
    "    else:\n",
    "        for threshold in amenity_threshold_list:\n",
    "            print(threshold)\n",
    "            iso_gdf = gn.make_iso_polys(G, snapped_destinations_dict[amenity_type], [threshold], edge_buff=300, node_buff=300, weight = 'length', measure_crs = G_utm)\n",
    "            dissolved = iso_gdf.dissolve(by=\"thresh\")\n",
    "            gdf_out = dissolved.explode()\n",
    "            gdf_out2 = gdf_out.reset_index()\n",
    "            # save file\n",
    "            gdf_out2.to_file(outputFolder + f'/{city_name}_AOI_accessibility_{amenity_type}_isochrones_{threshold}m.shp')\n",
    "        "
   ]
  },
  {
   "cell_type": "code",
   "execution_count": 27,
   "metadata": {},
   "outputs": [
    {
     "name": "stdout",
     "output_type": "stream",
     "text": [
      "schools\n",
      "800\n",
      "merge all edges and nodes\n"
     ]
    },
    {
     "name": "stderr",
     "output_type": "stream",
     "text": [
      "C:\\Users\\Rosem\\anaconda3\\envs\\cityscan\\lib\\site-packages\\geopandas\\_vectorized.py:786: DeprecationWarning: An exception was ignored while fetching the attribute `__array_interface__` from an object of type 'Polygon'.  With the exception of `AttributeError` NumPy will always raise this exception in the future.  Raise this deprecation warning to see the original exception. (Warning added NumPy 1.21)\n",
      "  out[:] = [\n",
      "C:\\Users\\Rosem\\anaconda3\\envs\\cityscan\\lib\\site-packages\\geopandas\\_vectorized.py:142: DeprecationWarning: An exception was ignored while fetching the attribute `__array_interface__` from an object of type 'Polygon'.  With the exception of `AttributeError` NumPy will always raise this exception in the future.  Raise this deprecation warning to see the original exception. (Warning added NumPy 1.21)\n",
      "  aout[:] = out\n"
     ]
    },
    {
     "name": "stdout",
     "output_type": "stream",
     "text": [
      "unary_union\n"
     ]
    },
    {
     "name": "stderr",
     "output_type": "stream",
     "text": [
      "C:\\Users\\Rosem\\anaconda3\\envs\\cityscan\\lib\\site-packages\\pandas\\core\\dtypes\\cast.py:1990: DeprecationWarning: An exception was ignored while fetching the attribute `__array_interface__` from an object of type 'Polygon'.  With the exception of `AttributeError` NumPy will always raise this exception in the future.  Raise this deprecation warning to see the original exception. (Warning added NumPy 1.21)\n",
      "  result[:] = values\n",
      "C:\\Users\\Rosem\\anaconda3\\envs\\cityscan\\lib\\site-packages\\pandas\\core\\dtypes\\cast.py:1990: DeprecationWarning: An exception was ignored while fetching the attribute `__array_interface__` from an object of type 'MultiPolygon'.  With the exception of `AttributeError` NumPy will always raise this exception in the future.  Raise this deprecation warning to see the original exception. (Warning added NumPy 1.21)\n",
      "  result[:] = values\n",
      "C:\\Users\\Rosem\\anaconda3\\envs\\cityscan\\lib\\site-packages\\geopandas\\_vectorized.py:142: DeprecationWarning: An exception was ignored while fetching the attribute `__array_interface__` from an object of type 'MultiPolygon'.  With the exception of `AttributeError` NumPy will always raise this exception in the future.  Raise this deprecation warning to see the original exception. (Warning added NumPy 1.21)\n",
      "  aout[:] = out\n",
      "C:\\Users\\Rosem\\anaconda3\\envs\\cityscan\\lib\\site-packages\\geopandas\\geoseries.py:207: DeprecationWarning: The default dtype for empty Series will be 'object' instead of 'float64' in a future version. Specify a dtype explicitly to silence this warning.\n",
      "  s = pd.Series(data, index=index, name=name, **kwargs)\n",
      "C:\\Users\\Rosem\\anaconda3\\envs\\cityscan\\lib\\site-packages\\geopandas\\_vectorized.py:142: DeprecationWarning: An exception was ignored while fetching the attribute `__array_interface__` from an object of type 'MultiPolygon'.  With the exception of `AttributeError` NumPy will always raise this exception in the future.  Raise this deprecation warning to see the original exception. (Warning added NumPy 1.21)\n",
      "  aout[:] = out\n",
      "C:\\Users\\Rosem\\anaconda3\\envs\\cityscan\\lib\\site-packages\\pandas\\core\\dtypes\\cast.py:1990: DeprecationWarning: An exception was ignored while fetching the attribute `__array_interface__` from an object of type 'Polygon'.  With the exception of `AttributeError` NumPy will always raise this exception in the future.  Raise this deprecation warning to see the original exception. (Warning added NumPy 1.21)\n",
      "  result[:] = values\n",
      "C:\\Users\\Rosem\\anaconda3\\envs\\cityscan\\lib\\site-packages\\geopandas\\_vectorized.py:142: DeprecationWarning: An exception was ignored while fetching the attribute `__array_interface__` from an object of type 'Polygon'.  With the exception of `AttributeError` NumPy will always raise this exception in the future.  Raise this deprecation warning to see the original exception. (Warning added NumPy 1.21)\n",
      "  aout[:] = out\n"
     ]
    },
    {
     "name": "stdout",
     "output_type": "stream",
     "text": [
      "1600\n",
      "merge all edges and nodes\n"
     ]
    },
    {
     "name": "stderr",
     "output_type": "stream",
     "text": [
      "C:\\Users\\Rosem\\anaconda3\\envs\\cityscan\\lib\\site-packages\\geopandas\\_vectorized.py:786: DeprecationWarning: An exception was ignored while fetching the attribute `__array_interface__` from an object of type 'Polygon'.  With the exception of `AttributeError` NumPy will always raise this exception in the future.  Raise this deprecation warning to see the original exception. (Warning added NumPy 1.21)\n",
      "  out[:] = [\n",
      "C:\\Users\\Rosem\\anaconda3\\envs\\cityscan\\lib\\site-packages\\geopandas\\_vectorized.py:142: DeprecationWarning: An exception was ignored while fetching the attribute `__array_interface__` from an object of type 'Polygon'.  With the exception of `AttributeError` NumPy will always raise this exception in the future.  Raise this deprecation warning to see the original exception. (Warning added NumPy 1.21)\n",
      "  aout[:] = out\n"
     ]
    },
    {
     "name": "stdout",
     "output_type": "stream",
     "text": [
      "unary_union\n"
     ]
    },
    {
     "name": "stderr",
     "output_type": "stream",
     "text": [
      "C:\\Users\\Rosem\\anaconda3\\envs\\cityscan\\lib\\site-packages\\pandas\\core\\dtypes\\cast.py:1990: DeprecationWarning: An exception was ignored while fetching the attribute `__array_interface__` from an object of type 'Polygon'.  With the exception of `AttributeError` NumPy will always raise this exception in the future.  Raise this deprecation warning to see the original exception. (Warning added NumPy 1.21)\n",
      "  result[:] = values\n",
      "C:\\Users\\Rosem\\anaconda3\\envs\\cityscan\\lib\\site-packages\\pandas\\core\\dtypes\\cast.py:1990: DeprecationWarning: An exception was ignored while fetching the attribute `__array_interface__` from an object of type 'MultiPolygon'.  With the exception of `AttributeError` NumPy will always raise this exception in the future.  Raise this deprecation warning to see the original exception. (Warning added NumPy 1.21)\n",
      "  result[:] = values\n",
      "C:\\Users\\Rosem\\anaconda3\\envs\\cityscan\\lib\\site-packages\\geopandas\\_vectorized.py:142: DeprecationWarning: An exception was ignored while fetching the attribute `__array_interface__` from an object of type 'MultiPolygon'.  With the exception of `AttributeError` NumPy will always raise this exception in the future.  Raise this deprecation warning to see the original exception. (Warning added NumPy 1.21)\n",
      "  aout[:] = out\n",
      "C:\\Users\\Rosem\\anaconda3\\envs\\cityscan\\lib\\site-packages\\geopandas\\geoseries.py:207: DeprecationWarning: The default dtype for empty Series will be 'object' instead of 'float64' in a future version. Specify a dtype explicitly to silence this warning.\n",
      "  s = pd.Series(data, index=index, name=name, **kwargs)\n",
      "C:\\Users\\Rosem\\anaconda3\\envs\\cityscan\\lib\\site-packages\\geopandas\\_vectorized.py:142: DeprecationWarning: An exception was ignored while fetching the attribute `__array_interface__` from an object of type 'MultiPolygon'.  With the exception of `AttributeError` NumPy will always raise this exception in the future.  Raise this deprecation warning to see the original exception. (Warning added NumPy 1.21)\n",
      "  aout[:] = out\n",
      "C:\\Users\\Rosem\\anaconda3\\envs\\cityscan\\lib\\site-packages\\pandas\\core\\dtypes\\cast.py:1990: DeprecationWarning: An exception was ignored while fetching the attribute `__array_interface__` from an object of type 'Polygon'.  With the exception of `AttributeError` NumPy will always raise this exception in the future.  Raise this deprecation warning to see the original exception. (Warning added NumPy 1.21)\n",
      "  result[:] = values\n",
      "C:\\Users\\Rosem\\anaconda3\\envs\\cityscan\\lib\\site-packages\\geopandas\\_vectorized.py:142: DeprecationWarning: An exception was ignored while fetching the attribute `__array_interface__` from an object of type 'Polygon'.  With the exception of `AttributeError` NumPy will always raise this exception in the future.  Raise this deprecation warning to see the original exception. (Warning added NumPy 1.21)\n",
      "  aout[:] = out\n"
     ]
    },
    {
     "name": "stdout",
     "output_type": "stream",
     "text": [
      "2400\n",
      "merge all edges and nodes\n"
     ]
    },
    {
     "name": "stderr",
     "output_type": "stream",
     "text": [
      "C:\\Users\\Rosem\\anaconda3\\envs\\cityscan\\lib\\site-packages\\geopandas\\_vectorized.py:786: DeprecationWarning: An exception was ignored while fetching the attribute `__array_interface__` from an object of type 'Polygon'.  With the exception of `AttributeError` NumPy will always raise this exception in the future.  Raise this deprecation warning to see the original exception. (Warning added NumPy 1.21)\n",
      "  out[:] = [\n",
      "C:\\Users\\Rosem\\anaconda3\\envs\\cityscan\\lib\\site-packages\\geopandas\\_vectorized.py:142: DeprecationWarning: An exception was ignored while fetching the attribute `__array_interface__` from an object of type 'Polygon'.  With the exception of `AttributeError` NumPy will always raise this exception in the future.  Raise this deprecation warning to see the original exception. (Warning added NumPy 1.21)\n",
      "  aout[:] = out\n"
     ]
    },
    {
     "name": "stdout",
     "output_type": "stream",
     "text": [
      "unary_union\n"
     ]
    },
    {
     "name": "stderr",
     "output_type": "stream",
     "text": [
      "C:\\Users\\Rosem\\anaconda3\\envs\\cityscan\\lib\\site-packages\\pandas\\core\\dtypes\\cast.py:1990: DeprecationWarning: An exception was ignored while fetching the attribute `__array_interface__` from an object of type 'Polygon'.  With the exception of `AttributeError` NumPy will always raise this exception in the future.  Raise this deprecation warning to see the original exception. (Warning added NumPy 1.21)\n",
      "  result[:] = values\n",
      "C:\\Users\\Rosem\\anaconda3\\envs\\cityscan\\lib\\site-packages\\geopandas\\geoseries.py:207: DeprecationWarning: The default dtype for empty Series will be 'object' instead of 'float64' in a future version. Specify a dtype explicitly to silence this warning.\n",
      "  s = pd.Series(data, index=index, name=name, **kwargs)\n",
      "C:\\Users\\Rosem\\anaconda3\\envs\\cityscan\\lib\\site-packages\\geopandas\\_vectorized.py:142: DeprecationWarning: An exception was ignored while fetching the attribute `__array_interface__` from an object of type 'Polygon'.  With the exception of `AttributeError` NumPy will always raise this exception in the future.  Raise this deprecation warning to see the original exception. (Warning added NumPy 1.21)\n",
      "  aout[:] = out\n",
      "C:\\Users\\Rosem\\anaconda3\\envs\\cityscan\\lib\\site-packages\\pandas\\core\\dtypes\\cast.py:1990: DeprecationWarning: An exception was ignored while fetching the attribute `__array_interface__` from an object of type 'Polygon'.  With the exception of `AttributeError` NumPy will always raise this exception in the future.  Raise this deprecation warning to see the original exception. (Warning added NumPy 1.21)\n",
      "  result[:] = values\n",
      "C:\\Users\\Rosem\\anaconda3\\envs\\cityscan\\lib\\site-packages\\geopandas\\_vectorized.py:142: DeprecationWarning: An exception was ignored while fetching the attribute `__array_interface__` from an object of type 'Polygon'.  With the exception of `AttributeError` NumPy will always raise this exception in the future.  Raise this deprecation warning to see the original exception. (Warning added NumPy 1.21)\n",
      "  aout[:] = out\n"
     ]
    },
    {
     "name": "stdout",
     "output_type": "stream",
     "text": [
      "health\n",
      "1000\n",
      "merge all edges and nodes\n"
     ]
    },
    {
     "name": "stderr",
     "output_type": "stream",
     "text": [
      "C:\\Users\\Rosem\\anaconda3\\envs\\cityscan\\lib\\site-packages\\geopandas\\_vectorized.py:786: DeprecationWarning: An exception was ignored while fetching the attribute `__array_interface__` from an object of type 'Polygon'.  With the exception of `AttributeError` NumPy will always raise this exception in the future.  Raise this deprecation warning to see the original exception. (Warning added NumPy 1.21)\n",
      "  out[:] = [\n",
      "C:\\Users\\Rosem\\anaconda3\\envs\\cityscan\\lib\\site-packages\\geopandas\\_vectorized.py:142: DeprecationWarning: An exception was ignored while fetching the attribute `__array_interface__` from an object of type 'Polygon'.  With the exception of `AttributeError` NumPy will always raise this exception in the future.  Raise this deprecation warning to see the original exception. (Warning added NumPy 1.21)\n",
      "  aout[:] = out\n"
     ]
    },
    {
     "name": "stdout",
     "output_type": "stream",
     "text": [
      "unary_union\n"
     ]
    },
    {
     "name": "stderr",
     "output_type": "stream",
     "text": [
      "C:\\Users\\Rosem\\anaconda3\\envs\\cityscan\\lib\\site-packages\\pandas\\core\\dtypes\\cast.py:1990: DeprecationWarning: An exception was ignored while fetching the attribute `__array_interface__` from an object of type 'Polygon'.  With the exception of `AttributeError` NumPy will always raise this exception in the future.  Raise this deprecation warning to see the original exception. (Warning added NumPy 1.21)\n",
      "  result[:] = values\n",
      "C:\\Users\\Rosem\\anaconda3\\envs\\cityscan\\lib\\site-packages\\pandas\\core\\dtypes\\cast.py:1990: DeprecationWarning: An exception was ignored while fetching the attribute `__array_interface__` from an object of type 'MultiPolygon'.  With the exception of `AttributeError` NumPy will always raise this exception in the future.  Raise this deprecation warning to see the original exception. (Warning added NumPy 1.21)\n",
      "  result[:] = values\n",
      "C:\\Users\\Rosem\\anaconda3\\envs\\cityscan\\lib\\site-packages\\geopandas\\_vectorized.py:142: DeprecationWarning: An exception was ignored while fetching the attribute `__array_interface__` from an object of type 'MultiPolygon'.  With the exception of `AttributeError` NumPy will always raise this exception in the future.  Raise this deprecation warning to see the original exception. (Warning added NumPy 1.21)\n",
      "  aout[:] = out\n",
      "C:\\Users\\Rosem\\anaconda3\\envs\\cityscan\\lib\\site-packages\\geopandas\\geoseries.py:207: DeprecationWarning: The default dtype for empty Series will be 'object' instead of 'float64' in a future version. Specify a dtype explicitly to silence this warning.\n",
      "  s = pd.Series(data, index=index, name=name, **kwargs)\n",
      "C:\\Users\\Rosem\\anaconda3\\envs\\cityscan\\lib\\site-packages\\geopandas\\_vectorized.py:142: DeprecationWarning: An exception was ignored while fetching the attribute `__array_interface__` from an object of type 'MultiPolygon'.  With the exception of `AttributeError` NumPy will always raise this exception in the future.  Raise this deprecation warning to see the original exception. (Warning added NumPy 1.21)\n",
      "  aout[:] = out\n",
      "C:\\Users\\Rosem\\anaconda3\\envs\\cityscan\\lib\\site-packages\\pandas\\core\\dtypes\\cast.py:1990: DeprecationWarning: An exception was ignored while fetching the attribute `__array_interface__` from an object of type 'Polygon'.  With the exception of `AttributeError` NumPy will always raise this exception in the future.  Raise this deprecation warning to see the original exception. (Warning added NumPy 1.21)\n",
      "  result[:] = values\n",
      "C:\\Users\\Rosem\\anaconda3\\envs\\cityscan\\lib\\site-packages\\geopandas\\_vectorized.py:142: DeprecationWarning: An exception was ignored while fetching the attribute `__array_interface__` from an object of type 'Polygon'.  With the exception of `AttributeError` NumPy will always raise this exception in the future.  Raise this deprecation warning to see the original exception. (Warning added NumPy 1.21)\n",
      "  aout[:] = out\n"
     ]
    },
    {
     "name": "stdout",
     "output_type": "stream",
     "text": [
      "2000\n",
      "merge all edges and nodes\n"
     ]
    },
    {
     "name": "stderr",
     "output_type": "stream",
     "text": [
      "C:\\Users\\Rosem\\anaconda3\\envs\\cityscan\\lib\\site-packages\\geopandas\\_vectorized.py:786: DeprecationWarning: An exception was ignored while fetching the attribute `__array_interface__` from an object of type 'Polygon'.  With the exception of `AttributeError` NumPy will always raise this exception in the future.  Raise this deprecation warning to see the original exception. (Warning added NumPy 1.21)\n",
      "  out[:] = [\n",
      "C:\\Users\\Rosem\\anaconda3\\envs\\cityscan\\lib\\site-packages\\geopandas\\_vectorized.py:142: DeprecationWarning: An exception was ignored while fetching the attribute `__array_interface__` from an object of type 'Polygon'.  With the exception of `AttributeError` NumPy will always raise this exception in the future.  Raise this deprecation warning to see the original exception. (Warning added NumPy 1.21)\n",
      "  aout[:] = out\n"
     ]
    },
    {
     "name": "stdout",
     "output_type": "stream",
     "text": [
      "unary_union\n"
     ]
    },
    {
     "name": "stderr",
     "output_type": "stream",
     "text": [
      "C:\\Users\\Rosem\\anaconda3\\envs\\cityscan\\lib\\site-packages\\pandas\\core\\dtypes\\cast.py:1990: DeprecationWarning: An exception was ignored while fetching the attribute `__array_interface__` from an object of type 'Polygon'.  With the exception of `AttributeError` NumPy will always raise this exception in the future.  Raise this deprecation warning to see the original exception. (Warning added NumPy 1.21)\n",
      "  result[:] = values\n",
      "C:\\Users\\Rosem\\anaconda3\\envs\\cityscan\\lib\\site-packages\\pandas\\core\\dtypes\\cast.py:1990: DeprecationWarning: An exception was ignored while fetching the attribute `__array_interface__` from an object of type 'MultiPolygon'.  With the exception of `AttributeError` NumPy will always raise this exception in the future.  Raise this deprecation warning to see the original exception. (Warning added NumPy 1.21)\n",
      "  result[:] = values\n",
      "C:\\Users\\Rosem\\anaconda3\\envs\\cityscan\\lib\\site-packages\\geopandas\\_vectorized.py:142: DeprecationWarning: An exception was ignored while fetching the attribute `__array_interface__` from an object of type 'MultiPolygon'.  With the exception of `AttributeError` NumPy will always raise this exception in the future.  Raise this deprecation warning to see the original exception. (Warning added NumPy 1.21)\n",
      "  aout[:] = out\n",
      "C:\\Users\\Rosem\\anaconda3\\envs\\cityscan\\lib\\site-packages\\geopandas\\geoseries.py:207: DeprecationWarning: The default dtype for empty Series will be 'object' instead of 'float64' in a future version. Specify a dtype explicitly to silence this warning.\n",
      "  s = pd.Series(data, index=index, name=name, **kwargs)\n",
      "C:\\Users\\Rosem\\anaconda3\\envs\\cityscan\\lib\\site-packages\\geopandas\\_vectorized.py:142: DeprecationWarning: An exception was ignored while fetching the attribute `__array_interface__` from an object of type 'MultiPolygon'.  With the exception of `AttributeError` NumPy will always raise this exception in the future.  Raise this deprecation warning to see the original exception. (Warning added NumPy 1.21)\n",
      "  aout[:] = out\n",
      "C:\\Users\\Rosem\\anaconda3\\envs\\cityscan\\lib\\site-packages\\pandas\\core\\dtypes\\cast.py:1990: DeprecationWarning: An exception was ignored while fetching the attribute `__array_interface__` from an object of type 'Polygon'.  With the exception of `AttributeError` NumPy will always raise this exception in the future.  Raise this deprecation warning to see the original exception. (Warning added NumPy 1.21)\n",
      "  result[:] = values\n",
      "C:\\Users\\Rosem\\anaconda3\\envs\\cityscan\\lib\\site-packages\\geopandas\\_vectorized.py:142: DeprecationWarning: An exception was ignored while fetching the attribute `__array_interface__` from an object of type 'Polygon'.  With the exception of `AttributeError` NumPy will always raise this exception in the future.  Raise this deprecation warning to see the original exception. (Warning added NumPy 1.21)\n",
      "  aout[:] = out\n"
     ]
    },
    {
     "name": "stdout",
     "output_type": "stream",
     "text": [
      "3000\n",
      "merge all edges and nodes\n"
     ]
    },
    {
     "name": "stderr",
     "output_type": "stream",
     "text": [
      "C:\\Users\\Rosem\\anaconda3\\envs\\cityscan\\lib\\site-packages\\geopandas\\_vectorized.py:786: DeprecationWarning: An exception was ignored while fetching the attribute `__array_interface__` from an object of type 'Polygon'.  With the exception of `AttributeError` NumPy will always raise this exception in the future.  Raise this deprecation warning to see the original exception. (Warning added NumPy 1.21)\n",
      "  out[:] = [\n",
      "C:\\Users\\Rosem\\anaconda3\\envs\\cityscan\\lib\\site-packages\\geopandas\\_vectorized.py:142: DeprecationWarning: An exception was ignored while fetching the attribute `__array_interface__` from an object of type 'Polygon'.  With the exception of `AttributeError` NumPy will always raise this exception in the future.  Raise this deprecation warning to see the original exception. (Warning added NumPy 1.21)\n",
      "  aout[:] = out\n"
     ]
    },
    {
     "name": "stdout",
     "output_type": "stream",
     "text": [
      "unary_union\n"
     ]
    },
    {
     "name": "stderr",
     "output_type": "stream",
     "text": [
      "C:\\Users\\Rosem\\anaconda3\\envs\\cityscan\\lib\\site-packages\\pandas\\core\\dtypes\\cast.py:1990: DeprecationWarning: An exception was ignored while fetching the attribute `__array_interface__` from an object of type 'Polygon'.  With the exception of `AttributeError` NumPy will always raise this exception in the future.  Raise this deprecation warning to see the original exception. (Warning added NumPy 1.21)\n",
      "  result[:] = values\n",
      "C:\\Users\\Rosem\\anaconda3\\envs\\cityscan\\lib\\site-packages\\pandas\\core\\dtypes\\cast.py:1990: DeprecationWarning: An exception was ignored while fetching the attribute `__array_interface__` from an object of type 'MultiPolygon'.  With the exception of `AttributeError` NumPy will always raise this exception in the future.  Raise this deprecation warning to see the original exception. (Warning added NumPy 1.21)\n",
      "  result[:] = values\n",
      "C:\\Users\\Rosem\\anaconda3\\envs\\cityscan\\lib\\site-packages\\geopandas\\_vectorized.py:142: DeprecationWarning: An exception was ignored while fetching the attribute `__array_interface__` from an object of type 'MultiPolygon'.  With the exception of `AttributeError` NumPy will always raise this exception in the future.  Raise this deprecation warning to see the original exception. (Warning added NumPy 1.21)\n",
      "  aout[:] = out\n",
      "C:\\Users\\Rosem\\anaconda3\\envs\\cityscan\\lib\\site-packages\\geopandas\\geoseries.py:207: DeprecationWarning: The default dtype for empty Series will be 'object' instead of 'float64' in a future version. Specify a dtype explicitly to silence this warning.\n",
      "  s = pd.Series(data, index=index, name=name, **kwargs)\n",
      "C:\\Users\\Rosem\\anaconda3\\envs\\cityscan\\lib\\site-packages\\geopandas\\_vectorized.py:142: DeprecationWarning: An exception was ignored while fetching the attribute `__array_interface__` from an object of type 'MultiPolygon'.  With the exception of `AttributeError` NumPy will always raise this exception in the future.  Raise this deprecation warning to see the original exception. (Warning added NumPy 1.21)\n",
      "  aout[:] = out\n",
      "C:\\Users\\Rosem\\anaconda3\\envs\\cityscan\\lib\\site-packages\\pandas\\core\\dtypes\\cast.py:1990: DeprecationWarning: An exception was ignored while fetching the attribute `__array_interface__` from an object of type 'Polygon'.  With the exception of `AttributeError` NumPy will always raise this exception in the future.  Raise this deprecation warning to see the original exception. (Warning added NumPy 1.21)\n",
      "  result[:] = values\n",
      "C:\\Users\\Rosem\\anaconda3\\envs\\cityscan\\lib\\site-packages\\geopandas\\_vectorized.py:142: DeprecationWarning: An exception was ignored while fetching the attribute `__array_interface__` from an object of type 'Polygon'.  With the exception of `AttributeError` NumPy will always raise this exception in the future.  Raise this deprecation warning to see the original exception. (Warning added NumPy 1.21)\n",
      "  aout[:] = out\n"
     ]
    }
   ],
   "source": [
    "for key in threshold_list:\n",
    "    print(key)\n",
    "    isochrone_processing(key)"
   ]
  }
 ],
 "metadata": {
  "kernelspec": {
   "display_name": "cityscan",
   "language": "python",
   "name": "cityscan"
  },
  "language_info": {
   "codemirror_mode": {
    "name": "ipython",
    "version": 3
   },
   "file_extension": ".py",
   "mimetype": "text/x-python",
   "name": "python",
   "nbconvert_exporter": "python",
   "pygments_lexer": "ipython3",
   "version": "3.9.6"
  }
 },
 "nbformat": 4,
 "nbformat_minor": 4
}
