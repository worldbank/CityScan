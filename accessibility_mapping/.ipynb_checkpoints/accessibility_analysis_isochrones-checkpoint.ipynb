{
 "cells": [
  {
   "cell_type": "markdown",
   "metadata": {},
   "source": [
    "# Accessibility Analysis\n",
    "\n",
    "- This analysis will measure accessibility to schools and hospitals\n",
    "- origins are derived from 100m grid blocks coming from WorldPop\n",
    "- the accessibility measure is the distance to the nearest facility in meters\n",
    "\n",
    "## Inputs:\n",
    "\n",
    "#### origins: derived from a WorldPOP raster using the 'Raster pixels to Points' tool in QGIS 3, and saved as a shapefile\n",
    "#### destinations: The combination of POIs from Overpass as points and centroids of polygons called through the GOSTNets OSMNX_POIs library.\n",
    "#### The admin AOI will be used to create a bounding box to download the road network via OSMNX\n"
   ]
  },
  {
   "cell_type": "markdown",
   "metadata": {},
   "source": [
    "### Import libraries"
   ]
  },
  {
   "cell_type": "code",
   "execution_count": 1,
   "metadata": {},
   "outputs": [],
   "source": [
    "%load_ext autoreload\n",
    "%autoreload 2"
   ]
  },
  {
   "cell_type": "code",
   "execution_count": 2,
   "metadata": {},
   "outputs": [],
   "source": [
    "import sys, os, inspect, logging, importlib\n",
    "\n",
    "import geopandas as gpd\n",
    "import pandas as pd\n",
    "import numpy as np\n",
    "import osmnx as ox\n",
    "import networkx as nx\n",
    "from shapely.ops import split, unary_union\n",
    "from shapely.geometry import box, Point\n",
    "\n",
    "import matplotlib.pyplot as plt"
   ]
  },
  {
   "cell_type": "code",
   "execution_count": 3,
   "metadata": {},
   "outputs": [],
   "source": [
    "# Get reference to GOSTNets\n",
    "sys.path.append(r'C:\\\\Users\\\\Rosem\\\\Documents\\\\Career\\\\World Bank\\\\City Scan\\\\repo\\\\GOSTnets')\n",
    "import GOSTnets as gn"
   ]
  },
  {
   "cell_type": "code",
   "execution_count": 4,
   "metadata": {},
   "outputs": [],
   "source": [
    "from GOSTnets.fetch_pois import *"
   ]
  },
  {
   "cell_type": "markdown",
   "metadata": {},
   "source": [
    "### Define folders and files"
   ]
  },
  {
   "cell_type": "code",
   "execution_count": 5,
   "metadata": {},
   "outputs": [],
   "source": [
    "inputFolder = r'input_folder'\n",
    "# define output folder\n",
    "outputFolder = r'output_folder'\n",
    "# define road graph\n",
    "roadGraph = os.path.join(inputFolder, \"OSM_Roads.pickle\")"
   ]
  },
  {
   "cell_type": "code",
   "execution_count": 6,
   "metadata": {},
   "outputs": [],
   "source": [
    "city_name = 'Khartoum'"
   ]
  },
  {
   "cell_type": "code",
   "execution_count": 7,
   "metadata": {},
   "outputs": [],
   "source": [
    "origins_file = os.path.join(inputFolder, \"Khartoum_world_pop_pts.shp\")"
   ]
  },
  {
   "cell_type": "code",
   "execution_count": 8,
   "metadata": {},
   "outputs": [],
   "source": [
    "# import extent\n",
    "city_extent = gpd.read_file(\"./admin/Khartoum_AOI_4326.shp\")"
   ]
  },
  {
   "cell_type": "code",
   "execution_count": 9,
   "metadata": {},
   "outputs": [
    {
     "name": "stdout",
     "output_type": "stream",
     "text": [
      "epsg:4326\n"
     ]
    }
   ],
   "source": [
    "# make sure crs is 4326\n",
    "print(city_extent.crs)"
   ]
  },
  {
   "cell_type": "code",
   "execution_count": 10,
   "metadata": {},
   "outputs": [],
   "source": [
    "extent = box(*city_extent.total_bounds)"
   ]
  },
  {
   "cell_type": "code",
   "execution_count": 11,
   "metadata": {},
   "outputs": [
    {
     "data": {
      "image/svg+xml": [
       "<svg xmlns=\"http://www.w3.org/2000/svg\" xmlns:xlink=\"http://www.w3.org/1999/xlink\" width=\"100.0\" height=\"100.0\" viewBox=\"32.18647378464006 15.161028436640054 0.583924529720008 0.7588991887199903\" preserveAspectRatio=\"xMinYMin meet\"><g transform=\"matrix(1,0,0,-1,0,31.080956062000098)\"><path fill-rule=\"evenodd\" fill=\"#66cc99\" stroke=\"#555555\" stroke-width=\"0.015177983774399805\" opacity=\"0.6\" d=\"M 32.742290937000064,15.189135814000053 L 32.742290937000064,15.891820248000045 L 32.21458116200006,15.891820248000045 L 32.21458116200006,15.189135814000053 L 32.742290937000064,15.189135814000053 z\" /></g></svg>"
      ],
      "text/plain": [
       "<shapely.geometry.polygon.Polygon at 0x2010b71fcd0>"
      ]
     },
     "execution_count": 11,
     "metadata": {},
     "output_type": "execute_result"
    }
   ],
   "source": [
    "extent"
   ]
  },
  {
   "cell_type": "markdown",
   "metadata": {},
   "source": [
    "## We will extract OSM POIs"
   ]
  },
  {
   "cell_type": "code",
   "execution_count": 12,
   "metadata": {},
   "outputs": [],
   "source": [
    "school_tags = {'amenity':['school', 'kindergarten', 'university', 'college']}\n",
    "# Remove pharmacy from health_tags\n",
    "health_tags = {'amenity':['clinic', 'hospital', 'health']}\n",
    "# health_tags = {'amenity':['clinic', 'pharmacy', 'hospital', 'health']}\n",
    "# Also get police and fire stations for flood maps\n",
    "police_tags = {'amenity':['police']}\n",
    "fire_tags = {'amenity':['fire_station']}"
   ]
  },
  {
   "cell_type": "code",
   "execution_count": 13,
   "metadata": {},
   "outputs": [],
   "source": [
    "tag_dictionary = {'schools': school_tags, 'health': health_tags,\n",
    "                  'police': police_tags, 'fire': fire_tags}"
   ]
  },
  {
   "cell_type": "code",
   "execution_count": 38,
   "metadata": {},
   "outputs": [
    {
     "name": "stdout",
     "output_type": "stream",
     "text": [
      "police\n",
      "fire\n",
      "('police', <GOSTnets.fetch_pois.OsmObject object at 0x000002010B8A5340>)\n"
     ]
    },
    {
     "name": "stderr",
     "output_type": "stream",
     "text": [
      "C:\\Users\\Rosem\\anaconda3\\envs\\cityscan_gpd_0.9\\lib\\site-packages\\geopandas\\_vectorized.py:142: DeprecationWarning: An exception was ignored while fetching the attribute `__array_interface__` from an object of type 'MultiPolygon'.  With the exception of `AttributeError` NumPy will always raise this exception in the future.  Raise this deprecation warning to see the original exception. (Warning added NumPy 1.21)\n",
      "  aout[:] = out\n",
      "C:\\Users\\Rosem\\anaconda3\\envs\\cityscan_gpd_0.9\\lib\\site-packages\\gostnets-1.0.1-py3.9.egg\\GOSTnets\\fetch_pois.py:79: UserWarning: Geometry is in a geographic CRS. Results from 'centroid' are likely incorrect. Use 'GeoSeries.to_crs()' to re-project geometries to a projected CRS before this operation.\n",
      "\n",
      "  polygons['geometry'] = polygons.centroid\n",
      "C:\\Users\\Rosem\\anaconda3\\envs\\cityscan_gpd_0.9\\lib\\site-packages\\geopandas\\geoseries.py:207: DeprecationWarning: The default dtype for empty Series will be 'object' instead of 'float64' in a future version. Specify a dtype explicitly to silence this warning.\n",
      "  s = pd.Series(data, index=index, name=name, **kwargs)\n",
      "C:\\Users\\Rosem\\anaconda3\\envs\\cityscan_gpd_0.9\\lib\\site-packages\\gostnets-1.0.1-py3.9.egg\\GOSTnets\\fetch_pois.py:95: UserWarning: Geometry is in a geographic CRS. Results from 'buffer' are likely incorrect. Use 'GeoSeries.to_crs()' to re-project geometries to a projected CRS before this operation.\n",
      "\n",
      "  gdf['buffer'] = gdf['geometry'].buffer(buf_width)\n",
      "C:\\Users\\Rosem\\anaconda3\\envs\\cityscan_gpd_0.9\\lib\\site-packages\\geopandas\\_vectorized.py:786: DeprecationWarning: An exception was ignored while fetching the attribute `__array_interface__` from an object of type 'Polygon'.  With the exception of `AttributeError` NumPy will always raise this exception in the future.  Raise this deprecation warning to see the original exception. (Warning added NumPy 1.21)\n",
      "  out[:] = [\n",
      "C:\\Users\\Rosem\\anaconda3\\envs\\cityscan_gpd_0.9\\lib\\site-packages\\geopandas\\_vectorized.py:142: DeprecationWarning: An exception was ignored while fetching the attribute `__array_interface__` from an object of type 'Polygon'.  With the exception of `AttributeError` NumPy will always raise this exception in the future.  Raise this deprecation warning to see the original exception. (Warning added NumPy 1.21)\n",
      "  aout[:] = out\n"
     ]
    },
    {
     "name": "stdout",
     "output_type": "stream",
     "text": [
      "('fire', <GOSTnets.fetch_pois.OsmObject object at 0x000002010B8A5100>)\n"
     ]
    },
    {
     "name": "stderr",
     "output_type": "stream",
     "text": [
      "C:\\Users\\Rosem\\anaconda3\\envs\\cityscan_gpd_0.9\\lib\\site-packages\\geopandas\\_vectorized.py:142: DeprecationWarning: An exception was ignored while fetching the attribute `__array_interface__` from an object of type 'MultiPolygon'.  With the exception of `AttributeError` NumPy will always raise this exception in the future.  Raise this deprecation warning to see the original exception. (Warning added NumPy 1.21)\n",
      "  aout[:] = out\n",
      "C:\\Users\\Rosem\\anaconda3\\envs\\cityscan_gpd_0.9\\lib\\site-packages\\gostnets-1.0.1-py3.9.egg\\GOSTnets\\fetch_pois.py:79: UserWarning: Geometry is in a geographic CRS. Results from 'centroid' are likely incorrect. Use 'GeoSeries.to_crs()' to re-project geometries to a projected CRS before this operation.\n",
      "\n",
      "  polygons['geometry'] = polygons.centroid\n",
      "C:\\Users\\Rosem\\anaconda3\\envs\\cityscan_gpd_0.9\\lib\\site-packages\\geopandas\\geoseries.py:207: DeprecationWarning: The default dtype for empty Series will be 'object' instead of 'float64' in a future version. Specify a dtype explicitly to silence this warning.\n",
      "  s = pd.Series(data, index=index, name=name, **kwargs)\n",
      "C:\\Users\\Rosem\\anaconda3\\envs\\cityscan_gpd_0.9\\lib\\site-packages\\gostnets-1.0.1-py3.9.egg\\GOSTnets\\fetch_pois.py:95: UserWarning: Geometry is in a geographic CRS. Results from 'buffer' are likely incorrect. Use 'GeoSeries.to_crs()' to re-project geometries to a projected CRS before this operation.\n",
      "\n",
      "  gdf['buffer'] = gdf['geometry'].buffer(buf_width)\n",
      "C:\\Users\\Rosem\\anaconda3\\envs\\cityscan_gpd_0.9\\lib\\site-packages\\geopandas\\_vectorized.py:786: DeprecationWarning: An exception was ignored while fetching the attribute `__array_interface__` from an object of type 'Polygon'.  With the exception of `AttributeError` NumPy will always raise this exception in the future.  Raise this deprecation warning to see the original exception. (Warning added NumPy 1.21)\n",
      "  out[:] = [\n",
      "C:\\Users\\Rosem\\anaconda3\\envs\\cityscan_gpd_0.9\\lib\\site-packages\\geopandas\\_vectorized.py:142: DeprecationWarning: An exception was ignored while fetching the attribute `__array_interface__` from an object of type 'Polygon'.  With the exception of `AttributeError` NumPy will always raise this exception in the future.  Raise this deprecation warning to see the original exception. (Warning added NumPy 1.21)\n",
      "  aout[:] = out\n"
     ]
    }
   ],
   "source": [
    "queries = {}\n",
    "for tags in tag_dictionary.items():\n",
    "    print(tags[0])\n",
    "    # create the OsmObject\n",
    "    queries[tags[0]] = OsmObject(f'{tags[0]}', extent, tags[1])\n",
    "query_results_gpd_dict = {}\n",
    "for query in queries.items():\n",
    "    print(query)\n",
    "    query[1].GenerateOSMPOIs()\n",
    "    query[1].RemoveDupes(0.0005)\n",
    "    \n",
    "    try:\n",
    "        query_results = query[1].df[['amenity','geometry','name']]\n",
    "    except KeyError:\n",
    "        query_results = query[1].df[['amenity','geometry']]\n",
    "    \n",
    "    # convert to GeoDataFrame\n",
    "    query_results_gpd = gpd.GeoDataFrame(query_results, crs = \"epsg:4326\", geometry = 'geometry')\n",
    "    query_results_gpd.to_file(outputFolder + f'/osm_infrastructure/osm_{query[0]}.shp')\n",
    "    \n",
    "    #save result in query_results_gpd_dict \n",
    "    query_results_gpd_dict[query[0]] = query_results_gpd"
   ]
  },
  {
   "cell_type": "markdown",
   "metadata": {},
   "source": [
    "## We will extract the Roads and convert into a graph"
   ]
  },
  {
   "cell_type": "code",
   "execution_count": 15,
   "metadata": {},
   "outputs": [
    {
     "name": "stderr",
     "output_type": "stream",
     "text": [
      "<class 'networkx.utils.decorators.argmap'> compilation 5:5: DeprecationWarning: read_gpickle is deprecated and will be removed in 3.0.Use ``pickle.load(path)``\n",
      "C:\\Users\\Rosem\\anaconda3\\envs\\cityscan_gpd_0.9\\lib\\site-packages\\gostnets-1.0.1-py3.9.egg\\GOSTnets\\core.py:1002: UserWarning: Aree you sure you want to convert length to time? This graph already has a time attribute\n"
     ]
    }
   ],
   "source": [
    "# This is the section where we can adjust the road speeds\n",
    "if not os.path.exists(roadGraph):\n",
    "    extent = box(*city_extent.total_bounds)\n",
    "    G = ox.graph_from_polygon(extent, network_type = 'drive_service')\n",
    "    # This is how time is calculated from the OSMNX length attribute\n",
    "    G = gn.convert_network_to_time(G, 'length')\n",
    "    # save the largerst subgraph\n",
    "   \n",
    "    # compatible with NetworkX 2.4\n",
    "    list_of_subgraphs = list(G.subgraph(c).copy() for c in nx.strongly_connected_components(G))\n",
    "    max_graph = None\n",
    "    max_edges = 0\n",
    "    for i in list_of_subgraphs:\n",
    "        if i.number_of_edges() > max_edges:\n",
    "            max_edges = i.number_of_edges()\n",
    "            max_graph = i\n",
    "\n",
    "    # set your graph equal to the largest sub-graph\n",
    "    G = max_graph\n",
    "\n",
    "    nx.write_gpickle(G, roadGraph)\n",
    "else:\n",
    "    G = nx.read_gpickle(roadGraph)    \n",
    "    G = gn.convert_network_to_time(G, 'length')"
   ]
  },
  {
   "cell_type": "markdown",
   "metadata": {},
   "source": [
    "### Inspect the road graph as a shapefile"
   ]
  },
  {
   "cell_type": "code",
   "execution_count": 16,
   "metadata": {},
   "outputs": [],
   "source": [
    "roads = gn.edge_gdf_from_graph(G)"
   ]
  },
  {
   "cell_type": "code",
   "execution_count": 17,
   "metadata": {},
   "outputs": [],
   "source": [
    "pd.set_option('display.max_columns', None)"
   ]
  },
  {
   "cell_type": "code",
   "execution_count": 18,
   "metadata": {},
   "outputs": [
    {
     "data": {
      "text/html": [
       "<div>\n",
       "<style scoped>\n",
       "    .dataframe tbody tr th:only-of-type {\n",
       "        vertical-align: middle;\n",
       "    }\n",
       "\n",
       "    .dataframe tbody tr th {\n",
       "        vertical-align: top;\n",
       "    }\n",
       "\n",
       "    .dataframe thead th {\n",
       "        text-align: right;\n",
       "    }\n",
       "</style>\n",
       "<table border=\"1\" class=\"dataframe\">\n",
       "  <thead>\n",
       "    <tr style=\"text-align: right;\">\n",
       "      <th></th>\n",
       "      <th>stnode</th>\n",
       "      <th>endnode</th>\n",
       "      <th>mode</th>\n",
       "      <th>width</th>\n",
       "      <th>oneway</th>\n",
       "      <th>highway</th>\n",
       "      <th>name</th>\n",
       "      <th>osmid</th>\n",
       "      <th>lanes</th>\n",
       "      <th>junction</th>\n",
       "      <th>service</th>\n",
       "      <th>maxspeed</th>\n",
       "      <th>tunnel</th>\n",
       "      <th>time</th>\n",
       "      <th>bridge</th>\n",
       "      <th>access</th>\n",
       "      <th>length</th>\n",
       "      <th>geometry</th>\n",
       "    </tr>\n",
       "  </thead>\n",
       "  <tbody>\n",
       "    <tr>\n",
       "      <th>0</th>\n",
       "      <td>35468181</td>\n",
       "      <td>302320229</td>\n",
       "      <td>drive</td>\n",
       "      <td>NaN</td>\n",
       "      <td>True</td>\n",
       "      <td>secondary</td>\n",
       "      <td>دوران حديقة القرشي</td>\n",
       "      <td>43122153</td>\n",
       "      <td>NaN</td>\n",
       "      <td>NaN</td>\n",
       "      <td>NaN</td>\n",
       "      <td>NaN</td>\n",
       "      <td>NaN</td>\n",
       "      <td>7.41492</td>\n",
       "      <td>NaN</td>\n",
       "      <td>NaN</td>\n",
       "      <td>61.791</td>\n",
       "      <td>LINESTRING (32.53164 15.58386, 32.53168 15.583...</td>\n",
       "    </tr>\n",
       "    <tr>\n",
       "      <th>1</th>\n",
       "      <td>35490920</td>\n",
       "      <td>3294007090</td>\n",
       "      <td>drive</td>\n",
       "      <td>NaN</td>\n",
       "      <td>True</td>\n",
       "      <td>secondary</td>\n",
       "      <td>شارع الصحافة</td>\n",
       "      <td>327372312</td>\n",
       "      <td>NaN</td>\n",
       "      <td>NaN</td>\n",
       "      <td>NaN</td>\n",
       "      <td>NaN</td>\n",
       "      <td>NaN</td>\n",
       "      <td>1.01832</td>\n",
       "      <td>NaN</td>\n",
       "      <td>NaN</td>\n",
       "      <td>8.486</td>\n",
       "      <td>LINESTRING (32.53389 15.57864, 32.53387 15.57871)</td>\n",
       "    </tr>\n",
       "  </tbody>\n",
       "</table>\n",
       "</div>"
      ],
      "text/plain": [
       "     stnode     endnode   mode width  oneway    highway                name  \\\n",
       "0  35468181   302320229  drive   NaN    True  secondary  دوران حديقة القرشي   \n",
       "1  35490920  3294007090  drive   NaN    True  secondary        شارع الصحافة   \n",
       "\n",
       "       osmid lanes junction service maxspeed tunnel     time bridge access  \\\n",
       "0   43122153   NaN      NaN     NaN      NaN    NaN  7.41492    NaN    NaN   \n",
       "1  327372312   NaN      NaN     NaN      NaN    NaN  1.01832    NaN    NaN   \n",
       "\n",
       "   length                                           geometry  \n",
       "0  61.791  LINESTRING (32.53164 15.58386, 32.53168 15.583...  \n",
       "1   8.486  LINESTRING (32.53389 15.57864, 32.53387 15.57871)  "
      ]
     },
     "execution_count": 18,
     "metadata": {},
     "output_type": "execute_result"
    }
   ],
   "source": [
    "roads[:2]"
   ]
  },
  {
   "cell_type": "code",
   "execution_count": 19,
   "metadata": {},
   "outputs": [],
   "source": [
    "if not os.path.exists(outputFolder + '/OSM_Roads/OSM_Roads.shp'):\n",
    "    #roads['oneway'] = roads.oneway.astype(int)\n",
    "    roads = roads[['length','time','mode','geometry']]\n",
    "    roads.to_file(outputFolder + '/OSM_Roads')"
   ]
  },
  {
   "cell_type": "markdown",
   "metadata": {},
   "source": [
    "## Snap origins to the road graph using advanced snapping"
   ]
  },
  {
   "cell_type": "code",
   "execution_count": 20,
   "metadata": {},
   "outputs": [],
   "source": [
    "# insert origins\n",
    "origins = gpd.read_file(origins_file)"
   ]
  },
  {
   "cell_type": "code",
   "execution_count": 21,
   "metadata": {},
   "outputs": [
    {
     "data": {
      "text/html": [
       "<div>\n",
       "<style scoped>\n",
       "    .dataframe tbody tr th:only-of-type {\n",
       "        vertical-align: middle;\n",
       "    }\n",
       "\n",
       "    .dataframe tbody tr th {\n",
       "        vertical-align: top;\n",
       "    }\n",
       "\n",
       "    .dataframe thead th {\n",
       "        text-align: right;\n",
       "    }\n",
       "</style>\n",
       "<table border=\"1\" class=\"dataframe\">\n",
       "  <thead>\n",
       "    <tr style=\"text-align: right;\">\n",
       "      <th></th>\n",
       "      <th>VALUE</th>\n",
       "      <th>geometry</th>\n",
       "      <th>osmid</th>\n",
       "    </tr>\n",
       "  </thead>\n",
       "  <tbody>\n",
       "    <tr>\n",
       "      <th>0</th>\n",
       "      <td>24.834244</td>\n",
       "      <td>POINT (32.60000 15.89083)</td>\n",
       "      <td>1110000000</td>\n",
       "    </tr>\n",
       "    <tr>\n",
       "      <th>1</th>\n",
       "      <td>23.445583</td>\n",
       "      <td>POINT (32.60083 15.89083)</td>\n",
       "      <td>1110000001</td>\n",
       "    </tr>\n",
       "    <tr>\n",
       "      <th>2</th>\n",
       "      <td>28.320116</td>\n",
       "      <td>POINT (32.60167 15.89083)</td>\n",
       "      <td>1110000002</td>\n",
       "    </tr>\n",
       "    <tr>\n",
       "      <th>3</th>\n",
       "      <td>22.066607</td>\n",
       "      <td>POINT (32.58417 15.88917)</td>\n",
       "      <td>1110000003</td>\n",
       "    </tr>\n",
       "    <tr>\n",
       "      <th>4</th>\n",
       "      <td>44.561417</td>\n",
       "      <td>POINT (32.57833 15.88833)</td>\n",
       "      <td>1110000004</td>\n",
       "    </tr>\n",
       "    <tr>\n",
       "      <th>...</th>\n",
       "      <td>...</td>\n",
       "      <td>...</td>\n",
       "      <td>...</td>\n",
       "    </tr>\n",
       "    <tr>\n",
       "      <th>136096</th>\n",
       "      <td>15.983064</td>\n",
       "      <td>POINT (32.49333 15.19000)</td>\n",
       "      <td>1110136096</td>\n",
       "    </tr>\n",
       "    <tr>\n",
       "      <th>136097</th>\n",
       "      <td>8.468939</td>\n",
       "      <td>POINT (32.49417 15.19000)</td>\n",
       "      <td>1110136097</td>\n",
       "    </tr>\n",
       "    <tr>\n",
       "      <th>136098</th>\n",
       "      <td>9.722957</td>\n",
       "      <td>POINT (32.49500 15.19000)</td>\n",
       "      <td>1110136098</td>\n",
       "    </tr>\n",
       "    <tr>\n",
       "      <th>136099</th>\n",
       "      <td>10.808292</td>\n",
       "      <td>POINT (32.49583 15.19000)</td>\n",
       "      <td>1110136099</td>\n",
       "    </tr>\n",
       "    <tr>\n",
       "      <th>136100</th>\n",
       "      <td>9.211644</td>\n",
       "      <td>POINT (32.49667 15.19000)</td>\n",
       "      <td>1110136100</td>\n",
       "    </tr>\n",
       "  </tbody>\n",
       "</table>\n",
       "<p>136101 rows × 3 columns</p>\n",
       "</div>"
      ],
      "text/plain": [
       "            VALUE                   geometry       osmid\n",
       "0       24.834244  POINT (32.60000 15.89083)  1110000000\n",
       "1       23.445583  POINT (32.60083 15.89083)  1110000001\n",
       "2       28.320116  POINT (32.60167 15.89083)  1110000002\n",
       "3       22.066607  POINT (32.58417 15.88917)  1110000003\n",
       "4       44.561417  POINT (32.57833 15.88833)  1110000004\n",
       "...           ...                        ...         ...\n",
       "136096  15.983064  POINT (32.49333 15.19000)  1110136096\n",
       "136097   8.468939  POINT (32.49417 15.19000)  1110136097\n",
       "136098   9.722957  POINT (32.49500 15.19000)  1110136098\n",
       "136099  10.808292  POINT (32.49583 15.19000)  1110136099\n",
       "136100   9.211644  POINT (32.49667 15.19000)  1110136100\n",
       "\n",
       "[136101 rows x 3 columns]"
      ]
     },
     "execution_count": 21,
     "metadata": {},
     "output_type": "execute_result"
    }
   ],
   "source": [
    "origins['osmid'] = 1110000000 + origins.index\n",
    "origins"
   ]
  },
  {
   "cell_type": "code",
   "execution_count": 22,
   "metadata": {},
   "outputs": [
    {
     "data": {
      "text/plain": [
       "'+proj=utm +zone=36 +ellps=WGS84 +datum=WGS84 +units=m +no_defs'"
      ]
     },
     "execution_count": 22,
     "metadata": {},
     "output_type": "execute_result"
    }
   ],
   "source": [
    "# find graph utm zone\n",
    "G_utm = gn.utm_of_graph(G)\n",
    "G_utm"
   ]
  },
  {
   "cell_type": "code",
   "execution_count": 23,
   "metadata": {},
   "outputs": [
    {
     "name": "stdout",
     "output_type": "stream",
     "text": [
      "Building rtree...\n",
      "Projecting POIs to the network...\n",
      "Updating internal nodes...\n",
      "print _new_nodes\n",
      "Updating internal edges...\n",
      "Updating external links...\n",
      "node count before: 484484\n",
      "node count after: 483371\n",
      "pois_meter count before: 136101\n",
      "pois_meter count after: 134988\n",
      "Remove edge projections greater than threshold: 1113/136101 (0.82%)\n",
      "NOTE: duplication in node coordinates keys\n",
      "Nodes count: 483371\n",
      "Node coordinates key count: 484484\n",
      "Missing 'from' nodes: 0\n",
      "Missing 'to' nodes: 0\n",
      "making a new graph from edges and nodes\n",
      "Wall time: 7h 38min\n"
     ]
    }
   ],
   "source": [
    "%%time\n",
    "G2, pois_meter, new_footway_edges = gn.advanced_snap(G, origins, u_tag = 'stnode', v_tag = 'endnode', node_key_col='osmid', poi_key_col='osmid', path=None, threshold=2000, measure_crs=G_utm)"
   ]
  },
  {
   "cell_type": "code",
   "execution_count": 24,
   "metadata": {},
   "outputs": [],
   "source": [
    "originNodes_list = list(origins['osmid'])"
   ]
  },
  {
   "cell_type": "markdown",
   "metadata": {},
   "source": [
    "### Snap destinations to the road graph"
   ]
  },
  {
   "cell_type": "code",
   "execution_count": 25,
   "metadata": {},
   "outputs": [],
   "source": [
    "snapped_destinations_dict = {}\n",
    "for results_gpd in query_results_gpd_dict.items():\n",
    "    snapped_destinations = gn.pandana_snap(G, query_results_gpd_dict[results_gpd[0]])\n",
    "    snapped_destinations_dict[results_gpd[0]] = list(snapped_destinations['NN'].unique())"
   ]
  },
  {
   "cell_type": "code",
   "execution_count": 26,
   "metadata": {},
   "outputs": [],
   "source": [
    "# snapped_destinations_dict"
   ]
  },
  {
   "cell_type": "markdown",
   "metadata": {},
   "source": [
    "## Isochrones processing"
   ]
  },
  {
   "cell_type": "code",
   "execution_count": 27,
   "metadata": {},
   "outputs": [
    {
     "data": {
      "text/plain": [
       "<networkx.classes.multidigraph.MultiDiGraph at 0x201f2704ac0>"
      ]
     },
     "execution_count": 27,
     "metadata": {},
     "output_type": "execute_result"
    }
   ],
   "source": [
    "G2"
   ]
  },
  {
   "cell_type": "code",
   "execution_count": 28,
   "metadata": {},
   "outputs": [],
   "source": [
    "threshold_list = {\n",
    "    'schools': [800,1600,2400],\n",
    "    'health': [1000,2000,3000]\n",
    "}\n",
    "\n",
    "def isochrone_processing(amenity_type):\n",
    "    amenity_threshold_list = threshold_list.get(amenity_type)\n",
    "    if amenity_threshold_list == None:\n",
    "        return \"Amenity type not found\"\n",
    "    for threshold in amenity_threshold_list:\n",
    "        print(threshold)\n",
    "        iso_gdf = gn.make_iso_polys(G2, snapped_destinations_dict[amenity_type], [threshold], edge_buff=300, node_buff=300, weight = 'length', measure_crs = G_utm)\n",
    "        dissolved = iso_gdf.dissolve(by=\"thresh\")\n",
    "        gdf_out = dissolved.explode()\n",
    "        gdf_out2 = gdf_out.reset_index()\n",
    "        # save file\n",
    "        gdf_out2.to_file(outputFolder + f'/{city_name}_AOI_accessibility_{amenity_type}_isochrones_{threshold}m.shp')"
   ]
  },
  {
   "cell_type": "code",
   "execution_count": 29,
   "metadata": {},
   "outputs": [
    {
     "name": "stdout",
     "output_type": "stream",
     "text": [
      "800\n",
      "merge all edges and nodes\n"
     ]
    },
    {
     "name": "stderr",
     "output_type": "stream",
     "text": [
      "C:\\Users\\Rosem\\anaconda3\\envs\\cityscan_gpd_0.9\\lib\\site-packages\\geopandas\\_vectorized.py:786: DeprecationWarning: An exception was ignored while fetching the attribute `__array_interface__` from an object of type 'Polygon'.  With the exception of `AttributeError` NumPy will always raise this exception in the future.  Raise this deprecation warning to see the original exception. (Warning added NumPy 1.21)\n",
      "  out[:] = [\n",
      "C:\\Users\\Rosem\\anaconda3\\envs\\cityscan_gpd_0.9\\lib\\site-packages\\geopandas\\_vectorized.py:142: DeprecationWarning: An exception was ignored while fetching the attribute `__array_interface__` from an object of type 'Polygon'.  With the exception of `AttributeError` NumPy will always raise this exception in the future.  Raise this deprecation warning to see the original exception. (Warning added NumPy 1.21)\n",
      "  aout[:] = out\n",
      "C:\\Users\\Rosem\\anaconda3\\envs\\cityscan_gpd_0.9\\lib\\site-packages\\geopandas\\_vectorized.py:786: DeprecationWarning: An exception was ignored while fetching the attribute `__array_interface__` from an object of type 'MultiPolygon'.  With the exception of `AttributeError` NumPy will always raise this exception in the future.  Raise this deprecation warning to see the original exception. (Warning added NumPy 1.21)\n",
      "  out[:] = [\n",
      "C:\\Users\\Rosem\\anaconda3\\envs\\cityscan_gpd_0.9\\lib\\site-packages\\geopandas\\_vectorized.py:142: DeprecationWarning: An exception was ignored while fetching the attribute `__array_interface__` from an object of type 'MultiPolygon'.  With the exception of `AttributeError` NumPy will always raise this exception in the future.  Raise this deprecation warning to see the original exception. (Warning added NumPy 1.21)\n",
      "  aout[:] = out\n"
     ]
    },
    {
     "name": "stdout",
     "output_type": "stream",
     "text": [
      "unary_union\n"
     ]
    },
    {
     "name": "stderr",
     "output_type": "stream",
     "text": [
      "C:\\Users\\Rosem\\anaconda3\\envs\\cityscan_gpd_0.9\\lib\\site-packages\\pandas\\core\\dtypes\\cast.py:1990: DeprecationWarning: An exception was ignored while fetching the attribute `__array_interface__` from an object of type 'Polygon'.  With the exception of `AttributeError` NumPy will always raise this exception in the future.  Raise this deprecation warning to see the original exception. (Warning added NumPy 1.21)\n",
      "  result[:] = values\n",
      "C:\\Users\\Rosem\\anaconda3\\envs\\cityscan_gpd_0.9\\lib\\site-packages\\pandas\\core\\dtypes\\cast.py:1990: DeprecationWarning: An exception was ignored while fetching the attribute `__array_interface__` from an object of type 'MultiPolygon'.  With the exception of `AttributeError` NumPy will always raise this exception in the future.  Raise this deprecation warning to see the original exception. (Warning added NumPy 1.21)\n",
      "  result[:] = values\n",
      "C:\\Users\\Rosem\\anaconda3\\envs\\cityscan_gpd_0.9\\lib\\site-packages\\geopandas\\geoseries.py:207: DeprecationWarning: The default dtype for empty Series will be 'object' instead of 'float64' in a future version. Specify a dtype explicitly to silence this warning.\n",
      "  s = pd.Series(data, index=index, name=name, **kwargs)\n",
      "C:\\Users\\Rosem\\anaconda3\\envs\\cityscan_gpd_0.9\\lib\\site-packages\\geopandas\\_vectorized.py:142: DeprecationWarning: An exception was ignored while fetching the attribute `__array_interface__` from an object of type 'MultiPolygon'.  With the exception of `AttributeError` NumPy will always raise this exception in the future.  Raise this deprecation warning to see the original exception. (Warning added NumPy 1.21)\n",
      "  aout[:] = out\n",
      "C:\\Users\\Rosem\\anaconda3\\envs\\cityscan_gpd_0.9\\lib\\site-packages\\pandas\\core\\dtypes\\cast.py:1990: DeprecationWarning: An exception was ignored while fetching the attribute `__array_interface__` from an object of type 'Polygon'.  With the exception of `AttributeError` NumPy will always raise this exception in the future.  Raise this deprecation warning to see the original exception. (Warning added NumPy 1.21)\n",
      "  result[:] = values\n",
      "C:\\Users\\Rosem\\anaconda3\\envs\\cityscan_gpd_0.9\\lib\\site-packages\\geopandas\\_vectorized.py:142: DeprecationWarning: An exception was ignored while fetching the attribute `__array_interface__` from an object of type 'Polygon'.  With the exception of `AttributeError` NumPy will always raise this exception in the future.  Raise this deprecation warning to see the original exception. (Warning added NumPy 1.21)\n",
      "  aout[:] = out\n"
     ]
    },
    {
     "name": "stdout",
     "output_type": "stream",
     "text": [
      "1600\n",
      "merge all edges and nodes\n"
     ]
    },
    {
     "name": "stderr",
     "output_type": "stream",
     "text": [
      "C:\\Users\\Rosem\\anaconda3\\envs\\cityscan_gpd_0.9\\lib\\site-packages\\geopandas\\_vectorized.py:786: DeprecationWarning: An exception was ignored while fetching the attribute `__array_interface__` from an object of type 'Polygon'.  With the exception of `AttributeError` NumPy will always raise this exception in the future.  Raise this deprecation warning to see the original exception. (Warning added NumPy 1.21)\n",
      "  out[:] = [\n",
      "C:\\Users\\Rosem\\anaconda3\\envs\\cityscan_gpd_0.9\\lib\\site-packages\\geopandas\\_vectorized.py:142: DeprecationWarning: An exception was ignored while fetching the attribute `__array_interface__` from an object of type 'Polygon'.  With the exception of `AttributeError` NumPy will always raise this exception in the future.  Raise this deprecation warning to see the original exception. (Warning added NumPy 1.21)\n",
      "  aout[:] = out\n",
      "C:\\Users\\Rosem\\anaconda3\\envs\\cityscan_gpd_0.9\\lib\\site-packages\\geopandas\\_vectorized.py:786: DeprecationWarning: An exception was ignored while fetching the attribute `__array_interface__` from an object of type 'MultiPolygon'.  With the exception of `AttributeError` NumPy will always raise this exception in the future.  Raise this deprecation warning to see the original exception. (Warning added NumPy 1.21)\n",
      "  out[:] = [\n",
      "C:\\Users\\Rosem\\anaconda3\\envs\\cityscan_gpd_0.9\\lib\\site-packages\\geopandas\\_vectorized.py:142: DeprecationWarning: An exception was ignored while fetching the attribute `__array_interface__` from an object of type 'MultiPolygon'.  With the exception of `AttributeError` NumPy will always raise this exception in the future.  Raise this deprecation warning to see the original exception. (Warning added NumPy 1.21)\n",
      "  aout[:] = out\n"
     ]
    },
    {
     "name": "stdout",
     "output_type": "stream",
     "text": [
      "unary_union\n"
     ]
    },
    {
     "name": "stderr",
     "output_type": "stream",
     "text": [
      "C:\\Users\\Rosem\\anaconda3\\envs\\cityscan_gpd_0.9\\lib\\site-packages\\pandas\\core\\dtypes\\cast.py:1990: DeprecationWarning: An exception was ignored while fetching the attribute `__array_interface__` from an object of type 'Polygon'.  With the exception of `AttributeError` NumPy will always raise this exception in the future.  Raise this deprecation warning to see the original exception. (Warning added NumPy 1.21)\n",
      "  result[:] = values\n",
      "C:\\Users\\Rosem\\anaconda3\\envs\\cityscan_gpd_0.9\\lib\\site-packages\\pandas\\core\\dtypes\\cast.py:1990: DeprecationWarning: An exception was ignored while fetching the attribute `__array_interface__` from an object of type 'MultiPolygon'.  With the exception of `AttributeError` NumPy will always raise this exception in the future.  Raise this deprecation warning to see the original exception. (Warning added NumPy 1.21)\n",
      "  result[:] = values\n",
      "C:\\Users\\Rosem\\anaconda3\\envs\\cityscan_gpd_0.9\\lib\\site-packages\\geopandas\\geoseries.py:207: DeprecationWarning: The default dtype for empty Series will be 'object' instead of 'float64' in a future version. Specify a dtype explicitly to silence this warning.\n",
      "  s = pd.Series(data, index=index, name=name, **kwargs)\n",
      "C:\\Users\\Rosem\\anaconda3\\envs\\cityscan_gpd_0.9\\lib\\site-packages\\geopandas\\_vectorized.py:142: DeprecationWarning: An exception was ignored while fetching the attribute `__array_interface__` from an object of type 'MultiPolygon'.  With the exception of `AttributeError` NumPy will always raise this exception in the future.  Raise this deprecation warning to see the original exception. (Warning added NumPy 1.21)\n",
      "  aout[:] = out\n",
      "C:\\Users\\Rosem\\anaconda3\\envs\\cityscan_gpd_0.9\\lib\\site-packages\\pandas\\core\\dtypes\\cast.py:1990: DeprecationWarning: An exception was ignored while fetching the attribute `__array_interface__` from an object of type 'Polygon'.  With the exception of `AttributeError` NumPy will always raise this exception in the future.  Raise this deprecation warning to see the original exception. (Warning added NumPy 1.21)\n",
      "  result[:] = values\n",
      "C:\\Users\\Rosem\\anaconda3\\envs\\cityscan_gpd_0.9\\lib\\site-packages\\geopandas\\_vectorized.py:142: DeprecationWarning: An exception was ignored while fetching the attribute `__array_interface__` from an object of type 'Polygon'.  With the exception of `AttributeError` NumPy will always raise this exception in the future.  Raise this deprecation warning to see the original exception. (Warning added NumPy 1.21)\n",
      "  aout[:] = out\n"
     ]
    },
    {
     "name": "stdout",
     "output_type": "stream",
     "text": [
      "2400\n",
      "merge all edges and nodes\n"
     ]
    },
    {
     "name": "stderr",
     "output_type": "stream",
     "text": [
      "C:\\Users\\Rosem\\anaconda3\\envs\\cityscan_gpd_0.9\\lib\\site-packages\\geopandas\\_vectorized.py:786: DeprecationWarning: An exception was ignored while fetching the attribute `__array_interface__` from an object of type 'Polygon'.  With the exception of `AttributeError` NumPy will always raise this exception in the future.  Raise this deprecation warning to see the original exception. (Warning added NumPy 1.21)\n",
      "  out[:] = [\n",
      "C:\\Users\\Rosem\\anaconda3\\envs\\cityscan_gpd_0.9\\lib\\site-packages\\geopandas\\_vectorized.py:142: DeprecationWarning: An exception was ignored while fetching the attribute `__array_interface__` from an object of type 'Polygon'.  With the exception of `AttributeError` NumPy will always raise this exception in the future.  Raise this deprecation warning to see the original exception. (Warning added NumPy 1.21)\n",
      "  aout[:] = out\n",
      "C:\\Users\\Rosem\\anaconda3\\envs\\cityscan_gpd_0.9\\lib\\site-packages\\geopandas\\_vectorized.py:786: DeprecationWarning: An exception was ignored while fetching the attribute `__array_interface__` from an object of type 'MultiPolygon'.  With the exception of `AttributeError` NumPy will always raise this exception in the future.  Raise this deprecation warning to see the original exception. (Warning added NumPy 1.21)\n",
      "  out[:] = [\n",
      "C:\\Users\\Rosem\\anaconda3\\envs\\cityscan_gpd_0.9\\lib\\site-packages\\geopandas\\_vectorized.py:142: DeprecationWarning: An exception was ignored while fetching the attribute `__array_interface__` from an object of type 'MultiPolygon'.  With the exception of `AttributeError` NumPy will always raise this exception in the future.  Raise this deprecation warning to see the original exception. (Warning added NumPy 1.21)\n",
      "  aout[:] = out\n"
     ]
    },
    {
     "name": "stdout",
     "output_type": "stream",
     "text": [
      "unary_union\n"
     ]
    },
    {
     "name": "stderr",
     "output_type": "stream",
     "text": [
      "C:\\Users\\Rosem\\anaconda3\\envs\\cityscan_gpd_0.9\\lib\\site-packages\\pandas\\core\\dtypes\\cast.py:1990: DeprecationWarning: An exception was ignored while fetching the attribute `__array_interface__` from an object of type 'Polygon'.  With the exception of `AttributeError` NumPy will always raise this exception in the future.  Raise this deprecation warning to see the original exception. (Warning added NumPy 1.21)\n",
      "  result[:] = values\n",
      "C:\\Users\\Rosem\\anaconda3\\envs\\cityscan_gpd_0.9\\lib\\site-packages\\pandas\\core\\dtypes\\cast.py:1990: DeprecationWarning: An exception was ignored while fetching the attribute `__array_interface__` from an object of type 'MultiPolygon'.  With the exception of `AttributeError` NumPy will always raise this exception in the future.  Raise this deprecation warning to see the original exception. (Warning added NumPy 1.21)\n",
      "  result[:] = values\n",
      "C:\\Users\\Rosem\\anaconda3\\envs\\cityscan_gpd_0.9\\lib\\site-packages\\geopandas\\geoseries.py:207: DeprecationWarning: The default dtype for empty Series will be 'object' instead of 'float64' in a future version. Specify a dtype explicitly to silence this warning.\n",
      "  s = pd.Series(data, index=index, name=name, **kwargs)\n",
      "C:\\Users\\Rosem\\anaconda3\\envs\\cityscan_gpd_0.9\\lib\\site-packages\\geopandas\\_vectorized.py:142: DeprecationWarning: An exception was ignored while fetching the attribute `__array_interface__` from an object of type 'MultiPolygon'.  With the exception of `AttributeError` NumPy will always raise this exception in the future.  Raise this deprecation warning to see the original exception. (Warning added NumPy 1.21)\n",
      "  aout[:] = out\n",
      "C:\\Users\\Rosem\\anaconda3\\envs\\cityscan_gpd_0.9\\lib\\site-packages\\pandas\\core\\dtypes\\cast.py:1990: DeprecationWarning: An exception was ignored while fetching the attribute `__array_interface__` from an object of type 'Polygon'.  With the exception of `AttributeError` NumPy will always raise this exception in the future.  Raise this deprecation warning to see the original exception. (Warning added NumPy 1.21)\n",
      "  result[:] = values\n",
      "C:\\Users\\Rosem\\anaconda3\\envs\\cityscan_gpd_0.9\\lib\\site-packages\\geopandas\\_vectorized.py:142: DeprecationWarning: An exception was ignored while fetching the attribute `__array_interface__` from an object of type 'Polygon'.  With the exception of `AttributeError` NumPy will always raise this exception in the future.  Raise this deprecation warning to see the original exception. (Warning added NumPy 1.21)\n",
      "  aout[:] = out\n"
     ]
    }
   ],
   "source": [
    "isochrone_processing('schools')"
   ]
  },
  {
   "cell_type": "code",
   "execution_count": 30,
   "metadata": {},
   "outputs": [
    {
     "name": "stdout",
     "output_type": "stream",
     "text": [
      "1000\n",
      "merge all edges and nodes\n"
     ]
    },
    {
     "name": "stderr",
     "output_type": "stream",
     "text": [
      "C:\\Users\\Rosem\\anaconda3\\envs\\cityscan_gpd_0.9\\lib\\site-packages\\geopandas\\_vectorized.py:786: DeprecationWarning: An exception was ignored while fetching the attribute `__array_interface__` from an object of type 'Polygon'.  With the exception of `AttributeError` NumPy will always raise this exception in the future.  Raise this deprecation warning to see the original exception. (Warning added NumPy 1.21)\n",
      "  out[:] = [\n",
      "C:\\Users\\Rosem\\anaconda3\\envs\\cityscan_gpd_0.9\\lib\\site-packages\\geopandas\\_vectorized.py:142: DeprecationWarning: An exception was ignored while fetching the attribute `__array_interface__` from an object of type 'Polygon'.  With the exception of `AttributeError` NumPy will always raise this exception in the future.  Raise this deprecation warning to see the original exception. (Warning added NumPy 1.21)\n",
      "  aout[:] = out\n"
     ]
    },
    {
     "name": "stdout",
     "output_type": "stream",
     "text": [
      "unary_union\n"
     ]
    },
    {
     "name": "stderr",
     "output_type": "stream",
     "text": [
      "C:\\Users\\Rosem\\anaconda3\\envs\\cityscan_gpd_0.9\\lib\\site-packages\\pandas\\core\\dtypes\\cast.py:1990: DeprecationWarning: An exception was ignored while fetching the attribute `__array_interface__` from an object of type 'Polygon'.  With the exception of `AttributeError` NumPy will always raise this exception in the future.  Raise this deprecation warning to see the original exception. (Warning added NumPy 1.21)\n",
      "  result[:] = values\n",
      "C:\\Users\\Rosem\\anaconda3\\envs\\cityscan_gpd_0.9\\lib\\site-packages\\pandas\\core\\dtypes\\cast.py:1990: DeprecationWarning: An exception was ignored while fetching the attribute `__array_interface__` from an object of type 'MultiPolygon'.  With the exception of `AttributeError` NumPy will always raise this exception in the future.  Raise this deprecation warning to see the original exception. (Warning added NumPy 1.21)\n",
      "  result[:] = values\n",
      "C:\\Users\\Rosem\\anaconda3\\envs\\cityscan_gpd_0.9\\lib\\site-packages\\geopandas\\_vectorized.py:142: DeprecationWarning: An exception was ignored while fetching the attribute `__array_interface__` from an object of type 'MultiPolygon'.  With the exception of `AttributeError` NumPy will always raise this exception in the future.  Raise this deprecation warning to see the original exception. (Warning added NumPy 1.21)\n",
      "  aout[:] = out\n",
      "C:\\Users\\Rosem\\anaconda3\\envs\\cityscan_gpd_0.9\\lib\\site-packages\\geopandas\\geoseries.py:207: DeprecationWarning: The default dtype for empty Series will be 'object' instead of 'float64' in a future version. Specify a dtype explicitly to silence this warning.\n",
      "  s = pd.Series(data, index=index, name=name, **kwargs)\n",
      "C:\\Users\\Rosem\\anaconda3\\envs\\cityscan_gpd_0.9\\lib\\site-packages\\geopandas\\_vectorized.py:142: DeprecationWarning: An exception was ignored while fetching the attribute `__array_interface__` from an object of type 'MultiPolygon'.  With the exception of `AttributeError` NumPy will always raise this exception in the future.  Raise this deprecation warning to see the original exception. (Warning added NumPy 1.21)\n",
      "  aout[:] = out\n",
      "C:\\Users\\Rosem\\anaconda3\\envs\\cityscan_gpd_0.9\\lib\\site-packages\\pandas\\core\\dtypes\\cast.py:1990: DeprecationWarning: An exception was ignored while fetching the attribute `__array_interface__` from an object of type 'Polygon'.  With the exception of `AttributeError` NumPy will always raise this exception in the future.  Raise this deprecation warning to see the original exception. (Warning added NumPy 1.21)\n",
      "  result[:] = values\n",
      "C:\\Users\\Rosem\\anaconda3\\envs\\cityscan_gpd_0.9\\lib\\site-packages\\geopandas\\_vectorized.py:142: DeprecationWarning: An exception was ignored while fetching the attribute `__array_interface__` from an object of type 'Polygon'.  With the exception of `AttributeError` NumPy will always raise this exception in the future.  Raise this deprecation warning to see the original exception. (Warning added NumPy 1.21)\n",
      "  aout[:] = out\n"
     ]
    },
    {
     "name": "stdout",
     "output_type": "stream",
     "text": [
      "2000\n",
      "merge all edges and nodes\n"
     ]
    },
    {
     "name": "stderr",
     "output_type": "stream",
     "text": [
      "C:\\Users\\Rosem\\anaconda3\\envs\\cityscan_gpd_0.9\\lib\\site-packages\\geopandas\\_vectorized.py:786: DeprecationWarning: An exception was ignored while fetching the attribute `__array_interface__` from an object of type 'Polygon'.  With the exception of `AttributeError` NumPy will always raise this exception in the future.  Raise this deprecation warning to see the original exception. (Warning added NumPy 1.21)\n",
      "  out[:] = [\n",
      "C:\\Users\\Rosem\\anaconda3\\envs\\cityscan_gpd_0.9\\lib\\site-packages\\geopandas\\_vectorized.py:142: DeprecationWarning: An exception was ignored while fetching the attribute `__array_interface__` from an object of type 'Polygon'.  With the exception of `AttributeError` NumPy will always raise this exception in the future.  Raise this deprecation warning to see the original exception. (Warning added NumPy 1.21)\n",
      "  aout[:] = out\n",
      "C:\\Users\\Rosem\\anaconda3\\envs\\cityscan_gpd_0.9\\lib\\site-packages\\geopandas\\_vectorized.py:786: DeprecationWarning: An exception was ignored while fetching the attribute `__array_interface__` from an object of type 'MultiPolygon'.  With the exception of `AttributeError` NumPy will always raise this exception in the future.  Raise this deprecation warning to see the original exception. (Warning added NumPy 1.21)\n",
      "  out[:] = [\n",
      "C:\\Users\\Rosem\\anaconda3\\envs\\cityscan_gpd_0.9\\lib\\site-packages\\geopandas\\_vectorized.py:142: DeprecationWarning: An exception was ignored while fetching the attribute `__array_interface__` from an object of type 'MultiPolygon'.  With the exception of `AttributeError` NumPy will always raise this exception in the future.  Raise this deprecation warning to see the original exception. (Warning added NumPy 1.21)\n",
      "  aout[:] = out\n"
     ]
    },
    {
     "name": "stdout",
     "output_type": "stream",
     "text": [
      "unary_union\n"
     ]
    },
    {
     "name": "stderr",
     "output_type": "stream",
     "text": [
      "C:\\Users\\Rosem\\anaconda3\\envs\\cityscan_gpd_0.9\\lib\\site-packages\\pandas\\core\\dtypes\\cast.py:1990: DeprecationWarning: An exception was ignored while fetching the attribute `__array_interface__` from an object of type 'Polygon'.  With the exception of `AttributeError` NumPy will always raise this exception in the future.  Raise this deprecation warning to see the original exception. (Warning added NumPy 1.21)\n",
      "  result[:] = values\n",
      "C:\\Users\\Rosem\\anaconda3\\envs\\cityscan_gpd_0.9\\lib\\site-packages\\pandas\\core\\dtypes\\cast.py:1990: DeprecationWarning: An exception was ignored while fetching the attribute `__array_interface__` from an object of type 'MultiPolygon'.  With the exception of `AttributeError` NumPy will always raise this exception in the future.  Raise this deprecation warning to see the original exception. (Warning added NumPy 1.21)\n",
      "  result[:] = values\n",
      "C:\\Users\\Rosem\\anaconda3\\envs\\cityscan_gpd_0.9\\lib\\site-packages\\geopandas\\geoseries.py:207: DeprecationWarning: The default dtype for empty Series will be 'object' instead of 'float64' in a future version. Specify a dtype explicitly to silence this warning.\n",
      "  s = pd.Series(data, index=index, name=name, **kwargs)\n",
      "C:\\Users\\Rosem\\anaconda3\\envs\\cityscan_gpd_0.9\\lib\\site-packages\\geopandas\\_vectorized.py:142: DeprecationWarning: An exception was ignored while fetching the attribute `__array_interface__` from an object of type 'MultiPolygon'.  With the exception of `AttributeError` NumPy will always raise this exception in the future.  Raise this deprecation warning to see the original exception. (Warning added NumPy 1.21)\n",
      "  aout[:] = out\n",
      "C:\\Users\\Rosem\\anaconda3\\envs\\cityscan_gpd_0.9\\lib\\site-packages\\pandas\\core\\dtypes\\cast.py:1990: DeprecationWarning: An exception was ignored while fetching the attribute `__array_interface__` from an object of type 'Polygon'.  With the exception of `AttributeError` NumPy will always raise this exception in the future.  Raise this deprecation warning to see the original exception. (Warning added NumPy 1.21)\n",
      "  result[:] = values\n",
      "C:\\Users\\Rosem\\anaconda3\\envs\\cityscan_gpd_0.9\\lib\\site-packages\\geopandas\\_vectorized.py:142: DeprecationWarning: An exception was ignored while fetching the attribute `__array_interface__` from an object of type 'Polygon'.  With the exception of `AttributeError` NumPy will always raise this exception in the future.  Raise this deprecation warning to see the original exception. (Warning added NumPy 1.21)\n",
      "  aout[:] = out\n"
     ]
    },
    {
     "name": "stdout",
     "output_type": "stream",
     "text": [
      "3000\n",
      "merge all edges and nodes\n"
     ]
    },
    {
     "name": "stderr",
     "output_type": "stream",
     "text": [
      "C:\\Users\\Rosem\\anaconda3\\envs\\cityscan_gpd_0.9\\lib\\site-packages\\geopandas\\_vectorized.py:786: DeprecationWarning: An exception was ignored while fetching the attribute `__array_interface__` from an object of type 'Polygon'.  With the exception of `AttributeError` NumPy will always raise this exception in the future.  Raise this deprecation warning to see the original exception. (Warning added NumPy 1.21)\n",
      "  out[:] = [\n",
      "C:\\Users\\Rosem\\anaconda3\\envs\\cityscan_gpd_0.9\\lib\\site-packages\\geopandas\\_vectorized.py:142: DeprecationWarning: An exception was ignored while fetching the attribute `__array_interface__` from an object of type 'Polygon'.  With the exception of `AttributeError` NumPy will always raise this exception in the future.  Raise this deprecation warning to see the original exception. (Warning added NumPy 1.21)\n",
      "  aout[:] = out\n",
      "C:\\Users\\Rosem\\anaconda3\\envs\\cityscan_gpd_0.9\\lib\\site-packages\\geopandas\\_vectorized.py:786: DeprecationWarning: An exception was ignored while fetching the attribute `__array_interface__` from an object of type 'MultiPolygon'.  With the exception of `AttributeError` NumPy will always raise this exception in the future.  Raise this deprecation warning to see the original exception. (Warning added NumPy 1.21)\n",
      "  out[:] = [\n",
      "C:\\Users\\Rosem\\anaconda3\\envs\\cityscan_gpd_0.9\\lib\\site-packages\\geopandas\\_vectorized.py:142: DeprecationWarning: An exception was ignored while fetching the attribute `__array_interface__` from an object of type 'MultiPolygon'.  With the exception of `AttributeError` NumPy will always raise this exception in the future.  Raise this deprecation warning to see the original exception. (Warning added NumPy 1.21)\n",
      "  aout[:] = out\n"
     ]
    },
    {
     "name": "stdout",
     "output_type": "stream",
     "text": [
      "unary_union\n"
     ]
    },
    {
     "name": "stderr",
     "output_type": "stream",
     "text": [
      "C:\\Users\\Rosem\\anaconda3\\envs\\cityscan_gpd_0.9\\lib\\site-packages\\pandas\\core\\dtypes\\cast.py:1990: DeprecationWarning: An exception was ignored while fetching the attribute `__array_interface__` from an object of type 'Polygon'.  With the exception of `AttributeError` NumPy will always raise this exception in the future.  Raise this deprecation warning to see the original exception. (Warning added NumPy 1.21)\n",
      "  result[:] = values\n",
      "C:\\Users\\Rosem\\anaconda3\\envs\\cityscan_gpd_0.9\\lib\\site-packages\\pandas\\core\\dtypes\\cast.py:1990: DeprecationWarning: An exception was ignored while fetching the attribute `__array_interface__` from an object of type 'MultiPolygon'.  With the exception of `AttributeError` NumPy will always raise this exception in the future.  Raise this deprecation warning to see the original exception. (Warning added NumPy 1.21)\n",
      "  result[:] = values\n",
      "C:\\Users\\Rosem\\anaconda3\\envs\\cityscan_gpd_0.9\\lib\\site-packages\\geopandas\\geoseries.py:207: DeprecationWarning: The default dtype for empty Series will be 'object' instead of 'float64' in a future version. Specify a dtype explicitly to silence this warning.\n",
      "  s = pd.Series(data, index=index, name=name, **kwargs)\n",
      "C:\\Users\\Rosem\\anaconda3\\envs\\cityscan_gpd_0.9\\lib\\site-packages\\geopandas\\_vectorized.py:142: DeprecationWarning: An exception was ignored while fetching the attribute `__array_interface__` from an object of type 'MultiPolygon'.  With the exception of `AttributeError` NumPy will always raise this exception in the future.  Raise this deprecation warning to see the original exception. (Warning added NumPy 1.21)\n",
      "  aout[:] = out\n",
      "C:\\Users\\Rosem\\anaconda3\\envs\\cityscan_gpd_0.9\\lib\\site-packages\\pandas\\core\\dtypes\\cast.py:1990: DeprecationWarning: An exception was ignored while fetching the attribute `__array_interface__` from an object of type 'Polygon'.  With the exception of `AttributeError` NumPy will always raise this exception in the future.  Raise this deprecation warning to see the original exception. (Warning added NumPy 1.21)\n",
      "  result[:] = values\n",
      "C:\\Users\\Rosem\\anaconda3\\envs\\cityscan_gpd_0.9\\lib\\site-packages\\geopandas\\_vectorized.py:142: DeprecationWarning: An exception was ignored while fetching the attribute `__array_interface__` from an object of type 'Polygon'.  With the exception of `AttributeError` NumPy will always raise this exception in the future.  Raise this deprecation warning to see the original exception. (Warning added NumPy 1.21)\n",
      "  aout[:] = out\n"
     ]
    }
   ],
   "source": [
    "isochrone_processing('health')"
   ]
  }
 ],
 "metadata": {
  "kernelspec": {
   "display_name": "cityscan_gpd_0.9",
   "language": "python",
   "name": "cityscan_gpd_0.9"
  },
  "language_info": {
   "codemirror_mode": {
    "name": "ipython",
    "version": 3
   },
   "file_extension": ".py",
   "mimetype": "text/x-python",
   "name": "python",
   "nbconvert_exporter": "python",
   "pygments_lexer": "ipython3",
   "version": "3.9.6"
  }
 },
 "nbformat": 4,
 "nbformat_minor": 4
}
