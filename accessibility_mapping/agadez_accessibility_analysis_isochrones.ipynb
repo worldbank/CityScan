{
 "cells": [
  {
   "cell_type": "markdown",
   "metadata": {},
   "source": [
    "# Accessibility Analysis\n",
    "\n",
    "- This analysis will measure accessibility to schools and hospitals\n",
    "- origins are derived from 100m grid blocks coming from WorldPop\n",
    "- the accessibility measure is the distance to the nearest facility in meters\n",
    "\n",
    "## Inputs:\n",
    "\n",
    "#### origins: derived from a WorldPOP raster using the 'Raster pixels to Points' tool in QGIS 3, and saved as a shapefile\n",
    "#### destinations: The combination of POIs from Overpass as points and centroids of polygons called through the GOSTNets OSMNX_POIs library.\n",
    "#### The admin AOI will be used to create a bounding box to download the road network via OSMNX\n"
   ]
  },
  {
   "cell_type": "markdown",
   "metadata": {},
   "source": [
    "### Import libraries"
   ]
  },
  {
   "cell_type": "code",
   "execution_count": 1,
   "metadata": {},
   "outputs": [],
   "source": [
    "%load_ext autoreload\n",
    "%autoreload 2"
   ]
  },
  {
   "cell_type": "code",
   "execution_count": 2,
   "metadata": {},
   "outputs": [],
   "source": [
    "import sys, os, inspect, logging, importlib\n",
    "\n",
    "import geopandas as gpd\n",
    "import pandas as pd\n",
    "import numpy as np\n",
    "import osmnx as ox\n",
    "import networkx as nx\n",
    "from shapely.ops import split, unary_union\n",
    "from shapely.geometry import box, Point\n",
    "\n",
    "import matplotlib.pyplot as plt"
   ]
  },
  {
   "cell_type": "code",
   "execution_count": 3,
   "metadata": {},
   "outputs": [],
   "source": [
    "# Get reference to GOSTNets\n",
    "sys.path.append(r'C:\\repos\\GOSTnets')\n",
    "import GOSTnets as gn"
   ]
  },
  {
   "cell_type": "code",
   "execution_count": 4,
   "metadata": {},
   "outputs": [],
   "source": [
    "from GOSTnets.fetch_pois import *"
   ]
  },
  {
   "cell_type": "markdown",
   "metadata": {},
   "source": [
    "### Define folders and files"
   ]
  },
  {
   "cell_type": "code",
   "execution_count": 5,
   "metadata": {},
   "outputs": [],
   "source": [
    "inputFolder = r'input_folder'\n",
    "# define output folder\n",
    "outputFolder = r'output_folder'\n",
    "# define road graph\n",
    "roadGraph = os.path.join(inputFolder, \"OSM_Roads.pickle\")"
   ]
  },
  {
   "cell_type": "code",
   "execution_count": 6,
   "metadata": {},
   "outputs": [],
   "source": [
    "city_name = 'agadez'"
   ]
  },
  {
   "cell_type": "code",
   "execution_count": 7,
   "metadata": {},
   "outputs": [],
   "source": [
    "origins_file = os.path.join(inputFolder, \"agadez_world_pop_pts.shp\")"
   ]
  },
  {
   "cell_type": "code",
   "execution_count": 8,
   "metadata": {},
   "outputs": [],
   "source": [
    "# import extent\n",
    "city_extent = gpd.read_file(\"../admin/Agadez_AOI_4326.shp\")"
   ]
  },
  {
   "cell_type": "code",
   "execution_count": 9,
   "metadata": {},
   "outputs": [
    {
     "name": "stdout",
     "output_type": "stream",
     "text": [
      "epsg:4326\n"
     ]
    }
   ],
   "source": [
    "# make sure crs is 4326\n",
    "print(city_extent.crs)"
   ]
  },
  {
   "cell_type": "code",
   "execution_count": 10,
   "metadata": {},
   "outputs": [],
   "source": [
    "extent = box(*city_extent.total_bounds)"
   ]
  },
  {
   "cell_type": "code",
   "execution_count": 11,
   "metadata": {},
   "outputs": [
    {
     "data": {
      "image/svg+xml": [
       "<svg xmlns=\"http://www.w3.org/2000/svg\" xmlns:xlink=\"http://www.w3.org/1999/xlink\" width=\"100.0\" height=\"100.0\" viewBox=\"7.938973735531764 16.919178117256994 0.11423814063575222 0.10766448743243018\" preserveAspectRatio=\"xMinYMin meet\"><g transform=\"matrix(1,0,0,-1,0,33.94602072194642)\"><path fill-rule=\"evenodd\" fill=\"#66cc99\" stroke=\"#555555\" stroke-width=\"0.002284762812715044\" opacity=\"0.6\" d=\"M 8.048980833921748,16.923409159502764 L 8.048980833921748,17.022611562443654 L 7.943204777777533,17.022611562443654 L 7.943204777777533,16.923409159502764 L 8.048980833921748,16.923409159502764 z\" /></g></svg>"
      ],
      "text/plain": [
       "<shapely.geometry.polygon.Polygon at 0x11f2b9dc588>"
      ]
     },
     "execution_count": 11,
     "metadata": {},
     "output_type": "execute_result"
    }
   ],
   "source": [
    "extent"
   ]
  },
  {
   "cell_type": "markdown",
   "metadata": {},
   "source": [
    "## We will extract OSM POIs"
   ]
  },
  {
   "cell_type": "code",
   "execution_count": 12,
   "metadata": {},
   "outputs": [],
   "source": [
    "school_tags = {'amenity':['school', 'kindergarten', 'university', 'college']}\n",
    "health_tags = {'amenity':['clinic', 'pharmacy', 'hospital', 'health']}"
   ]
  },
  {
   "cell_type": "code",
   "execution_count": 13,
   "metadata": {},
   "outputs": [],
   "source": [
    "tag_dictionary = {'schools': school_tags, 'health': health_tags}"
   ]
  },
  {
   "cell_type": "code",
   "execution_count": 14,
   "metadata": {},
   "outputs": [
    {
     "name": "stdout",
     "output_type": "stream",
     "text": [
      "schools\n",
      "health\n",
      "('schools', <GOSTnets.fetch_pois.OsmObject object at 0x0000011F2BCF5288>)\n"
     ]
    },
    {
     "name": "stderr",
     "output_type": "stream",
     "text": [
      "C:\\repos\\GOSTnets\\GOSTnets\\fetch_pois.py:75: UserWarning: Geometry is in a geographic CRS. Results from 'centroid' are likely incorrect. Use 'GeoSeries.to_crs()' to re-project geometries to a projected CRS before this operation.\n",
      "\n",
      "  polygons['geometry'] = polygons.centroid\n",
      "C:\\Users\\war-machine\\Anaconda2\\envs\\gostnets2\\lib\\site-packages\\geopandas\\geoseries.py:158: DeprecationWarning: The default dtype for empty Series will be 'object' instead of 'float64' in a future version. Specify a dtype explicitly to silence this warning.\n",
      "  s = pd.Series(data, index=index, name=name, **kwargs)\n",
      "C:\\repos\\GOSTnets\\GOSTnets\\fetch_pois.py:91: UserWarning: Geometry is in a geographic CRS. Results from 'buffer' are likely incorrect. Use 'GeoSeries.to_crs()' to re-project geometries to a projected CRS before this operation.\n",
      "\n",
      "  gdf['buffer'] = gdf['geometry'].buffer(buf_width)\n"
     ]
    },
    {
     "name": "stdout",
     "output_type": "stream",
     "text": [
      "('health', <GOSTnets.fetch_pois.OsmObject object at 0x0000011F2BCF5308>)\n"
     ]
    },
    {
     "name": "stderr",
     "output_type": "stream",
     "text": [
      "C:\\repos\\GOSTnets\\GOSTnets\\fetch_pois.py:75: UserWarning: Geometry is in a geographic CRS. Results from 'centroid' are likely incorrect. Use 'GeoSeries.to_crs()' to re-project geometries to a projected CRS before this operation.\n",
      "\n",
      "  polygons['geometry'] = polygons.centroid\n",
      "C:\\Users\\war-machine\\Anaconda2\\envs\\gostnets2\\lib\\site-packages\\geopandas\\geoseries.py:158: DeprecationWarning: The default dtype for empty Series will be 'object' instead of 'float64' in a future version. Specify a dtype explicitly to silence this warning.\n",
      "  s = pd.Series(data, index=index, name=name, **kwargs)\n",
      "C:\\repos\\GOSTnets\\GOSTnets\\fetch_pois.py:91: UserWarning: Geometry is in a geographic CRS. Results from 'buffer' are likely incorrect. Use 'GeoSeries.to_crs()' to re-project geometries to a projected CRS before this operation.\n",
      "\n",
      "  gdf['buffer'] = gdf['geometry'].buffer(buf_width)\n"
     ]
    }
   ],
   "source": [
    "queries = {}\n",
    "for tags in tag_dictionary.items():\n",
    "    print(tags[0])\n",
    "    # create the OsmObject\n",
    "    queries[tags[0]] = OsmObject(f'{tags[0]}', extent, tags[1])\n",
    "query_results_gpd_dict = {}\n",
    "for query in queries.items():\n",
    "    print(query)\n",
    "    query[1].GenerateOSMPOIs()\n",
    "    query[1].RemoveDupes(0.0005)\n",
    "    \n",
    "    query_results = query[1].df[['amenity','geometry','name']]\n",
    "    \n",
    "    # convert to GeoDataFrame\n",
    "    query_results_gpd = gpd.GeoDataFrame(query_results, crs = \"epsg:4326\", geometry = 'geometry')\n",
    "    query_results_gpd.to_file(outputFolder + f'/osm_infrastructure/osm_{query[0]}.shp')\n",
    "    \n",
    "    #save result in query_results_gpd_dict \n",
    "    query_results_gpd_dict[query[0]] = query_results_gpd"
   ]
  },
  {
   "cell_type": "markdown",
   "metadata": {},
   "source": [
    "## We will extract the Roads and convert into a graph"
   ]
  },
  {
   "cell_type": "code",
   "execution_count": 15,
   "metadata": {},
   "outputs": [
    {
     "name": "stderr",
     "output_type": "stream",
     "text": [
      "C:\\Users\\war-machine\\Anaconda2\\envs\\gostnets2\\lib\\site-packages\\ipykernel\\ipkernel.py:287: DeprecationWarning: `should_run_async` will not call `transform_cell` automatically in the future. Please pass the result to `transformed_cell` argument and any exception that happen during thetransform in `preprocessing_exc_tuple` in IPython 7.17 and above.\n",
      "  and should_run_async(code)\n"
     ]
    }
   ],
   "source": [
    "# This is the section where we can adjust the road speeds\n",
    "if not os.path.exists(roadGraph):\n",
    "    extent = box(*city_extent.total_bounds)\n",
    "    G = ox.graph_from_polygon(extent, network_type = 'drive_service')\n",
    "    # This is how time is calculated from the OSMNX length attribute\n",
    "    G = gn.convert_network_to_time(G, 'length')\n",
    "    # save the largerst subgraph\n",
    "   \n",
    "    # compatible with NetworkX 2.4\n",
    "    list_of_subgraphs = list(G.subgraph(c).copy() for c in nx.strongly_connected_components(G))\n",
    "    max_graph = None\n",
    "    max_edges = 0\n",
    "    for i in list_of_subgraphs:\n",
    "        if i.number_of_edges() > max_edges:\n",
    "            max_edges = i.number_of_edges()\n",
    "            max_graph = i\n",
    "\n",
    "    # set your graph equal to the largest sub-graph\n",
    "    G = max_graph\n",
    "\n",
    "    nx.write_gpickle(G, roadGraph)\n",
    "else:\n",
    "    G = nx.read_gpickle(roadGraph)    \n",
    "    G = gn.convert_network_to_time(G, 'length')"
   ]
  },
  {
   "cell_type": "markdown",
   "metadata": {},
   "source": [
    "### Inspect the road graph as a shapefile"
   ]
  },
  {
   "cell_type": "code",
   "execution_count": 16,
   "metadata": {},
   "outputs": [],
   "source": [
    "roads = gn.edge_gdf_from_graph(G)"
   ]
  },
  {
   "cell_type": "code",
   "execution_count": 17,
   "metadata": {},
   "outputs": [],
   "source": [
    "pd.set_option('display.max_columns', None)  "
   ]
  },
  {
   "cell_type": "code",
   "execution_count": 18,
   "metadata": {},
   "outputs": [
    {
     "data": {
      "text/html": [
       "<div>\n",
       "<style scoped>\n",
       "    .dataframe tbody tr th:only-of-type {\n",
       "        vertical-align: middle;\n",
       "    }\n",
       "\n",
       "    .dataframe tbody tr th {\n",
       "        vertical-align: top;\n",
       "    }\n",
       "\n",
       "    .dataframe thead th {\n",
       "        text-align: right;\n",
       "    }\n",
       "</style>\n",
       "<table border=\"1\" class=\"dataframe\">\n",
       "  <thead>\n",
       "    <tr style=\"text-align: right;\">\n",
       "      <th></th>\n",
       "      <th>stnode</th>\n",
       "      <th>endnode</th>\n",
       "      <th>time</th>\n",
       "      <th>length</th>\n",
       "      <th>name</th>\n",
       "      <th>mode</th>\n",
       "      <th>service</th>\n",
       "      <th>osmid</th>\n",
       "      <th>highway</th>\n",
       "      <th>ref</th>\n",
       "      <th>junction</th>\n",
       "      <th>bridge</th>\n",
       "      <th>oneway</th>\n",
       "      <th>oneway</th>\n",
       "      <th>geometry</th>\n",
       "    </tr>\n",
       "  </thead>\n",
       "  <tbody>\n",
       "    <tr>\n",
       "      <th>0</th>\n",
       "      <td>277869555</td>\n",
       "      <td>5494883319</td>\n",
       "      <td>2.81880</td>\n",
       "      <td>15.660</td>\n",
       "      <td>NaN</td>\n",
       "      <td>drive</td>\n",
       "      <td>NaN</td>\n",
       "      <td>571827965</td>\n",
       "      <td>residential</td>\n",
       "      <td>NaN</td>\n",
       "      <td>NaN</td>\n",
       "      <td>NaN</td>\n",
       "      <td>True</td>\n",
       "      <td>True</td>\n",
       "      <td>LINESTRING (7.96208 16.94402, 7.96214 16.94389)</td>\n",
       "    </tr>\n",
       "    <tr>\n",
       "      <th>1</th>\n",
       "      <td>277869555</td>\n",
       "      <td>2304927073</td>\n",
       "      <td>83.67768</td>\n",
       "      <td>464.876</td>\n",
       "      <td>NaN</td>\n",
       "      <td>drive</td>\n",
       "      <td>NaN</td>\n",
       "      <td>[221460464, 445817499]</td>\n",
       "      <td>residential</td>\n",
       "      <td>NaN</td>\n",
       "      <td>NaN</td>\n",
       "      <td>NaN</td>\n",
       "      <td>False</td>\n",
       "      <td>False</td>\n",
       "      <td>LINESTRING (7.96208 16.94402, 7.96170 16.94441...</td>\n",
       "    </tr>\n",
       "  </tbody>\n",
       "</table>\n",
       "</div>"
      ],
      "text/plain": [
       "      stnode     endnode      time   length name   mode service  \\\n",
       "0  277869555  5494883319   2.81880   15.660  NaN  drive     NaN   \n",
       "1  277869555  2304927073  83.67768  464.876  NaN  drive     NaN   \n",
       "\n",
       "                    osmid      highway  ref junction bridge  oneway  oneway  \\\n",
       "0               571827965  residential  NaN      NaN    NaN    True    True   \n",
       "1  [221460464, 445817499]  residential  NaN      NaN    NaN   False   False   \n",
       "\n",
       "                                            geometry  \n",
       "0    LINESTRING (7.96208 16.94402, 7.96214 16.94389)  \n",
       "1  LINESTRING (7.96208 16.94402, 7.96170 16.94441...  "
      ]
     },
     "execution_count": 18,
     "metadata": {},
     "output_type": "execute_result"
    }
   ],
   "source": [
    "roads[:2]"
   ]
  },
  {
   "cell_type": "code",
   "execution_count": 19,
   "metadata": {},
   "outputs": [
    {
     "name": "stderr",
     "output_type": "stream",
     "text": [
      "C:\\Users\\war-machine\\Anaconda2\\envs\\gostnets2\\lib\\site-packages\\ipykernel\\ipkernel.py:287: DeprecationWarning: `should_run_async` will not call `transform_cell` automatically in the future. Please pass the result to `transformed_cell` argument and any exception that happen during thetransform in `preprocessing_exc_tuple` in IPython 7.17 and above.\n",
      "  and should_run_async(code)\n"
     ]
    }
   ],
   "source": [
    "if not os.path.exists(outputFolder + '/OSM_Roads/OSM_Roads.shp'):\n",
    "    #roads['oneway'] = roads.oneway.astype(int)\n",
    "    roads = roads[['length','time','mode','geometry']]\n",
    "    roads.to_file(outputFolder + '/OSM_Roads')"
   ]
  },
  {
   "cell_type": "markdown",
   "metadata": {},
   "source": [
    "## Snap origins to the road graph using advanced snapping"
   ]
  },
  {
   "cell_type": "code",
   "execution_count": 20,
   "metadata": {},
   "outputs": [],
   "source": [
    "# insert origins\n",
    "origins = gpd.read_file(origins_file)"
   ]
  },
  {
   "cell_type": "code",
   "execution_count": 21,
   "metadata": {},
   "outputs": [
    {
     "data": {
      "text/html": [
       "<div>\n",
       "<style scoped>\n",
       "    .dataframe tbody tr th:only-of-type {\n",
       "        vertical-align: middle;\n",
       "    }\n",
       "\n",
       "    .dataframe tbody tr th {\n",
       "        vertical-align: top;\n",
       "    }\n",
       "\n",
       "    .dataframe thead th {\n",
       "        text-align: right;\n",
       "    }\n",
       "</style>\n",
       "<table border=\"1\" class=\"dataframe\">\n",
       "  <thead>\n",
       "    <tr style=\"text-align: right;\">\n",
       "      <th></th>\n",
       "      <th>VALUE</th>\n",
       "      <th>geometry</th>\n",
       "      <th>osmid</th>\n",
       "    </tr>\n",
       "  </thead>\n",
       "  <tbody>\n",
       "    <tr>\n",
       "      <th>0</th>\n",
       "      <td>9.319211</td>\n",
       "      <td>POINT (8.01583 17.01917)</td>\n",
       "      <td>1110000000</td>\n",
       "    </tr>\n",
       "    <tr>\n",
       "      <th>1</th>\n",
       "      <td>9.290095</td>\n",
       "      <td>POINT (8.01250 17.01833)</td>\n",
       "      <td>1110000001</td>\n",
       "    </tr>\n",
       "    <tr>\n",
       "      <th>2</th>\n",
       "      <td>13.684067</td>\n",
       "      <td>POINT (8.01583 17.01833)</td>\n",
       "      <td>1110000002</td>\n",
       "    </tr>\n",
       "    <tr>\n",
       "      <th>3</th>\n",
       "      <td>9.652495</td>\n",
       "      <td>POINT (8.01667 17.01833)</td>\n",
       "      <td>1110000003</td>\n",
       "    </tr>\n",
       "    <tr>\n",
       "      <th>4</th>\n",
       "      <td>9.302252</td>\n",
       "      <td>POINT (8.01417 17.01750)</td>\n",
       "      <td>1110000004</td>\n",
       "    </tr>\n",
       "    <tr>\n",
       "      <th>...</th>\n",
       "      <td>...</td>\n",
       "      <td>...</td>\n",
       "      <td>...</td>\n",
       "    </tr>\n",
       "    <tr>\n",
       "      <th>3920</th>\n",
       "      <td>11.794782</td>\n",
       "      <td>POINT (7.96667 16.92750)</td>\n",
       "      <td>1110003920</td>\n",
       "    </tr>\n",
       "    <tr>\n",
       "      <th>3921</th>\n",
       "      <td>19.526073</td>\n",
       "      <td>POINT (7.94667 16.92667)</td>\n",
       "      <td>1110003921</td>\n",
       "    </tr>\n",
       "    <tr>\n",
       "      <th>3922</th>\n",
       "      <td>17.730124</td>\n",
       "      <td>POINT (7.94750 16.92667)</td>\n",
       "      <td>1110003922</td>\n",
       "    </tr>\n",
       "    <tr>\n",
       "      <th>3923</th>\n",
       "      <td>9.599254</td>\n",
       "      <td>POINT (7.95083 16.92667)</td>\n",
       "      <td>1110003923</td>\n",
       "    </tr>\n",
       "    <tr>\n",
       "      <th>3924</th>\n",
       "      <td>11.173932</td>\n",
       "      <td>POINT (7.96250 16.92667)</td>\n",
       "      <td>1110003924</td>\n",
       "    </tr>\n",
       "  </tbody>\n",
       "</table>\n",
       "<p>3925 rows × 3 columns</p>\n",
       "</div>"
      ],
      "text/plain": [
       "          VALUE                  geometry       osmid\n",
       "0      9.319211  POINT (8.01583 17.01917)  1110000000\n",
       "1      9.290095  POINT (8.01250 17.01833)  1110000001\n",
       "2     13.684067  POINT (8.01583 17.01833)  1110000002\n",
       "3      9.652495  POINT (8.01667 17.01833)  1110000003\n",
       "4      9.302252  POINT (8.01417 17.01750)  1110000004\n",
       "...         ...                       ...         ...\n",
       "3920  11.794782  POINT (7.96667 16.92750)  1110003920\n",
       "3921  19.526073  POINT (7.94667 16.92667)  1110003921\n",
       "3922  17.730124  POINT (7.94750 16.92667)  1110003922\n",
       "3923   9.599254  POINT (7.95083 16.92667)  1110003923\n",
       "3924  11.173932  POINT (7.96250 16.92667)  1110003924\n",
       "\n",
       "[3925 rows x 3 columns]"
      ]
     },
     "execution_count": 21,
     "metadata": {},
     "output_type": "execute_result"
    }
   ],
   "source": [
    "origins['osmid'] = 1110000000 + origins.index\n",
    "origins"
   ]
  },
  {
   "cell_type": "code",
   "execution_count": 22,
   "metadata": {},
   "outputs": [
    {
     "name": "stderr",
     "output_type": "stream",
     "text": [
      "C:\\Users\\war-machine\\Anaconda2\\envs\\gostnets2\\lib\\site-packages\\ipykernel\\ipkernel.py:287: DeprecationWarning: `should_run_async` will not call `transform_cell` automatically in the future. Please pass the result to `transformed_cell` argument and any exception that happen during thetransform in `preprocessing_exc_tuple` in IPython 7.17 and above.\n",
      "  and should_run_async(code)\n"
     ]
    },
    {
     "data": {
      "text/plain": [
       "'+proj=utm +zone=32 +ellps=WGS84 +datum=WGS84 +units=m +no_defs'"
      ]
     },
     "execution_count": 22,
     "metadata": {},
     "output_type": "execute_result"
    }
   ],
   "source": [
    "# find graph utm zone\n",
    "G_utm = gn.utm_of_graph(G)\n",
    "G_utm"
   ]
  },
  {
   "cell_type": "code",
   "execution_count": 23,
   "metadata": {},
   "outputs": [
    {
     "name": "stdout",
     "output_type": "stream",
     "text": [
      "Building rtree...\n",
      "Projecting POIs to the network...\n",
      "Updating internal nodes...\n",
      "print _new_nodes\n",
      "                            geometry        highway       osmid\n",
      "0     POINT (395169.514 1881954.635)  projected_pap  9990000000\n",
      "1     POINT (394930.777 1881817.039)  projected_pap  9990000001\n",
      "2     POINT (395189.752 1881824.353)  projected_pap  9990000002\n",
      "3     POINT (395191.274 1881820.352)  projected_pap  9990000003\n",
      "4     POINT (395062.370 1881714.841)  projected_pap  9990000004\n",
      "...                              ...            ...         ...\n",
      "3258  POINT (390431.711 1872983.311)  projected_pap  9990003258\n",
      "3259  POINT (390621.940 1872941.486)  projected_pap  9990003259\n",
      "3260  POINT (390245.318 1872982.588)  projected_pap  9990003260\n",
      "3261  POINT (390211.684 1872979.382)  projected_pap  9990003261\n",
      "3262  POINT (390203.938 1872979.205)  projected_pap  9990003262\n",
      "\n",
      "[3263 rows x 3 columns]\n",
      "Updating internal edges...\n",
      "Updating external links...\n",
      "Remove edge projections greater than threshold: 29/3925 (0.74%)\n",
      "Missing 'from' nodes: 0\n",
      "Missing 'to' nodes: 0\n",
      "making a new graph from edges and nodes\n",
      "Wall time: 7.19 s\n"
     ]
    }
   ],
   "source": [
    "%%time\n",
    "G2, pois_meter, new_footway_edges = gn.advanced_snap(G, origins, u_tag = 'stnode', v_tag = 'endnode', node_key_col='osmid', poi_key_col='osmid', path=None, threshold=2000, measure_crs=G_utm)"
   ]
  },
  {
   "cell_type": "code",
   "execution_count": 24,
   "metadata": {},
   "outputs": [
    {
     "name": "stderr",
     "output_type": "stream",
     "text": [
      "C:\\Users\\war-machine\\Anaconda2\\envs\\gostnets2\\lib\\site-packages\\ipykernel\\ipkernel.py:287: DeprecationWarning: `should_run_async` will not call `transform_cell` automatically in the future. Please pass the result to `transformed_cell` argument and any exception that happen during thetransform in `preprocessing_exc_tuple` in IPython 7.17 and above.\n",
      "  and should_run_async(code)\n"
     ]
    }
   ],
   "source": [
    "originNodes_list = list(origins['osmid'])"
   ]
  },
  {
   "cell_type": "markdown",
   "metadata": {},
   "source": [
    "### Snap destinations to the road graph"
   ]
  },
  {
   "cell_type": "code",
   "execution_count": 25,
   "metadata": {},
   "outputs": [],
   "source": [
    "snapped_destinations_dict = {}\n",
    "for results_gpd in query_results_gpd_dict.items():\n",
    "    snapped_destinations = gn.pandana_snap(G, query_results_gpd_dict[results_gpd[0]])\n",
    "    snapped_destinations_dict[results_gpd[0]] = list(snapped_destinations['NN'].unique())"
   ]
  },
  {
   "cell_type": "code",
   "execution_count": 26,
   "metadata": {},
   "outputs": [
    {
     "data": {
      "text/plain": [
       "{'schools': [2305699803,\n",
       "  2286189057,\n",
       "  2285800350,\n",
       "  2285152983,\n",
       "  2304927070,\n",
       "  2285800151,\n",
       "  5171069369,\n",
       "  2305151942,\n",
       "  2304905388,\n",
       "  708526075,\n",
       "  4425787610,\n",
       "  2285800681,\n",
       "  2285799557,\n",
       "  2305699825,\n",
       "  2305700023,\n",
       "  2305038646,\n",
       "  2092447300,\n",
       "  2092447263,\n",
       "  2304905541,\n",
       "  2092447229,\n",
       "  2304870681,\n",
       "  2305038734,\n",
       "  5171164968,\n",
       "  2306530707,\n",
       "  2305011164,\n",
       "  2285867367,\n",
       "  2609829606,\n",
       "  2304870679,\n",
       "  4431599533,\n",
       "  3167149086,\n",
       "  708526088,\n",
       "  2051181244,\n",
       "  2285801617,\n",
       "  2304905528,\n",
       "  2304947733,\n",
       "  4752556739,\n",
       "  2305699635,\n",
       "  2285800517,\n",
       "  2304905519,\n",
       "  7415835139],\n",
       " 'health': [2285149440,\n",
       "  2285801753,\n",
       "  2285867396,\n",
       "  4418911600,\n",
       "  2305699284,\n",
       "  2051172760,\n",
       "  2051172693,\n",
       "  2285149452,\n",
       "  2609829597,\n",
       "  2285799664,\n",
       "  2305038672]}"
      ]
     },
     "execution_count": 26,
     "metadata": {},
     "output_type": "execute_result"
    }
   ],
   "source": [
    "snapped_destinations_dict"
   ]
  },
  {
   "cell_type": "markdown",
   "metadata": {},
   "source": [
    "## Isochrones processing"
   ]
  },
  {
   "cell_type": "code",
   "execution_count": 27,
   "metadata": {},
   "outputs": [
    {
     "name": "stdout",
     "output_type": "stream",
     "text": [
      "800\n",
      "merge all edges and nodes\n",
      "unary_union\n",
      "1600\n",
      "merge all edges and nodes\n",
      "unary_union\n",
      "3200\n",
      "merge all edges and nodes\n",
      "unary_union\n",
      "800\n",
      "merge all edges and nodes\n",
      "unary_union\n",
      "1600\n",
      "merge all edges and nodes\n",
      "unary_union\n",
      "3200\n",
      "merge all edges and nodes\n",
      "unary_union\n"
     ]
    }
   ],
   "source": [
    "threshold_list = [800,1600,3200]\n",
    "for destinations in snapped_destinations_dict.items():\n",
    "    #perform isochrones processing\n",
    "    for threshold in threshold_list:\n",
    "        print(threshold)\n",
    "        iso_gdf = gn.make_iso_polys(G2, destinations[1], [threshold], edge_buff=300, node_buff=300, weight = 'length', measure_crs = G_utm)\n",
    "        dissolved = iso_gdf.dissolve(by=\"thresh\")\n",
    "        gdf_out = dissolved.explode()\n",
    "        gdf_out2 = gdf_out.reset_index()\n",
    "        # save file\n",
    "        gdf_out2.to_file(outputFolder + f'/{city_name}_AOI_accessibility_{destinations[0]}_isochrones_{threshold}m.shp')\n"
   ]
  }
 ],
 "metadata": {
  "kernelspec": {
   "display_name": "Python 3",
   "language": "python",
   "name": "python3"
  },
  "language_info": {
   "codemirror_mode": {
    "name": "ipython",
    "version": 3
   },
   "file_extension": ".py",
   "mimetype": "text/x-python",
   "name": "python",
   "nbconvert_exporter": "python",
   "pygments_lexer": "ipython3",
   "version": "3.7.7"
  }
 },
 "nbformat": 4,
 "nbformat_minor": 2
}
