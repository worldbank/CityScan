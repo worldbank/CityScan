{
 "cells": [
  {
   "cell_type": "code",
   "execution_count": 1,
   "metadata": {},
   "outputs": [],
   "source": [
    "%matplotlib inline \n",
    "import requests\n",
    "import pandas as pd\n",
    "import json\n",
    "import pickle\n",
    "import geopandas as gpd\n",
    "import matplotlib \n",
    "import matplotlib.pyplot as plt\n",
    "from pyquadkey2 import quadkey\n",
    "from pyquadkey2.quadkey import QuadKey\n",
    "from pyquadkey2.quadkey import TileAnchor, QuadKey\n",
    "from shapely.geometry import Point, LineString, Polygon"
   ]
  },
  {
   "cell_type": "markdown",
   "metadata": {},
   "source": [
    "Requirments: \n",
    "\n",
    "- #pip install pyquadkey2\n",
    "\n",
    "Resources: \n",
    "- Description of Quadkeys https://docs.microsoft.com/en-us/bingmaps/articles/bing-maps-tile-system \n",
    "- Library to work with lat lon and QuadKeys https://github.com/CartoDB/python-quadkey \n",
    "- Methodlogy paper https://arxiv.org/ftp/arxiv/papers/2104/2104.07761.pdf \n",
    "- OSM page for getting the tiles based on coordinate system https://wiki.openstreetmap.org/wiki/Slippy_map_tilenames#Lon..2Flat._to_tile_numbers_2\n",
    "- Python library documentation \n",
    "https://docs.muetsch.io/pyquadkey2/ \n",
    "- The RWI data is available here: https://data.humdata.org/dataset/relative-wealth-index choose the data that includes the Quadkeys. the data will be downloaded as bulk and includes all csv's for the RWI data.\n",
    "\n",
    "\n",
    "QuadKeys: \n",
    "- the length of the quad key is the level of detail it refers to (longest = more granular level) \n",
    "- parent -child relationship: tile 2 is the perant of tile 20 \n",
    "\n",
    "Our data is in zoom level 14, which is 9.555 meters/pixel resolution \n",
    "\n",
    "Workflow: \n",
    "\n",
    "- Use FB data to populate the list of Quadkeys (QK)\n",
    "- Use the pyquadkey2 library to get four cooordinates for each QK: SW, NE, SE, NW \n",
    "- Use each for cooridnate set to create the tile data \n",
    "- Tranform into polygons, merge back with the FB data: this will result in a polygon type shapefile, each row represents one QK for a point \n",
    "- Export data "
   ]
  },
  {
   "cell_type": "markdown",
   "metadata": {},
   "source": [
    "\n",
    "* 2.4Km2 is aproximatly 5.76 km2 area \n",
    "* looking into the QuadKeys it seems as though the nearest tile size is 5982842.156102487 Square meteres\n",
    "* this measurment is closest to tiles sized 2.447 KM (length and width)\n",
    "* Coordinate system is WGS 84 datum. \n",
    "* FB data uses level 14 data, each Quadkey is reprsented by 14 digits "
   ]
  },
  {
   "cell_type": "markdown",
   "metadata": {},
   "source": [
    "## Approach: \n",
    "Use data from FB which already includes QuadKeys\n",
    "\n",
    "\n"
   ]
  },
  {
   "cell_type": "markdown",
   "metadata": {},
   "source": [
    "# Plug-in FB data + AOI "
   ]
  },
  {
   "cell_type": "code",
   "execution_count": 2,
   "metadata": {},
   "outputs": [],
   "source": [
    "# AOI Kolkata\n",
    "aoi = gpd.read_file('admin/rubavu_AOI_4326.shp')"
   ]
  },
  {
   "cell_type": "code",
   "execution_count": 3,
   "metadata": {},
   "outputs": [
    {
     "data": {
      "text/html": [
       "<div>\n",
       "<style scoped>\n",
       "    .dataframe tbody tr th:only-of-type {\n",
       "        vertical-align: middle;\n",
       "    }\n",
       "\n",
       "    .dataframe tbody tr th {\n",
       "        vertical-align: top;\n",
       "    }\n",
       "\n",
       "    .dataframe thead th {\n",
       "        text-align: right;\n",
       "    }\n",
       "</style>\n",
       "<table border=\"1\" class=\"dataframe\">\n",
       "  <thead>\n",
       "    <tr style=\"text-align: right;\">\n",
       "      <th></th>\n",
       "      <th>quadkey</th>\n",
       "      <th>latitude</th>\n",
       "      <th>longitude</th>\n",
       "      <th>rwi</th>\n",
       "      <th>error</th>\n",
       "    </tr>\n",
       "  </thead>\n",
       "  <tbody>\n",
       "    <tr>\n",
       "      <th>0</th>\n",
       "      <td>30010103012123</td>\n",
       "      <td>-1.658704</td>\n",
       "      <td>30.003662</td>\n",
       "      <td>-0.378</td>\n",
       "      <td>0.393</td>\n",
       "    </tr>\n",
       "    <tr>\n",
       "      <th>1</th>\n",
       "      <td>30010101233303</td>\n",
       "      <td>-1.351193</td>\n",
       "      <td>30.179443</td>\n",
       "      <td>0.385</td>\n",
       "      <td>0.321</td>\n",
       "    </tr>\n",
       "    <tr>\n",
       "      <th>2</th>\n",
       "      <td>30010101223313</td>\n",
       "      <td>-1.351193</td>\n",
       "      <td>29.871826</td>\n",
       "      <td>-0.209</td>\n",
       "      <td>0.297</td>\n",
       "    </tr>\n",
       "    <tr>\n",
       "      <th>3</th>\n",
       "      <td>30010102320130</td>\n",
       "      <td>-2.515061</td>\n",
       "      <td>28.970947</td>\n",
       "      <td>0.457</td>\n",
       "      <td>0.324</td>\n",
       "    </tr>\n",
       "    <tr>\n",
       "      <th>4</th>\n",
       "      <td>30010103310023</td>\n",
       "      <td>-2.185749</td>\n",
       "      <td>30.618897</td>\n",
       "      <td>-0.281</td>\n",
       "      <td>0.290</td>\n",
       "    </tr>\n",
       "  </tbody>\n",
       "</table>\n",
       "</div>"
      ],
      "text/plain": [
       "          quadkey  latitude  longitude    rwi  error\n",
       "0  30010103012123 -1.658704  30.003662 -0.378  0.393\n",
       "1  30010101233303 -1.351193  30.179443  0.385  0.321\n",
       "2  30010101223313 -1.351193  29.871826 -0.209  0.297\n",
       "3  30010102320130 -2.515061  28.970947  0.457  0.324\n",
       "4  30010103310023 -2.185749  30.618897 -0.281  0.290"
      ]
     },
     "execution_count": 3,
     "metadata": {},
     "output_type": "execute_result"
    }
   ],
   "source": [
    "# fb data for India \n",
    "FB_QKdata = pd.read_csv('data/RWA_relative_wealth_index.csv')\n",
    "FB_QKdata.head()"
   ]
  },
  {
   "cell_type": "code",
   "execution_count": 4,
   "metadata": {},
   "outputs": [],
   "source": [
    "# change quadkey format to str\n",
    "FB_QKdata[\"quadkey1\"] = FB_QKdata[\"quadkey\"].astype('str')"
   ]
  },
  {
   "cell_type": "code",
   "execution_count": 5,
   "metadata": {},
   "outputs": [
    {
     "data": {
      "text/plain": [
       "quadkey        int64\n",
       "latitude     float64\n",
       "longitude    float64\n",
       "rwi          float64\n",
       "error        float64\n",
       "quadkey1      object\n",
       "dtype: object"
      ]
     },
     "execution_count": 5,
     "metadata": {},
     "output_type": "execute_result"
    }
   ],
   "source": [
    "FB_QKdata.dtypes"
   ]
  },
  {
   "cell_type": "code",
   "execution_count": 6,
   "metadata": {},
   "outputs": [],
   "source": [
    "# fill 13 digit quadkeys with 0 before the QK\n",
    "FB_QKdata['quadkey1'] = FB_QKdata['quadkey1'].apply(lambda x: x.zfill(14))"
   ]
  },
  {
   "cell_type": "code",
   "execution_count": 7,
   "metadata": {},
   "outputs": [],
   "source": [
    "# take column with quadkeys and transform it to list and then to QuadKey object\n",
    "fb_qk = FB_QKdata[\"quadkey1\"].tolist()\n",
    "FB_QK = [QuadKey(i) for i in fb_qk]"
   ]
  },
  {
   "cell_type": "code",
   "execution_count": 8,
   "metadata": {},
   "outputs": [],
   "source": [
    "# locate the four corners of QuadKey tiles\n",
    "SW = []\n",
    "NE = []\n",
    "SE = []\n",
    "NW = []\n",
    "\n",
    "for i in FB_QK:\n",
    "    #south west point\n",
    "    sw = i.to_geo(anchor=TileAnchor.ANCHOR_SW)\n",
    "    SW.append(sw) \n",
    "    #north west point\n",
    "    ne = i.to_geo(anchor=TileAnchor.ANCHOR_NE)\n",
    "    NE.append(ne) \n",
    "    #south east point \n",
    "    se = i.to_geo(anchor=TileAnchor.ANCHOR_SE)\n",
    "    SE.append(se)\n",
    "    #north west point \n",
    "    nw = i.to_geo(anchor=TileAnchor.ANCHOR_NW)\n",
    "    NW.append(nw)"
   ]
  },
  {
   "cell_type": "code",
   "execution_count": 9,
   "metadata": {},
   "outputs": [
    {
     "data": {
      "text/plain": [
       "(-1.252342, 30.498047)"
      ]
     },
     "execution_count": 9,
     "metadata": {},
     "output_type": "execute_result"
    }
   ],
   "source": [
    "# check intermediate output\n",
    "SW[5]"
   ]
  },
  {
   "cell_type": "code",
   "execution_count": 10,
   "metadata": {},
   "outputs": [],
   "source": [
    "# flip lat and lon for tile corner coordinates\n",
    "swFinal = [(i[1], i[0]) for i in SW]\n",
    "neFinal = [(i[1], i[0]) for i in NE]\n",
    "seFinal = [(i[1], i[0]) for i in SE]\n",
    "nwFinal = [(i[1], i[0]) for i in NW]"
   ]
  },
  {
   "cell_type": "code",
   "execution_count": 11,
   "metadata": {},
   "outputs": [
    {
     "name": "stdout",
     "output_type": "stream",
     "text": [
      "[(30.168457, -1.34021), (29.86084, -1.34021)]\n",
      "[(30.19043, -1.362176), (29.882813, -1.362176)]\n",
      "[(30.19043, -1.34021), (29.882813, -1.34021)]\n",
      "[(30.168457, -1.362176), (29.86084, -1.362176)]\n"
     ]
    }
   ],
   "source": [
    "# check intermediate output\n",
    "print(nwFinal[1:3])\n",
    "print(seFinal[1:3])\n",
    "print(neFinal[1:3])\n",
    "print(swFinal[1:3])"
   ]
  },
  {
   "cell_type": "code",
   "execution_count": 12,
   "metadata": {},
   "outputs": [
    {
     "data": {
      "text/plain": [
       "(-1.362176, 30.168457)"
      ]
     },
     "execution_count": 12,
     "metadata": {},
     "output_type": "execute_result"
    }
   ],
   "source": [
    "# check the lat and lon are indeed flipped\n",
    "SW[1]"
   ]
  },
  {
   "cell_type": "code",
   "execution_count": 13,
   "metadata": {},
   "outputs": [],
   "source": [
    "# generate Polygon object based on four corner coordinates\n",
    "tiledata = [Polygon([nw, sw, se, ne]) for sw, ne, se, nw in zip(swFinal, neFinal, seFinal, nwFinal)]"
   ]
  },
  {
   "cell_type": "code",
   "execution_count": 14,
   "metadata": {},
   "outputs": [],
   "source": [
    "# create GeoDataFrame with Polygons\n",
    "crs = (\"epsg:4326\")\n",
    "gdf = gpd.GeoDataFrame(geometry = tiledata, crs = crs)"
   ]
  },
  {
   "cell_type": "code",
   "execution_count": 15,
   "metadata": {},
   "outputs": [
    {
     "data": {
      "text/plain": [
       "<Geographic 2D CRS: EPSG:4326>\n",
       "Name: WGS 84\n",
       "Axis Info [ellipsoidal]:\n",
       "- Lat[north]: Geodetic latitude (degree)\n",
       "- Lon[east]: Geodetic longitude (degree)\n",
       "Area of Use:\n",
       "- name: World.\n",
       "- bounds: (-180.0, -90.0, 180.0, 90.0)\n",
       "Datum: World Geodetic System 1984 ensemble\n",
       "- Ellipsoid: WGS 84\n",
       "- Prime Meridian: Greenwich"
      ]
     },
     "execution_count": 15,
     "metadata": {},
     "output_type": "execute_result"
    }
   ],
   "source": [
    "# make sure aoi crs is the same\n",
    "aoi.crs"
   ]
  },
  {
   "cell_type": "code",
   "execution_count": 16,
   "metadata": {},
   "outputs": [
    {
     "data": {
      "text/plain": [
       "<AxesSubplot:>"
      ]
     },
     "execution_count": 16,
     "metadata": {},
     "output_type": "execute_result"
    },
    {
     "data": {
      "image/png": "[encoded data removed]",
      "text/plain": [
       "<Figure size 1440x1080 with 1 Axes>"
      ]
     },
     "metadata": {
      "needs_background": "light"
     },
     "output_type": "display_data"
    }
   ],
   "source": [
    "# plot country and aoi\n",
    "base = gdf.plot(color = 'red', figsize = (20, 15), alpha = 0.3)\n",
    "aoi.plot(ax = base, color = 'blue')"
   ]
  },
  {
   "cell_type": "code",
   "execution_count": 17,
   "metadata": {},
   "outputs": [
    {
     "data": {
      "text/html": [
       "<div>\n",
       "<style scoped>\n",
       "    .dataframe tbody tr th:only-of-type {\n",
       "        vertical-align: middle;\n",
       "    }\n",
       "\n",
       "    .dataframe tbody tr th {\n",
       "        vertical-align: top;\n",
       "    }\n",
       "\n",
       "    .dataframe thead th {\n",
       "        text-align: right;\n",
       "    }\n",
       "</style>\n",
       "<table border=\"1\" class=\"dataframe\">\n",
       "  <thead>\n",
       "    <tr style=\"text-align: right;\">\n",
       "      <th></th>\n",
       "      <th>geometry</th>\n",
       "      <th>quadkey</th>\n",
       "    </tr>\n",
       "  </thead>\n",
       "  <tbody>\n",
       "    <tr>\n",
       "      <th>0</th>\n",
       "      <td>POLYGON ((29.99268 -1.64772, 29.99268 -1.66969...</td>\n",
       "      <td>30010103012123</td>\n",
       "    </tr>\n",
       "    <tr>\n",
       "      <th>1</th>\n",
       "      <td>POLYGON ((30.16846 -1.34021, 30.16846 -1.36218...</td>\n",
       "      <td>30010101233303</td>\n",
       "    </tr>\n",
       "    <tr>\n",
       "      <th>2</th>\n",
       "      <td>POLYGON ((29.86084 -1.34021, 29.86084 -1.36218...</td>\n",
       "      <td>30010101223313</td>\n",
       "    </tr>\n",
       "    <tr>\n",
       "      <th>3</th>\n",
       "      <td>POLYGON ((28.95996 -2.50408, 28.95996 -2.52604...</td>\n",
       "      <td>30010102320130</td>\n",
       "    </tr>\n",
       "    <tr>\n",
       "      <th>4</th>\n",
       "      <td>POLYGON ((30.60791 -2.17477, 30.60791 -2.19673...</td>\n",
       "      <td>30010103310023</td>\n",
       "    </tr>\n",
       "    <tr>\n",
       "      <th>...</th>\n",
       "      <td>...</td>\n",
       "      <td>...</td>\n",
       "    </tr>\n",
       "    <tr>\n",
       "      <th>3710</th>\n",
       "      <td>POLYGON ((29.99268 -1.91127, 29.99268 -1.93323...</td>\n",
       "      <td>30010103030323</td>\n",
       "    </tr>\n",
       "    <tr>\n",
       "      <th>3711</th>\n",
       "      <td>POLYGON ((30.34424 -2.26260, 30.34424 -2.28455...</td>\n",
       "      <td>30010103300323</td>\n",
       "    </tr>\n",
       "    <tr>\n",
       "      <th>3712</th>\n",
       "      <td>POLYGON ((30.23438 -2.19673, 30.23438 -2.21868...</td>\n",
       "      <td>30010103300200</td>\n",
       "    </tr>\n",
       "    <tr>\n",
       "      <th>3713</th>\n",
       "      <td>POLYGON ((30.67383 -2.21868, 30.67383 -2.24064...</td>\n",
       "      <td>30010103310302</td>\n",
       "    </tr>\n",
       "    <tr>\n",
       "      <th>3714</th>\n",
       "      <td>POLYGON ((29.83887 -2.30651, 29.83887 -2.32846...</td>\n",
       "      <td>30010103203112</td>\n",
       "    </tr>\n",
       "  </tbody>\n",
       "</table>\n",
       "<p>3715 rows × 2 columns</p>\n",
       "</div>"
      ],
      "text/plain": [
       "                                               geometry         quadkey\n",
       "0     POLYGON ((29.99268 -1.64772, 29.99268 -1.66969...  30010103012123\n",
       "1     POLYGON ((30.16846 -1.34021, 30.16846 -1.36218...  30010101233303\n",
       "2     POLYGON ((29.86084 -1.34021, 29.86084 -1.36218...  30010101223313\n",
       "3     POLYGON ((28.95996 -2.50408, 28.95996 -2.52604...  30010102320130\n",
       "4     POLYGON ((30.60791 -2.17477, 30.60791 -2.19673...  30010103310023\n",
       "...                                                 ...             ...\n",
       "3710  POLYGON ((29.99268 -1.91127, 29.99268 -1.93323...  30010103030323\n",
       "3711  POLYGON ((30.34424 -2.26260, 30.34424 -2.28455...  30010103300323\n",
       "3712  POLYGON ((30.23438 -2.19673, 30.23438 -2.21868...  30010103300200\n",
       "3713  POLYGON ((30.67383 -2.21868, 30.67383 -2.24064...  30010103310302\n",
       "3714  POLYGON ((29.83887 -2.30651, 29.83887 -2.32846...  30010103203112\n",
       "\n",
       "[3715 rows x 2 columns]"
      ]
     },
     "execution_count": 17,
     "metadata": {},
     "output_type": "execute_result"
    }
   ],
   "source": [
    "# add QuadKeys to gdf\n",
    "gdf['quadkey'] = FB_QK\n",
    "gdf"
   ]
  },
  {
   "cell_type": "code",
   "execution_count": 18,
   "metadata": {},
   "outputs": [
    {
     "data": {
      "text/html": [
       "<div>\n",
       "<style scoped>\n",
       "    .dataframe tbody tr th:only-of-type {\n",
       "        vertical-align: middle;\n",
       "    }\n",
       "\n",
       "    .dataframe tbody tr th {\n",
       "        vertical-align: top;\n",
       "    }\n",
       "\n",
       "    .dataframe thead th {\n",
       "        text-align: right;\n",
       "    }\n",
       "</style>\n",
       "<table border=\"1\" class=\"dataframe\">\n",
       "  <thead>\n",
       "    <tr style=\"text-align: right;\">\n",
       "      <th></th>\n",
       "      <th>quadkey</th>\n",
       "      <th>latitude</th>\n",
       "      <th>longitude</th>\n",
       "      <th>rwi</th>\n",
       "      <th>error</th>\n",
       "      <th>quadkey1</th>\n",
       "    </tr>\n",
       "  </thead>\n",
       "  <tbody>\n",
       "    <tr>\n",
       "      <th>0</th>\n",
       "      <td>30010103012123</td>\n",
       "      <td>-1.658704</td>\n",
       "      <td>30.003662</td>\n",
       "      <td>-0.378</td>\n",
       "      <td>0.393</td>\n",
       "      <td>30010103012123</td>\n",
       "    </tr>\n",
       "    <tr>\n",
       "      <th>1</th>\n",
       "      <td>30010101233303</td>\n",
       "      <td>-1.351193</td>\n",
       "      <td>30.179443</td>\n",
       "      <td>0.385</td>\n",
       "      <td>0.321</td>\n",
       "      <td>30010101233303</td>\n",
       "    </tr>\n",
       "    <tr>\n",
       "      <th>2</th>\n",
       "      <td>30010101223313</td>\n",
       "      <td>-1.351193</td>\n",
       "      <td>29.871826</td>\n",
       "      <td>-0.209</td>\n",
       "      <td>0.297</td>\n",
       "      <td>30010101223313</td>\n",
       "    </tr>\n",
       "    <tr>\n",
       "      <th>3</th>\n",
       "      <td>30010102320130</td>\n",
       "      <td>-2.515061</td>\n",
       "      <td>28.970947</td>\n",
       "      <td>0.457</td>\n",
       "      <td>0.324</td>\n",
       "      <td>30010102320130</td>\n",
       "    </tr>\n",
       "    <tr>\n",
       "      <th>4</th>\n",
       "      <td>30010103310023</td>\n",
       "      <td>-2.185749</td>\n",
       "      <td>30.618897</td>\n",
       "      <td>-0.281</td>\n",
       "      <td>0.290</td>\n",
       "      <td>30010103310023</td>\n",
       "    </tr>\n",
       "    <tr>\n",
       "      <th>...</th>\n",
       "      <td>...</td>\n",
       "      <td>...</td>\n",
       "      <td>...</td>\n",
       "      <td>...</td>\n",
       "      <td>...</td>\n",
       "      <td>...</td>\n",
       "    </tr>\n",
       "    <tr>\n",
       "      <th>3710</th>\n",
       "      <td>30010103030323</td>\n",
       "      <td>-1.922247</td>\n",
       "      <td>30.003662</td>\n",
       "      <td>0.494</td>\n",
       "      <td>0.384</td>\n",
       "      <td>30010103030323</td>\n",
       "    </tr>\n",
       "    <tr>\n",
       "      <th>3711</th>\n",
       "      <td>30010103300323</td>\n",
       "      <td>-2.273573</td>\n",
       "      <td>30.355225</td>\n",
       "      <td>-0.249</td>\n",
       "      <td>0.291</td>\n",
       "      <td>30010103300323</td>\n",
       "    </tr>\n",
       "    <tr>\n",
       "      <th>3712</th>\n",
       "      <td>30010103300200</td>\n",
       "      <td>-2.207705</td>\n",
       "      <td>30.245361</td>\n",
       "      <td>0.640</td>\n",
       "      <td>0.386</td>\n",
       "      <td>30010103300200</td>\n",
       "    </tr>\n",
       "    <tr>\n",
       "      <th>3713</th>\n",
       "      <td>30010103310302</td>\n",
       "      <td>-2.229662</td>\n",
       "      <td>30.684815</td>\n",
       "      <td>-0.145</td>\n",
       "      <td>0.320</td>\n",
       "      <td>30010103310302</td>\n",
       "    </tr>\n",
       "    <tr>\n",
       "      <th>3714</th>\n",
       "      <td>30010103203112</td>\n",
       "      <td>-2.317483</td>\n",
       "      <td>29.849853</td>\n",
       "      <td>-0.198</td>\n",
       "      <td>0.315</td>\n",
       "      <td>30010103203112</td>\n",
       "    </tr>\n",
       "  </tbody>\n",
       "</table>\n",
       "<p>3715 rows × 6 columns</p>\n",
       "</div>"
      ],
      "text/plain": [
       "             quadkey  latitude  longitude    rwi  error        quadkey1\n",
       "0     30010103012123 -1.658704  30.003662 -0.378  0.393  30010103012123\n",
       "1     30010101233303 -1.351193  30.179443  0.385  0.321  30010101233303\n",
       "2     30010101223313 -1.351193  29.871826 -0.209  0.297  30010101223313\n",
       "3     30010102320130 -2.515061  28.970947  0.457  0.324  30010102320130\n",
       "4     30010103310023 -2.185749  30.618897 -0.281  0.290  30010103310023\n",
       "...              ...       ...        ...    ...    ...             ...\n",
       "3710  30010103030323 -1.922247  30.003662  0.494  0.384  30010103030323\n",
       "3711  30010103300323 -2.273573  30.355225 -0.249  0.291  30010103300323\n",
       "3712  30010103300200 -2.207705  30.245361  0.640  0.386  30010103300200\n",
       "3713  30010103310302 -2.229662  30.684815 -0.145  0.320  30010103310302\n",
       "3714  30010103203112 -2.317483  29.849853 -0.198  0.315  30010103203112\n",
       "\n",
       "[3715 rows x 6 columns]"
      ]
     },
     "execution_count": 18,
     "metadata": {},
     "output_type": "execute_result"
    }
   ],
   "source": [
    "FB_QKdata"
   ]
  },
  {
   "cell_type": "code",
   "execution_count": 19,
   "metadata": {},
   "outputs": [
    {
     "data": {
      "text/plain": [
       "geometry    geometry\n",
       "quadkey       object\n",
       "dtype: object"
      ]
     },
     "execution_count": 19,
     "metadata": {},
     "output_type": "execute_result"
    }
   ],
   "source": [
    "gdf.dtypes"
   ]
  },
  {
   "cell_type": "code",
   "execution_count": 20,
   "metadata": {},
   "outputs": [],
   "source": [
    "# change type of quadkey column to str\n",
    "gdf[\"quadkey\"] = gdf[\"quadkey\"].astype('str')"
   ]
  },
  {
   "cell_type": "code",
   "execution_count": 21,
   "metadata": {},
   "outputs": [],
   "source": [
    "# merge gdf and fb data\n",
    "gdf = gdf.merge(FB_QKdata, left_on = 'quadkey', right_on = 'quadkey1', how = 'inner')"
   ]
  },
  {
   "cell_type": "code",
   "execution_count": 22,
   "metadata": {},
   "outputs": [
    {
     "data": {
      "text/html": [
       "<div>\n",
       "<style scoped>\n",
       "    .dataframe tbody tr th:only-of-type {\n",
       "        vertical-align: middle;\n",
       "    }\n",
       "\n",
       "    .dataframe tbody tr th {\n",
       "        vertical-align: top;\n",
       "    }\n",
       "\n",
       "    .dataframe thead th {\n",
       "        text-align: right;\n",
       "    }\n",
       "</style>\n",
       "<table border=\"1\" class=\"dataframe\">\n",
       "  <thead>\n",
       "    <tr style=\"text-align: right;\">\n",
       "      <th></th>\n",
       "      <th>geometry</th>\n",
       "      <th>quadkey_x</th>\n",
       "      <th>quadkey_y</th>\n",
       "      <th>latitude</th>\n",
       "      <th>longitude</th>\n",
       "      <th>rwi</th>\n",
       "      <th>error</th>\n",
       "      <th>quadkey1</th>\n",
       "    </tr>\n",
       "  </thead>\n",
       "  <tbody>\n",
       "    <tr>\n",
       "      <th>3003</th>\n",
       "      <td>POLYGON ((30.43213 -1.77950, 30.43213 -1.80146...</td>\n",
       "      <td>30010103121003</td>\n",
       "      <td>30010103121003</td>\n",
       "      <td>-1.790480</td>\n",
       "      <td>30.443115</td>\n",
       "      <td>-0.261</td>\n",
       "      <td>0.334</td>\n",
       "      <td>30010103121003</td>\n",
       "    </tr>\n",
       "    <tr>\n",
       "      <th>3004</th>\n",
       "      <td>POLYGON ((29.55322 -1.49397, 29.55322 -1.51594...</td>\n",
       "      <td>30010103000201</td>\n",
       "      <td>30010103000201</td>\n",
       "      <td>-1.504954</td>\n",
       "      <td>29.564209</td>\n",
       "      <td>-0.407</td>\n",
       "      <td>0.456</td>\n",
       "      <td>30010103000201</td>\n",
       "    </tr>\n",
       "    <tr>\n",
       "      <th>3005</th>\n",
       "      <td>POLYGON ((30.45410 -2.04302, 30.45410 -2.06498...</td>\n",
       "      <td>30010103123212</td>\n",
       "      <td>30010103123212</td>\n",
       "      <td>-2.054003</td>\n",
       "      <td>30.465088</td>\n",
       "      <td>-0.098</td>\n",
       "      <td>0.306</td>\n",
       "      <td>30010103123212</td>\n",
       "    </tr>\n",
       "  </tbody>\n",
       "</table>\n",
       "</div>"
      ],
      "text/plain": [
       "                                               geometry       quadkey_x  \\\n",
       "3003  POLYGON ((30.43213 -1.77950, 30.43213 -1.80146...  30010103121003   \n",
       "3004  POLYGON ((29.55322 -1.49397, 29.55322 -1.51594...  30010103000201   \n",
       "3005  POLYGON ((30.45410 -2.04302, 30.45410 -2.06498...  30010103123212   \n",
       "\n",
       "           quadkey_y  latitude  longitude    rwi  error        quadkey1  \n",
       "3003  30010103121003 -1.790480  30.443115 -0.261  0.334  30010103121003  \n",
       "3004  30010103000201 -1.504954  29.564209 -0.407  0.456  30010103000201  \n",
       "3005  30010103123212 -2.054003  30.465088 -0.098  0.306  30010103123212  "
      ]
     },
     "execution_count": 22,
     "metadata": {},
     "output_type": "execute_result"
    }
   ],
   "source": [
    "gdf[3003:3006]"
   ]
  },
  {
   "cell_type": "code",
   "execution_count": 23,
   "metadata": {},
   "outputs": [
    {
     "data": {
      "text/plain": [
       "<AxesSubplot:>"
      ]
     },
     "execution_count": 23,
     "metadata": {},
     "output_type": "execute_result"
    },
    {
     "data": {
      "image/png": "[encoded data removed]",
      "text/plain": [
       "<Figure size 1440x1080 with 2 Axes>"
      ]
     },
     "metadata": {
      "needs_background": "light"
     },
     "output_type": "display_data"
    }
   ],
   "source": [
    "# plot choropleth map of RWI\n",
    "gdf.plot(column = 'rwi', cmap = 'PiYG', figsize = (20, 15), legend = True)"
   ]
  },
  {
   "cell_type": "code",
   "execution_count": 24,
   "metadata": {},
   "outputs": [
    {
     "data": {
      "text/plain": [
       "<AxesSubplot:>"
      ]
     },
     "execution_count": 24,
     "metadata": {},
     "output_type": "execute_result"
    },
    {
     "data": {
      "image/png": "[encoded data removed]",
      "text/plain": [
       "<Figure size 432x288 with 1 Axes>"
      ]
     },
     "metadata": {
      "needs_background": "light"
     },
     "output_type": "display_data"
    }
   ],
   "source": [
    "aoi.plot()"
   ]
  },
  {
   "cell_type": "code",
   "execution_count": 29,
   "metadata": {},
   "outputs": [],
   "source": [
    "# export to shapefile\n",
    "gdf_aoi = gpd.clip(gdf, aoi)"
   ]
  },
  {
   "cell_type": "code",
   "execution_count": 30,
   "metadata": {},
   "outputs": [],
   "source": [
    "gdf_aoi.to_file(\"output/FB_QK_data_rubavu.shp\")"
   ]
  },
  {
   "cell_type": "code",
   "execution_count": 31,
   "metadata": {},
   "outputs": [
    {
     "ename": "NameError",
     "evalue": "name 'gdf_aoi' is not defined",
     "output_type": "error",
     "traceback": [
      "\u001b[1;31m---------------------------------------------------------------------------\u001b[0m",
      "\u001b[1;31mNameError\u001b[0m                                 Traceback (most recent call last)",
      "\u001b[1;32m~\\AppData\\Local\\Temp/ipykernel_9264/1775507611.py\u001b[0m in \u001b[0;36m<module>\u001b[1;34m\u001b[0m\n\u001b[0;32m      1\u001b[0m \u001b[1;31m# produce summary stats\u001b[0m\u001b[1;33m\u001b[0m\u001b[1;33m\u001b[0m\u001b[1;33m\u001b[0m\u001b[0m\n\u001b[1;32m----> 2\u001b[1;33m \u001b[0mgdf_aoi\u001b[0m\u001b[1;33m.\u001b[0m\u001b[0mdescribe\u001b[0m\u001b[1;33m(\u001b[0m\u001b[1;33m)\u001b[0m\u001b[1;33m\u001b[0m\u001b[1;33m\u001b[0m\u001b[0m\n\u001b[0m",
      "\u001b[1;31mNameError\u001b[0m: name 'gdf_aoi' is not defined"
     ]
    }
   ],
   "source": [
    "# produce summary stats\n",
    "gdf_aoi.describe()"
   ]
  }
 ],
 "metadata": {
  "kernelspec": {
   "display_name": "cityscan_gpd_0.9",
   "language": "python",
   "name": "cityscan_gpd_0.9"
  },
  "language_info": {
   "codemirror_mode": {
    "name": "ipython",
    "version": 3
   },
   "file_extension": ".py",
   "mimetype": "text/x-python",
   "name": "python",
   "nbconvert_exporter": "python",
   "pygments_lexer": "ipython3",
   "version": "3.9.6"
  }
 },
 "nbformat": 4,
 "nbformat_minor": 4
}
